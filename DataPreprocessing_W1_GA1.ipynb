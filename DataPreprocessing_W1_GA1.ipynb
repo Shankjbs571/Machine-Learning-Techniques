{
  "nbformat": 4,
  "nbformat_minor": 0,
  "metadata": {
    "colab": {
      "provenance": [],
      "mount_file_id": "1nMx_8BozS74-Awp8XO4DNZCzNbtjUklm",
      "authorship_tag": "ABX9TyNS5I0Dv07Xxsbth2QRaNCm",
      "include_colab_link": true
    },
    "kernelspec": {
      "name": "python3",
      "display_name": "Python 3"
    },
    "language_info": {
      "name": "python"
    }
  },
  "cells": [
    {
      "cell_type": "markdown",
      "metadata": {
        "id": "view-in-github",
        "colab_type": "text"
      },
      "source": [
        "<a href=\"https://colab.research.google.com/github/Shankjbs571/Machine-Learning-Techniques/blob/main/DataPreprocessing_W1_GA1.ipynb\" target=\"_parent\"><img src=\"https://colab.research.google.com/assets/colab-badge.svg\" alt=\"Open In Colab\"/></a>"
      ]
    },
    {
      "cell_type": "code",
      "execution_count": 1,
      "metadata": {
        "id": "KO6uGQY4OMEy"
      },
      "outputs": [],
      "source": [
        "import pandas as pd\n",
        "import sklearn\n",
        "import numpy as np\n",
        "\n",
        "# from sklearn.preprocessing import\n",
        "from sklearn.impute import SimpleImputer\n",
        "from sklearn.impute import KNNImputer\n",
        "from sklearn.preprocessing import OneHotEncoder, OrdinalEncoder,StandardScaler\n",
        "from sklearn.pipeline import Pipeline, FeatureUnion\n",
        "from sklearn.compose import ColumnTransformer\n"
      ]
    },
    {
      "cell_type": "code",
      "source": [
        "from sklearn.feature_selection import VarianceThreshold, RFE\n",
        "from sklearn.linear_model import LogisticRegression"
      ],
      "metadata": {
        "id": "7255YKO8aghl"
      },
      "execution_count": 2,
      "outputs": []
    },
    {
      "cell_type": "code",
      "source": [
        "sklearn.__version__"
      ],
      "metadata": {
        "colab": {
          "base_uri": "https://localhost:8080/",
          "height": 36
        },
        "id": "wjz0AO3WVaVm",
        "outputId": "55a5aec3-3435-4d80-b606-e93372de43a6"
      },
      "execution_count": null,
      "outputs": [
        {
          "output_type": "execute_result",
          "data": {
            "text/plain": [
              "'1.2.2'"
            ],
            "application/vnd.google.colaboratory.intrinsic+json": {
              "type": "string"
            }
          },
          "metadata": {},
          "execution_count": 4
        }
      ]
    },
    {
      "cell_type": "code",
      "source": [
        "dataset = pd.read_csv('/content/drive/MyDrive/Colab Notebooks/Data/DataPreprocessingGraded_dataset (1).csv')\n",
        "dataset.info()"
      ],
      "metadata": {
        "colab": {
          "base_uri": "https://localhost:8080/"
        },
        "id": "AEZ3k7kKU-yI",
        "outputId": "98575057-3cd5-4a94-de4d-9e593e96e02f"
      },
      "execution_count": 77,
      "outputs": [
        {
          "output_type": "stream",
          "name": "stdout",
          "text": [
            "<class 'pandas.core.frame.DataFrame'>\n",
            "RangeIndex: 748 entries, 0 to 747\n",
            "Data columns (total 6 columns):\n",
            " #   Column  Non-Null Count  Dtype  \n",
            "---  ------  --------------  -----  \n",
            " 0   V1      748 non-null    object \n",
            " 1   V2      748 non-null    object \n",
            " 2   V3      748 non-null    float64\n",
            " 3   V4      748 non-null    float64\n",
            " 4   V5      748 non-null    object \n",
            " 5   Target  748 non-null    object \n",
            "dtypes: float64(2), object(4)\n",
            "memory usage: 35.2+ KB\n"
          ]
        }
      ]
    },
    {
      "cell_type": "code",
      "source": [
        "dataset.eq('?').sum()"
      ],
      "metadata": {
        "colab": {
          "base_uri": "https://localhost:8080/"
        },
        "id": "97TjJmTGwbkc",
        "outputId": "197bc403-46e1-4dc5-d51d-16f9915129a6"
      },
      "execution_count": 78,
      "outputs": [
        {
          "output_type": "execute_result",
          "data": {
            "text/plain": [
              "V1        5\n",
              "V2        5\n",
              "V3        0\n",
              "V4        0\n",
              "V5        0\n",
              "Target    0\n",
              "dtype: int64"
            ]
          },
          "metadata": {},
          "execution_count": 78
        }
      ]
    },
    {
      "cell_type": "code",
      "source": [
        "dataset.replace('?',np.nan,inplace=True)\n",
        "# dataset.replace('NEGATIVE',1,inplace=True)\n",
        "print(dataset.head())\n",
        "print(dataset.info())\n",
        "dataset['V5'].unique()"
      ],
      "metadata": {
        "colab": {
          "base_uri": "https://localhost:8080/"
        },
        "id": "QdL6YeX0bx7W",
        "outputId": "b14a9f29-e939-468f-f08f-06eb16c16884"
      },
      "execution_count": 79,
      "outputs": [
        {
          "output_type": "stream",
          "name": "stdout",
          "text": [
            "    V1    V2       V3    V4        V5 Target\n",
            "0  2.0  50.0  12500.0  98.0  NEGATIVE    YES\n",
            "1  0.0  13.0   3250.0  28.0  NEGATIVE    YES\n",
            "2  NaN   NaN   4000.0  35.0  NEGATIVE    YES\n",
            "3  NaN  20.0   5000.0  45.0  NEGATIVE    YES\n",
            "4  1.0  24.0   6000.0  77.0  NEGATIVE     NO\n",
            "<class 'pandas.core.frame.DataFrame'>\n",
            "RangeIndex: 748 entries, 0 to 747\n",
            "Data columns (total 6 columns):\n",
            " #   Column  Non-Null Count  Dtype  \n",
            "---  ------  --------------  -----  \n",
            " 0   V1      743 non-null    object \n",
            " 1   V2      743 non-null    object \n",
            " 2   V3      748 non-null    float64\n",
            " 3   V4      748 non-null    float64\n",
            " 4   V5      748 non-null    object \n",
            " 5   Target  748 non-null    object \n",
            "dtypes: float64(2), object(4)\n",
            "memory usage: 35.2+ KB\n",
            "None\n"
          ]
        },
        {
          "output_type": "execute_result",
          "data": {
            "text/plain": [
              "array(['NEGATIVE'], dtype=object)"
            ]
          },
          "metadata": {},
          "execution_count": 79
        }
      ]
    },
    {
      "cell_type": "code",
      "source": [
        "oe=OrdinalEncoder()\n",
        "encoded_columns = oe.fit_transform(dataset[['V5', 'Target']])\n",
        "print(type(encoded_columns))\n",
        "# # Convert the encoded columns to a DataFrame\n",
        "encoded_df = pd.DataFrame(encoded_columns, columns=oe.get_feature_names_out(['V5', 'Target']))\n",
        "print(encoded_df)\n",
        "\n",
        "si = SimpleImputer(strategy='mean')\n",
        "imputed_columns = si.fit_transform(dataset[['V1','V2']])\n",
        "print(type(imputed_columns))\n",
        "imputed_df = pd.DataFrame(imputed_columns, columns=si.get_feature_names_out(['V1', 'V2']))\n",
        "print(imputed_df)\n"
      ],
      "metadata": {
        "id": "1r1BPBvnVrtd",
        "colab": {
          "base_uri": "https://localhost:8080/"
        },
        "outputId": "a8e118f0-7acb-48cc-d261-e9a3e9958070"
      },
      "execution_count": 80,
      "outputs": [
        {
          "output_type": "stream",
          "name": "stdout",
          "text": [
            "<class 'numpy.ndarray'>\n",
            "      V5  Target\n",
            "0    0.0     1.0\n",
            "1    0.0     1.0\n",
            "2    0.0     1.0\n",
            "3    0.0     1.0\n",
            "4    0.0     0.0\n",
            "..   ...     ...\n",
            "743  0.0     0.0\n",
            "744  0.0     0.0\n",
            "745  0.0     0.0\n",
            "746  0.0     0.0\n",
            "747  0.0     0.0\n",
            "\n",
            "[748 rows x 2 columns]\n",
            "<class 'numpy.ndarray'>\n",
            "            V1         V2\n",
            "0     2.000000  50.000000\n",
            "1     0.000000  13.000000\n",
            "2     9.562584   5.464334\n",
            "3     9.562584  20.000000\n",
            "4     1.000000  24.000000\n",
            "..         ...        ...\n",
            "743  23.000000   2.000000\n",
            "744  21.000000   2.000000\n",
            "745  23.000000   3.000000\n",
            "746  39.000000   1.000000\n",
            "747  72.000000   1.000000\n",
            "\n",
            "[748 rows x 2 columns]\n"
          ]
        }
      ]
    },
    {
      "cell_type": "code",
      "source": [
        "# final_df = pd.concat([dataset, encoded_df], axis=1)\n",
        "# # Drop the original non-numeric columns\n",
        "print(dataset.info())\n",
        "\n",
        "dataset.drop(['V1','V2','V5', 'Target'], axis=1, inplace=True)\n",
        "print(dataset.info())\n",
        "concat_dataset = pd.concat([dataset, encoded_df,imputed_df], axis=1)\n",
        "print(concat_dataset.info())"
      ],
      "metadata": {
        "colab": {
          "base_uri": "https://localhost:8080/"
        },
        "id": "NQq2WhJXVneS",
        "outputId": "d0df46a1-c480-49f7-ccbf-a5dd616ec769"
      },
      "execution_count": 81,
      "outputs": [
        {
          "output_type": "stream",
          "name": "stdout",
          "text": [
            "<class 'pandas.core.frame.DataFrame'>\n",
            "RangeIndex: 748 entries, 0 to 747\n",
            "Data columns (total 6 columns):\n",
            " #   Column  Non-Null Count  Dtype  \n",
            "---  ------  --------------  -----  \n",
            " 0   V1      743 non-null    object \n",
            " 1   V2      743 non-null    object \n",
            " 2   V3      748 non-null    float64\n",
            " 3   V4      748 non-null    float64\n",
            " 4   V5      748 non-null    object \n",
            " 5   Target  748 non-null    object \n",
            "dtypes: float64(2), object(4)\n",
            "memory usage: 35.2+ KB\n",
            "None\n",
            "<class 'pandas.core.frame.DataFrame'>\n",
            "RangeIndex: 748 entries, 0 to 747\n",
            "Data columns (total 2 columns):\n",
            " #   Column  Non-Null Count  Dtype  \n",
            "---  ------  --------------  -----  \n",
            " 0   V3      748 non-null    float64\n",
            " 1   V4      748 non-null    float64\n",
            "dtypes: float64(2)\n",
            "memory usage: 11.8 KB\n",
            "None\n",
            "<class 'pandas.core.frame.DataFrame'>\n",
            "RangeIndex: 748 entries, 0 to 747\n",
            "Data columns (total 6 columns):\n",
            " #   Column  Non-Null Count  Dtype  \n",
            "---  ------  --------------  -----  \n",
            " 0   V3      748 non-null    float64\n",
            " 1   V4      748 non-null    float64\n",
            " 2   V5      748 non-null    float64\n",
            " 3   Target  748 non-null    float64\n",
            " 4   V1      748 non-null    float64\n",
            " 5   V2      748 non-null    float64\n",
            "dtypes: float64(6)\n",
            "memory usage: 35.2 KB\n",
            "None\n"
          ]
        }
      ]
    },
    {
      "cell_type": "code",
      "source": [
        "concat_dataset.head()"
      ],
      "metadata": {
        "colab": {
          "base_uri": "https://localhost:8080/",
          "height": 206
        },
        "id": "R_cMRhMMPqvW",
        "outputId": "220308c2-0a35-478f-f027-b0202ea2e90e"
      },
      "execution_count": 82,
      "outputs": [
        {
          "output_type": "execute_result",
          "data": {
            "text/plain": [
              "        V3    V4   V5  Target        V1         V2\n",
              "0  12500.0  98.0  0.0     1.0  2.000000  50.000000\n",
              "1   3250.0  28.0  0.0     1.0  0.000000  13.000000\n",
              "2   4000.0  35.0  0.0     1.0  9.562584   5.464334\n",
              "3   5000.0  45.0  0.0     1.0  9.562584  20.000000\n",
              "4   6000.0  77.0  0.0     0.0  1.000000  24.000000"
            ],
            "text/html": [
              "\n",
              "  <div id=\"df-e0f4c918-f3b1-47a1-ae4d-29a06c08b130\" class=\"colab-df-container\">\n",
              "    <div>\n",
              "<style scoped>\n",
              "    .dataframe tbody tr th:only-of-type {\n",
              "        vertical-align: middle;\n",
              "    }\n",
              "\n",
              "    .dataframe tbody tr th {\n",
              "        vertical-align: top;\n",
              "    }\n",
              "\n",
              "    .dataframe thead th {\n",
              "        text-align: right;\n",
              "    }\n",
              "</style>\n",
              "<table border=\"1\" class=\"dataframe\">\n",
              "  <thead>\n",
              "    <tr style=\"text-align: right;\">\n",
              "      <th></th>\n",
              "      <th>V3</th>\n",
              "      <th>V4</th>\n",
              "      <th>V5</th>\n",
              "      <th>Target</th>\n",
              "      <th>V1</th>\n",
              "      <th>V2</th>\n",
              "    </tr>\n",
              "  </thead>\n",
              "  <tbody>\n",
              "    <tr>\n",
              "      <th>0</th>\n",
              "      <td>12500.0</td>\n",
              "      <td>98.0</td>\n",
              "      <td>0.0</td>\n",
              "      <td>1.0</td>\n",
              "      <td>2.000000</td>\n",
              "      <td>50.000000</td>\n",
              "    </tr>\n",
              "    <tr>\n",
              "      <th>1</th>\n",
              "      <td>3250.0</td>\n",
              "      <td>28.0</td>\n",
              "      <td>0.0</td>\n",
              "      <td>1.0</td>\n",
              "      <td>0.000000</td>\n",
              "      <td>13.000000</td>\n",
              "    </tr>\n",
              "    <tr>\n",
              "      <th>2</th>\n",
              "      <td>4000.0</td>\n",
              "      <td>35.0</td>\n",
              "      <td>0.0</td>\n",
              "      <td>1.0</td>\n",
              "      <td>9.562584</td>\n",
              "      <td>5.464334</td>\n",
              "    </tr>\n",
              "    <tr>\n",
              "      <th>3</th>\n",
              "      <td>5000.0</td>\n",
              "      <td>45.0</td>\n",
              "      <td>0.0</td>\n",
              "      <td>1.0</td>\n",
              "      <td>9.562584</td>\n",
              "      <td>20.000000</td>\n",
              "    </tr>\n",
              "    <tr>\n",
              "      <th>4</th>\n",
              "      <td>6000.0</td>\n",
              "      <td>77.0</td>\n",
              "      <td>0.0</td>\n",
              "      <td>0.0</td>\n",
              "      <td>1.000000</td>\n",
              "      <td>24.000000</td>\n",
              "    </tr>\n",
              "  </tbody>\n",
              "</table>\n",
              "</div>\n",
              "    <div class=\"colab-df-buttons\">\n",
              "\n",
              "  <div class=\"colab-df-container\">\n",
              "    <button class=\"colab-df-convert\" onclick=\"convertToInteractive('df-e0f4c918-f3b1-47a1-ae4d-29a06c08b130')\"\n",
              "            title=\"Convert this dataframe to an interactive table.\"\n",
              "            style=\"display:none;\">\n",
              "\n",
              "  <svg xmlns=\"http://www.w3.org/2000/svg\" height=\"24px\" viewBox=\"0 -960 960 960\">\n",
              "    <path d=\"M120-120v-720h720v720H120Zm60-500h600v-160H180v160Zm220 220h160v-160H400v160Zm0 220h160v-160H400v160ZM180-400h160v-160H180v160Zm440 0h160v-160H620v160ZM180-180h160v-160H180v160Zm440 0h160v-160H620v160Z\"/>\n",
              "  </svg>\n",
              "    </button>\n",
              "\n",
              "  <style>\n",
              "    .colab-df-container {\n",
              "      display:flex;\n",
              "      gap: 12px;\n",
              "    }\n",
              "\n",
              "    .colab-df-convert {\n",
              "      background-color: #E8F0FE;\n",
              "      border: none;\n",
              "      border-radius: 50%;\n",
              "      cursor: pointer;\n",
              "      display: none;\n",
              "      fill: #1967D2;\n",
              "      height: 32px;\n",
              "      padding: 0 0 0 0;\n",
              "      width: 32px;\n",
              "    }\n",
              "\n",
              "    .colab-df-convert:hover {\n",
              "      background-color: #E2EBFA;\n",
              "      box-shadow: 0px 1px 2px rgba(60, 64, 67, 0.3), 0px 1px 3px 1px rgba(60, 64, 67, 0.15);\n",
              "      fill: #174EA6;\n",
              "    }\n",
              "\n",
              "    .colab-df-buttons div {\n",
              "      margin-bottom: 4px;\n",
              "    }\n",
              "\n",
              "    [theme=dark] .colab-df-convert {\n",
              "      background-color: #3B4455;\n",
              "      fill: #D2E3FC;\n",
              "    }\n",
              "\n",
              "    [theme=dark] .colab-df-convert:hover {\n",
              "      background-color: #434B5C;\n",
              "      box-shadow: 0px 1px 3px 1px rgba(0, 0, 0, 0.15);\n",
              "      filter: drop-shadow(0px 1px 2px rgba(0, 0, 0, 0.3));\n",
              "      fill: #FFFFFF;\n",
              "    }\n",
              "  </style>\n",
              "\n",
              "    <script>\n",
              "      const buttonEl =\n",
              "        document.querySelector('#df-e0f4c918-f3b1-47a1-ae4d-29a06c08b130 button.colab-df-convert');\n",
              "      buttonEl.style.display =\n",
              "        google.colab.kernel.accessAllowed ? 'block' : 'none';\n",
              "\n",
              "      async function convertToInteractive(key) {\n",
              "        const element = document.querySelector('#df-e0f4c918-f3b1-47a1-ae4d-29a06c08b130');\n",
              "        const dataTable =\n",
              "          await google.colab.kernel.invokeFunction('convertToInteractive',\n",
              "                                                    [key], {});\n",
              "        if (!dataTable) return;\n",
              "\n",
              "        const docLinkHtml = 'Like what you see? Visit the ' +\n",
              "          '<a target=\"_blank\" href=https://colab.research.google.com/notebooks/data_table.ipynb>data table notebook</a>'\n",
              "          + ' to learn more about interactive tables.';\n",
              "        element.innerHTML = '';\n",
              "        dataTable['output_type'] = 'display_data';\n",
              "        await google.colab.output.renderOutput(dataTable, element);\n",
              "        const docLink = document.createElement('div');\n",
              "        docLink.innerHTML = docLinkHtml;\n",
              "        element.appendChild(docLink);\n",
              "      }\n",
              "    </script>\n",
              "  </div>\n",
              "\n",
              "\n",
              "<div id=\"df-0a4f4ad6-d463-4e32-84bc-74d224073a65\">\n",
              "  <button class=\"colab-df-quickchart\" onclick=\"quickchart('df-0a4f4ad6-d463-4e32-84bc-74d224073a65')\"\n",
              "            title=\"Suggest charts\"\n",
              "            style=\"display:none;\">\n",
              "\n",
              "<svg xmlns=\"http://www.w3.org/2000/svg\" height=\"24px\"viewBox=\"0 0 24 24\"\n",
              "     width=\"24px\">\n",
              "    <g>\n",
              "        <path d=\"M19 3H5c-1.1 0-2 .9-2 2v14c0 1.1.9 2 2 2h14c1.1 0 2-.9 2-2V5c0-1.1-.9-2-2-2zM9 17H7v-7h2v7zm4 0h-2V7h2v10zm4 0h-2v-4h2v4z\"/>\n",
              "    </g>\n",
              "</svg>\n",
              "  </button>\n",
              "\n",
              "<style>\n",
              "  .colab-df-quickchart {\n",
              "      --bg-color: #E8F0FE;\n",
              "      --fill-color: #1967D2;\n",
              "      --hover-bg-color: #E2EBFA;\n",
              "      --hover-fill-color: #174EA6;\n",
              "      --disabled-fill-color: #AAA;\n",
              "      --disabled-bg-color: #DDD;\n",
              "  }\n",
              "\n",
              "  [theme=dark] .colab-df-quickchart {\n",
              "      --bg-color: #3B4455;\n",
              "      --fill-color: #D2E3FC;\n",
              "      --hover-bg-color: #434B5C;\n",
              "      --hover-fill-color: #FFFFFF;\n",
              "      --disabled-bg-color: #3B4455;\n",
              "      --disabled-fill-color: #666;\n",
              "  }\n",
              "\n",
              "  .colab-df-quickchart {\n",
              "    background-color: var(--bg-color);\n",
              "    border: none;\n",
              "    border-radius: 50%;\n",
              "    cursor: pointer;\n",
              "    display: none;\n",
              "    fill: var(--fill-color);\n",
              "    height: 32px;\n",
              "    padding: 0;\n",
              "    width: 32px;\n",
              "  }\n",
              "\n",
              "  .colab-df-quickchart:hover {\n",
              "    background-color: var(--hover-bg-color);\n",
              "    box-shadow: 0 1px 2px rgba(60, 64, 67, 0.3), 0 1px 3px 1px rgba(60, 64, 67, 0.15);\n",
              "    fill: var(--button-hover-fill-color);\n",
              "  }\n",
              "\n",
              "  .colab-df-quickchart-complete:disabled,\n",
              "  .colab-df-quickchart-complete:disabled:hover {\n",
              "    background-color: var(--disabled-bg-color);\n",
              "    fill: var(--disabled-fill-color);\n",
              "    box-shadow: none;\n",
              "  }\n",
              "\n",
              "  .colab-df-spinner {\n",
              "    border: 2px solid var(--fill-color);\n",
              "    border-color: transparent;\n",
              "    border-bottom-color: var(--fill-color);\n",
              "    animation:\n",
              "      spin 1s steps(1) infinite;\n",
              "  }\n",
              "\n",
              "  @keyframes spin {\n",
              "    0% {\n",
              "      border-color: transparent;\n",
              "      border-bottom-color: var(--fill-color);\n",
              "      border-left-color: var(--fill-color);\n",
              "    }\n",
              "    20% {\n",
              "      border-color: transparent;\n",
              "      border-left-color: var(--fill-color);\n",
              "      border-top-color: var(--fill-color);\n",
              "    }\n",
              "    30% {\n",
              "      border-color: transparent;\n",
              "      border-left-color: var(--fill-color);\n",
              "      border-top-color: var(--fill-color);\n",
              "      border-right-color: var(--fill-color);\n",
              "    }\n",
              "    40% {\n",
              "      border-color: transparent;\n",
              "      border-right-color: var(--fill-color);\n",
              "      border-top-color: var(--fill-color);\n",
              "    }\n",
              "    60% {\n",
              "      border-color: transparent;\n",
              "      border-right-color: var(--fill-color);\n",
              "    }\n",
              "    80% {\n",
              "      border-color: transparent;\n",
              "      border-right-color: var(--fill-color);\n",
              "      border-bottom-color: var(--fill-color);\n",
              "    }\n",
              "    90% {\n",
              "      border-color: transparent;\n",
              "      border-bottom-color: var(--fill-color);\n",
              "    }\n",
              "  }\n",
              "</style>\n",
              "\n",
              "  <script>\n",
              "    async function quickchart(key) {\n",
              "      const quickchartButtonEl =\n",
              "        document.querySelector('#' + key + ' button');\n",
              "      quickchartButtonEl.disabled = true;  // To prevent multiple clicks.\n",
              "      quickchartButtonEl.classList.add('colab-df-spinner');\n",
              "      try {\n",
              "        const charts = await google.colab.kernel.invokeFunction(\n",
              "            'suggestCharts', [key], {});\n",
              "      } catch (error) {\n",
              "        console.error('Error during call to suggestCharts:', error);\n",
              "      }\n",
              "      quickchartButtonEl.classList.remove('colab-df-spinner');\n",
              "      quickchartButtonEl.classList.add('colab-df-quickchart-complete');\n",
              "    }\n",
              "    (() => {\n",
              "      let quickchartButtonEl =\n",
              "        document.querySelector('#df-0a4f4ad6-d463-4e32-84bc-74d224073a65 button');\n",
              "      quickchartButtonEl.style.display =\n",
              "        google.colab.kernel.accessAllowed ? 'block' : 'none';\n",
              "    })();\n",
              "  </script>\n",
              "</div>\n",
              "\n",
              "    </div>\n",
              "  </div>\n"
            ]
          },
          "metadata": {},
          "execution_count": 82
        }
      ]
    },
    {
      "cell_type": "code",
      "source": [
        "# Extract feature columns (excluding the target column)\n",
        "feature_columns = [col for col in concat_dataset.columns if col != 'Target']\n",
        "\n",
        "# Apply VarianceThreshold to feature columns only\n",
        "selector = VarianceThreshold(threshold=0.1)\n",
        "selected_features = selector.fit_transform(concat_dataset[feature_columns])\n",
        "\n",
        "# Convert the selected features to a DataFrame\n",
        "selected_df = pd.DataFrame(selected_features, columns=concat_dataset[feature_columns].columns[selector.get_support()])\n",
        "print(selected_df.info())\n",
        "print(selected_df.head())"
      ],
      "metadata": {
        "colab": {
          "base_uri": "https://localhost:8080/"
        },
        "id": "zXNjp6DxXS4K",
        "outputId": "d2509b37-e10f-4c8e-a77d-ca1926ccb641"
      },
      "execution_count": 83,
      "outputs": [
        {
          "output_type": "stream",
          "name": "stdout",
          "text": [
            "<class 'pandas.core.frame.DataFrame'>\n",
            "RangeIndex: 748 entries, 0 to 747\n",
            "Data columns (total 4 columns):\n",
            " #   Column  Non-Null Count  Dtype  \n",
            "---  ------  --------------  -----  \n",
            " 0   V3      748 non-null    float64\n",
            " 1   V4      748 non-null    float64\n",
            " 2   V1      748 non-null    float64\n",
            " 3   V2      748 non-null    float64\n",
            "dtypes: float64(4)\n",
            "memory usage: 23.5 KB\n",
            "None\n",
            "        V3    V4        V1         V2\n",
            "0  12500.0  98.0  2.000000  50.000000\n",
            "1   3250.0  28.0  0.000000  13.000000\n",
            "2   4000.0  35.0  9.562584   5.464334\n",
            "3   5000.0  45.0  9.562584  20.000000\n",
            "4   6000.0  77.0  1.000000  24.000000\n"
          ]
        }
      ]
    },
    {
      "cell_type": "code",
      "source": [
        "# Create the RFE model and specify the number of features to select (in this case, 2)\n",
        "rfe = RFE(LogisticRegression(), n_features_to_select=2)\n",
        "\n",
        "# Fit the RFE model to the data\n",
        "# rfe.fit_transform(piped_dataset[:4],piped_dataset[5])\n",
        "selected_features = pd.DataFrame(rfe.fit_transform(concat_dataset[feature_columns],concat_dataset['Target']))\n",
        "print(selected_features.head())\n",
        "print()\n",
        "# Get the indices of the selected features\n",
        "# selected_features_indices = rfe.get_support(indices=True)\n",
        "\n",
        "# Get the names of the selected features\n",
        "# selected_features_names = piped_dataset.columns[selected_features_indices]\n",
        "\n",
        "# print(\"Selected features:\", selected_features_names)"
      ],
      "metadata": {
        "colab": {
          "base_uri": "https://localhost:8080/"
        },
        "id": "ix09L5GQg6Vk",
        "outputId": "41da0764-1fbf-4e2e-a4b3-40a4c8348712"
      },
      "execution_count": 87,
      "outputs": [
        {
          "output_type": "stream",
          "name": "stdout",
          "text": [
            "          0          1\n",
            "0  2.000000  50.000000\n",
            "1  0.000000  13.000000\n",
            "2  9.562584   5.464334\n",
            "3  9.562584  20.000000\n",
            "4  1.000000  24.000000\n"
          ]
        }
      ]
    },
    {
      "cell_type": "code",
      "source": [
        "from sklearn.feature_selection import SequentialFeatureSelector\n",
        "? SequentialFeatureSelector"
      ],
      "metadata": {
        "id": "Uz_6qWG1aoS0"
      },
      "execution_count": 88,
      "outputs": []
    },
    {
      "cell_type": "code",
      "source": [
        "# Create a Sequential Forward Selection object\n",
        "sfs = SequentialFeatureSelector(LogisticRegression(),\n",
        "          n_features_to_select=2,\n",
        "          direction='forward'\n",
        "          )\n",
        "# Get the indices of the selected features\n",
        "sfs.fit(concat_dataset[feature_columns],concat_dataset['Target'])\n",
        "selected_indices = sfs.get_support(indices=True)\n",
        "\n",
        "print(\"Indices of the two most important features:\", selected_indices)\n",
        "selected_sfs_features = pd.DataFrame(sfs.fit_transform(concat_dataset[feature_columns],concat_dataset['Target']))\n",
        "print(selected_sfs_features.head())"
      ],
      "metadata": {
        "colab": {
          "base_uri": "https://localhost:8080/"
        },
        "id": "m6RR60yLaEs6",
        "outputId": "55205f2d-3bdc-4be2-aa7c-ab1b55be047d"
      },
      "execution_count": 91,
      "outputs": [
        {
          "output_type": "stream",
          "name": "stdout",
          "text": [
            "Indices of the two most important features: [1 4]\n",
            "      0          1\n",
            "0  98.0  50.000000\n",
            "1  28.0  13.000000\n",
            "2  35.0   5.464334\n",
            "3  45.0  20.000000\n",
            "4  77.0  24.000000\n"
          ]
        }
      ]
    },
    {
      "cell_type": "code",
      "source": [
        "# Create a Sequential Forward Selection object\n",
        "sfs = SequentialFeatureSelector(LogisticRegression(),\n",
        "          n_features_to_select=2,\n",
        "          direction='backward'\n",
        "          )\n",
        "# Get the indices of the selected features\n",
        "sfs.fit(concat_dataset[feature_columns],concat_dataset['Target'])\n",
        "selected_indices = sfs.get_support(indices=True)\n",
        "\n",
        "print(\"Indices of the two most important features:\", selected_indices)\n",
        "selected_sfs_features = pd.DataFrame(sfs.fit_transform(concat_dataset[feature_columns],concat_dataset['Target']))\n",
        "print(selected_sfs_features.head())"
      ],
      "metadata": {
        "colab": {
          "base_uri": "https://localhost:8080/"
        },
        "id": "u2z8ihincxR_",
        "outputId": "e1706934-5601-4831-af83-c789d71fe044"
      },
      "execution_count": 92,
      "outputs": [
        {
          "output_type": "stream",
          "name": "stdout",
          "text": [
            "Indices of the two most important features: [0 1]\n",
            "         0     1\n",
            "0  12500.0  98.0\n",
            "1   3250.0  28.0\n",
            "2   4000.0  35.0\n",
            "3   5000.0  45.0\n",
            "4   6000.0  77.0\n"
          ]
        }
      ]
    }
  ]
}