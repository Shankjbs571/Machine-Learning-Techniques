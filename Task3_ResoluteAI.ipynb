{
  "nbformat": 4,
  "nbformat_minor": 0,
  "metadata": {
    "colab": {
      "provenance": [],
      "mount_file_id": "1Mxyczqrn-mPAJhjZ7VnaO1UGIraJOfl9",
      "authorship_tag": "ABX9TyNRYUFlPFhV67vFlspfcjWF",
      "include_colab_link": true
    },
    "kernelspec": {
      "name": "python3",
      "display_name": "Python 3"
    },
    "language_info": {
      "name": "python"
    }
  },
  "cells": [
    {
      "cell_type": "markdown",
      "metadata": {
        "id": "view-in-github",
        "colab_type": "text"
      },
      "source": [
        "<a href=\"https://colab.research.google.com/github/Shankjbs571/Machine-Learning-Techniques/blob/main/Task3_ResoluteAI.ipynb\" target=\"_parent\"><img src=\"https://colab.research.google.com/assets/colab-badge.svg\" alt=\"Open In Colab\"/></a>"
      ]
    },
    {
      "cell_type": "code",
      "execution_count": 1,
      "metadata": {
        "id": "sjLOMKOHQB7M"
      },
      "outputs": [],
      "source": [
        "import pandas as pd\n",
        "import sklearn\n",
        "import numpy as np\n"
      ]
    },
    {
      "cell_type": "code",
      "source": [
        "rawdata = pd.read_csv('/content/drive/MyDrive/Colab Notebooks/Data/ResoluteAI/rawdata - inputsheet.csv')"
      ],
      "metadata": {
        "id": "K_e-tEcJRSaV"
      },
      "execution_count": 2,
      "outputs": []
    },
    {
      "cell_type": "code",
      "source": [
        "print(rawdata.info())\n",
        "print(rawdata.head())\n"
      ],
      "metadata": {
        "colab": {
          "base_uri": "https://localhost:8080/"
        },
        "id": "z-bX67RoRiXA",
        "outputId": "001b6f0a-e289-4675-dee5-df9a089ca6bd"
      },
      "execution_count": 4,
      "outputs": [
        {
          "output_type": "stream",
          "name": "stdout",
          "text": [
            "<class 'pandas.core.frame.DataFrame'>\n",
            "RangeIndex: 175 entries, 0 to 174\n",
            "Data columns (total 8 columns):\n",
            " #   Column      Non-Null Count  Dtype  \n",
            "---  ------      --------------  -----  \n",
            " 0   date        175 non-null    object \n",
            " 1   time        175 non-null    object \n",
            " 2   sensor      174 non-null    float64\n",
            " 3   location    175 non-null    object \n",
            " 4   number      175 non-null    int64  \n",
            " 5   activity    175 non-null    object \n",
            " 6   position    175 non-null    object \n",
            " 7   location.1  175 non-null    object \n",
            "dtypes: float64(1), int64(1), object(6)\n",
            "memory usage: 11.1+ KB\n",
            "None\n",
            "        date         time  sensor location  number activity position  \\\n",
            "0  1/16/2024  10:10:30 AM     0.0       A1       1   placed   inside   \n",
            "1  1/16/2024  10:12:30 AM     1.0       A2       1   picked   inside   \n",
            "2  1/16/2024  10:28:30 AM     1.0       A3       1   picked   Inside   \n",
            "3  1/16/2024  10:38:20 AM     0.0       A4       1   placed   Inside   \n",
            "4  1/16/2024  10:45:20 AM     1.0       A5       1   placed   inside   \n",
            "\n",
            "  location.1  \n",
            "0         A1  \n",
            "1         A2  \n",
            "2         A3  \n",
            "3         A4  \n",
            "4         A5  \n"
          ]
        }
      ]
    },
    {
      "cell_type": "code",
      "source": [
        "import pandas as pd\n",
        "\n",
        "# Sample rawdata DataFrame\n",
        "rawdatacopy = rawdata.copy()\n",
        "\n",
        "# Convert date and time columns to datetime\n",
        "rawdatacopy['datetime'] = pd.to_datetime(rawdatacopy['date'] + ' ' + rawdatacopy['time'])\n",
        "\n",
        "# Calculate duration for each activity\n",
        "rawdatacopy['duration'] = rawdatacopy.groupby('number')['datetime'].diff().fillna(pd.Timedelta(seconds=0))\n",
        "\n",
        "# Convert duration to seconds for easier manipulation\n",
        "rawdatacopy['duration_sec'] = rawdatacopy['duration'].dt.total_seconds()\n",
        "\n",
        "# Group by date and position to calculate total duration and count\n",
        "result = rawdatacopy.groupby(['date', 'position']).agg({\n",
        "    'duration_sec': 'sum',\n",
        "    'activity': 'count'\n",
        "}).reset_index()\n",
        "\n",
        "# Renaming columns for clarity\n",
        "result = result.rename(columns={\n",
        "    'duration_sec': 'total_duration_sec',\n",
        "    'activity': 'activity_count'\n",
        "})\n",
        "\n",
        "print(result)\n"
      ],
      "metadata": {
        "colab": {
          "base_uri": "https://localhost:8080/"
        },
        "id": "MWxU944PSTrg",
        "outputId": "d10ce013-5c49-4147-b51c-be4ce7521aec"
      },
      "execution_count": 6,
      "outputs": [
        {
          "output_type": "stream",
          "name": "stdout",
          "text": [
            "        date position  total_duration_sec  activity_count\n",
            "0  1/16/2024   Inside              1550.0               2\n",
            "1  1/16/2024   inside            -32280.0              78\n",
            "2  1/17/2024   inside            134700.0              19\n",
            "3  1/18/2024   Inside              9913.0              13\n",
            "4  1/18/2024   inside            186337.0              59\n",
            "5  1/18/2024  outside              1940.0               4\n"
          ]
        }
      ]
    },
    {
      "cell_type": "code",
      "source": [
        "#@title Streamlit Task 3 code\n",
        "import streamlit as st\n",
        "import pandas as pd\n",
        "\n",
        "# Function to perform data processing\n",
        "def process_data(rawdata):\n",
        "    # Make a copy of the dataframe\n",
        "    rawdatacopy = rawdata.copy()\n",
        "\n",
        "    # Convert date and time columns to datetime\n",
        "    rawdatacopy['datetime'] = pd.to_datetime(rawdatacopy['date'] + ' ' + rawdatacopy['time'])\n",
        "\n",
        "    # Calculate duration for each activity\n",
        "    rawdatacopy['duration'] = rawdatacopy.groupby('number')['datetime'].diff().fillna(pd.Timedelta(seconds=0))\n",
        "\n",
        "    # Convert duration to seconds for easier manipulation\n",
        "    rawdatacopy['duration_sec'] = rawdatacopy['duration'].dt.total_seconds()\n",
        "\n",
        "    # Group by date and position to calculate total duration and count\n",
        "    result = rawdatacopy.groupby(['date', 'position']).agg({\n",
        "        'duration_sec': 'sum',\n",
        "        'activity': 'count'\n",
        "    }).reset_index()\n",
        "\n",
        "    # Renaming columns for clarity\n",
        "    result = result.rename(columns={\n",
        "        'duration_sec': 'total_duration_sec',\n",
        "        'activity': 'activity_count'\n",
        "    })\n",
        "\n",
        "    return result\n",
        "\n",
        "# Main Streamlit app\n",
        "def main():\n",
        "    st.title('Data Processing')\n",
        "\n",
        "    # Upload CSV file\n",
        "    uploaded_file = st.file_uploader(\"Upload CSV file\", type=['csv'])\n",
        "\n",
        "    if uploaded_file is not None:\n",
        "        # Read the uploaded CSV file into a pandas dataframe\n",
        "        rawdata = pd.read_csv(uploaded_file)\n",
        "\n",
        "        # Process the data\n",
        "        result = process_data(rawdata)\n",
        "\n",
        "        # Display the processed results\n",
        "        st.write(\"Processed Data:\")\n",
        "        st.write(result)\n",
        "\n",
        "# Run the Streamlit app\n",
        "if __name__ == '__main__':\n",
        "    main()\n"
      ],
      "metadata": {
        "id": "89mRjVfy6wdU"
      },
      "execution_count": null,
      "outputs": []
    }
  ]
}