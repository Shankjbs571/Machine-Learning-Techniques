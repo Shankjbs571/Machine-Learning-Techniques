{
  "nbformat": 4,
  "nbformat_minor": 0,
  "metadata": {
    "colab": {
      "provenance": [],
      "include_colab_link": true
    },
    "kernelspec": {
      "name": "python3",
      "display_name": "Python 3"
    },
    "language_info": {
      "name": "python"
    }
  },
  "cells": [
    {
      "cell_type": "markdown",
      "metadata": {
        "id": "view-in-github",
        "colab_type": "text"
      },
      "source": [
        "<a href=\"https://colab.research.google.com/github/Shankjbs571/Machine-Learning-Techniques/blob/main/Copy_of_Week_7.ipynb\" target=\"_parent\"><img src=\"https://colab.research.google.com/assets/colab-badge.svg\" alt=\"Open In Colab\"/></a>"
      ]
    },
    {
      "cell_type": "markdown",
      "source": [
        "# Week-7\n",
        "\n",
        "Decision trees and KNN"
      ],
      "metadata": {
        "id": "Hm4lwMrrh0yb"
      }
    },
    {
      "cell_type": "code",
      "execution_count": null,
      "metadata": {
        "id": "AZVFrUKc4UVr"
      },
      "outputs": [],
      "source": [
        "import warnings\n",
        "warnings.filterwarnings('ignore')\n",
        "import numpy as np\n",
        "import matplotlib.pyplot as plt\n",
        "plt.rcParams['figure.figsize'] = [8, 8]\n",
        "plt.rcParams['font.size'] = 15"
      ]
    },
    {
      "cell_type": "markdown",
      "source": [
        "## Decision Trees\n",
        "\n",
        "**Decision stumps**\n",
        "\n",
        "A decision stump is a decision tree that has a single question at the root node which splits into two leaf nodes. A decision stump partitions the dataset based on a single question: $f_k < \\theta$. This is therefore the simplest decision tree that we can come up with.\n",
        "\n",
        "---\n",
        "Use the following decision stump for problems 1 and 3: The root has $1000$ data-points out of which $200$ belong to class-1. The left child-node has $100$ data-points out of which $50$ belong to class-1."
      ],
      "metadata": {
        "id": "WctSnAq5QBmf"
      }
    },
    {
      "cell_type": "markdown",
      "source": [
        "### Problem-1\n",
        "\n",
        "Write a function `entropy` that accepts the proportion of points that belong to class-1 in a node as argument and returns the entropy. Use $\\log_2$ for all computations.\n",
        "\n",
        "Use this function to compute the entropy of the parent node."
      ],
      "metadata": {
        "id": "OX_F8gOblsuc"
      }
    },
    {
      "cell_type": "code",
      "source": [
        "### Solution ###"
      ],
      "metadata": {
        "id": "yIhs98pPlsEM"
      },
      "execution_count": null,
      "outputs": []
    },
    {
      "cell_type": "markdown",
      "source": [
        "### Problem-2\n",
        "\n",
        "Plot the entropy of a node as a function of $p$, the proportion of data-points that belong to class $+1$."
      ],
      "metadata": {
        "id": "vYx5EsgAduY6"
      }
    },
    {
      "cell_type": "code",
      "source": [
        "### Solution ###"
      ],
      "metadata": {
        "id": "3a_4d90t5mh8"
      },
      "execution_count": null,
      "outputs": []
    },
    {
      "cell_type": "markdown",
      "source": [
        "### Problem-3\n",
        "\n",
        "Write a function `IG` that accepts the following arguments:\n",
        "\n",
        "- `E`: entropy of the parent node `Q`\n",
        "- `El`: entropy of the left child `L`\n",
        "- `Er`: entropy of the right child `R`\n",
        "- `gamma`: proportion of data-points in left child\n",
        "\n",
        "Use this function to compute the information gain for the parent node."
      ],
      "metadata": {
        "id": "PaPjfFluASSO"
      }
    },
    {
      "cell_type": "code",
      "source": [
        "### Solution ###"
      ],
      "metadata": {
        "id": "HsEu0bE1hA0T"
      },
      "execution_count": null,
      "outputs": []
    },
    {
      "cell_type": "markdown",
      "source": [
        "### Problem-4\n",
        "\n",
        "Consider a decision stump with $1000$ data-points. Call the root node $Q$ and the left and right leaf nodes $L$ and $R$.\n",
        "\n",
        "- The proportion of data-points that belong to class $+1$ in $Q$ is equal to $0.4$\n",
        "- The proportion of points in the left node is equal to $0.7$, that is, $\\gamma = 0.7$\n",
        "-  $q$ is the proportion of data-points that belong to class $+1$ in $L$\n",
        "\n",
        "What are the minimum ($q_{\\min}$) and maximum ($q_{\\max}$) values of $q$?"
      ],
      "metadata": {
        "id": "YCpcROY1is-6"
      }
    },
    {
      "cell_type": "code",
      "source": [
        "### Solution ###"
      ],
      "metadata": {
        "id": "6PpGBYrH4o-E"
      },
      "execution_count": null,
      "outputs": []
    },
    {
      "cell_type": "markdown",
      "source": [
        "### Problem-5\n",
        "\n",
        "Using the above information, plot the information gain of the root as a function of $q$, where $q \\in [q_{\\min}, q_{\\max}]$. Record at least two interesting observations."
      ],
      "metadata": {
        "id": "tR93SsP9rMnV"
      }
    },
    {
      "cell_type": "code",
      "source": [
        "### Solution ###"
      ],
      "metadata": {
        "id": "EkncywO_rWcO"
      },
      "execution_count": null,
      "outputs": []
    },
    {
      "cell_type": "markdown",
      "source": [
        "### Problem-6\n",
        "\n",
        "We will work with the dataset `X` for the next five problems. Visualize the data using a scatter plot. Color the points that belong to class $+1$ using \"green\" and those that belong to class $0$ using \"red\"."
      ],
      "metadata": {
        "id": "qGq8GlsJ--4h"
      }
    },
    {
      "cell_type": "code",
      "source": [
        "### Data ###\n",
        "### DO NOT CHANGE THE CONTENTS OF THIS CELL ###\n",
        "rng = np.random.default_rng(seed = 1001)\n",
        "n_per = 50\n",
        "cov = np.eye(2) / 10\n",
        "X1 = rng.multivariate_normal([1, 1], cov, n_per)\n",
        "y1 = np.ones(n_per)\n",
        "X2 = rng.multivariate_normal([5, 3], cov , n_per)\n",
        "y2 = np.zeros(n_per)\n",
        "X3 = rng.multivariate_normal([3, 4], cov, n_per)\n",
        "y3 = np.ones(n_per)\n",
        "X4 = rng.multivariate_normal([3, 2], cov, n_per)\n",
        "y4 = np.zeros(n_per)\n",
        "X = np.concatenate((X1, X2, X3, X4), axis = 0)\n",
        "y = np.int64(np.concatenate((y1, y2, y3, y4)))\n",
        "### DO NOT CHANGE THE CONTENTS OF THIS CELL ###"
      ],
      "metadata": {
        "id": "DsEKK-UbwTc4"
      },
      "execution_count": null,
      "outputs": []
    },
    {
      "cell_type": "code",
      "source": [
        "### Solution ###"
      ],
      "metadata": {
        "id": "Lk2GYUjc_Yww"
      },
      "execution_count": null,
      "outputs": []
    },
    {
      "cell_type": "markdown",
      "source": [
        "### Problem-7\n",
        "\n",
        "If you were to use a decision stump as a classifier:\n",
        "\n",
        "- What is the best question $f_k < \\theta$?\n",
        "    - enter the feature index, $k$ (use zero-indexing)\n",
        "    - enter the value of $\\theta$\n",
        "- What is the information gain for this question?\n",
        "\n",
        "---\n",
        "\n",
        "Write the function named `best_split` to solve this problem:\n",
        "\n",
        "The function should accept the feature matrix `X` and the label vector `y` as arguements. It should return the tuple `(feat_best, value_best, ig_best)`."
      ],
      "metadata": {
        "id": "InlX7rNVIphZ"
      }
    },
    {
      "cell_type": "code",
      "source": [
        "### Solution ###"
      ],
      "metadata": {
        "id": "xSftydbp7QwP"
      },
      "execution_count": null,
      "outputs": []
    },
    {
      "cell_type": "markdown",
      "source": [
        "### Problem-8\n",
        "\n",
        "Grow a decision tree for this problem. You may have to use two programming concepts:\n",
        "\n",
        "- recursion\n",
        "- binary trees\n",
        "\n",
        "Once you have grown the tree, answer the following questions:\n",
        "\n",
        "- How many internal nodes does your tree have?\n",
        "- How many leaf nodes does it have?"
      ],
      "metadata": {
        "id": "rhHhGLk-Jqt_"
      }
    },
    {
      "cell_type": "code",
      "source": [
        "### Solution ###"
      ],
      "metadata": {
        "id": "if-LnthdJvqK"
      },
      "execution_count": null,
      "outputs": []
    },
    {
      "cell_type": "markdown",
      "source": [
        "### Problem-9\n",
        "\n",
        "Predict the label of the point $(3, 4)$."
      ],
      "metadata": {
        "id": "KbVhwgIvR8GW"
      }
    },
    {
      "cell_type": "code",
      "source": [
        "### Solution ###"
      ],
      "metadata": {
        "id": "9cXhGZElR7Q1"
      },
      "execution_count": null,
      "outputs": []
    },
    {
      "cell_type": "markdown",
      "source": [
        "### Problem-10\n",
        "\n",
        "Plot the decision boundary."
      ],
      "metadata": {
        "id": "ACsaTfEGQDc3"
      }
    },
    {
      "cell_type": "code",
      "source": [
        "### Solution ###"
      ],
      "metadata": {
        "id": "PKtDTObYQBi0"
      },
      "execution_count": null,
      "outputs": []
    },
    {
      "cell_type": "markdown",
      "source": [
        "## KNN\n"
      ],
      "metadata": {
        "id": "wIAdvHQR8UiT"
      }
    },
    {
      "cell_type": "code",
      "source": [
        "### Data ###\n",
        "### DO NOT EDIT THIS CELL ###\n",
        "rng = np.random.default_rng(seed = 1001)\n",
        "X = rng.uniform(-10, 10, (100, 2))\n",
        "y = np.int32(np.zeros(X.shape[0]))\n",
        "y[X[:, 1] > X[:, 0]] = 1\n",
        "X = np.concatenate((X,\n",
        "                   rng.multivariate_normal([-5, 5], np.eye(2), 10)),\n",
        "                   axis = 0)\n",
        "y = np.concatenate((y, np.int32(np.zeros(10))))\n",
        "### DO NOT EDIT THIS CELL ###"
      ],
      "metadata": {
        "id": "0lVq69fa6djq"
      },
      "execution_count": null,
      "outputs": []
    },
    {
      "cell_type": "markdown",
      "source": [
        "### Problem-11\n",
        "\n",
        "Visualize the data using a scatter plot. Use red for class $0$ and green for class $1$."
      ],
      "metadata": {
        "id": "p7p3QldQBt5p"
      }
    },
    {
      "cell_type": "code",
      "source": [
        "### Solution ###"
      ],
      "metadata": {
        "id": "Wk3zlJo8B5En"
      },
      "execution_count": null,
      "outputs": []
    },
    {
      "cell_type": "markdown",
      "source": [
        "### Problem-12\n",
        "\n",
        "Write a function `predict` that accepts the following arguments:\n",
        "\n",
        "- `X` - feature matrix\n",
        "- `y` - label vector\n",
        "- `x_test` - test data-point\n",
        "- `k` - number of neighbors\n",
        "\n",
        "The function should return the prediction for the point `x_test`. Use this function to compute the predicted label for the point $(-3, -2)$ with $k = 10$."
      ],
      "metadata": {
        "id": "ql3m3wzRB-L2"
      }
    },
    {
      "cell_type": "code",
      "source": [
        "### Solution ###"
      ],
      "metadata": {
        "id": "9bJnmotK8ceV"
      },
      "execution_count": null,
      "outputs": []
    },
    {
      "cell_type": "markdown",
      "source": [
        "### Problem-13\n",
        "\n",
        "Plot the decision boundary for different values of $k$:\n",
        "\n",
        "- $k = 1$\n",
        "- $k = 3$\n",
        "- $k = 7$\n",
        "- $k = 15$\n",
        "- $k = 31$\n",
        "- $k = 63$\n",
        "\n",
        "Record at least two observations."
      ],
      "metadata": {
        "id": "e-K2aYK5CggC"
      }
    },
    {
      "cell_type": "code",
      "source": [
        "### Solution ###"
      ],
      "metadata": {
        "id": "zuhvv1_o-Bvd"
      },
      "execution_count": null,
      "outputs": []
    }
  ]
}