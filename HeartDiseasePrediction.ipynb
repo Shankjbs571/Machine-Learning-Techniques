{
  "nbformat": 4,
  "nbformat_minor": 0,
  "metadata": {
    "colab": {
      "provenance": [],
      "mount_file_id": "1S-3hLLKht1reH5ndx-MH9Wcr_o0WzX2-",
      "authorship_tag": "ABX9TyON8R14dDZRzEVitRUbriLK",
      "include_colab_link": true
    },
    "kernelspec": {
      "name": "python3",
      "display_name": "Python 3"
    },
    "language_info": {
      "name": "python"
    }
  },
  "cells": [
    {
      "cell_type": "markdown",
      "metadata": {
        "id": "view-in-github",
        "colab_type": "text"
      },
      "source": [
        "<a href=\"https://colab.research.google.com/github/Shankjbs571/Machine-Learning-Techniques/blob/main/HeartDiseasePrediction.ipynb\" target=\"_parent\"><img src=\"https://colab.research.google.com/assets/colab-badge.svg\" alt=\"Open In Colab\"/></a>"
      ]
    },
    {
      "cell_type": "code",
      "execution_count": 35,
      "metadata": {
        "id": "2qtCXrZlhmuI"
      },
      "outputs": [],
      "source": [
        "import pandas as pd\n",
        "from sklearn.linear_model import LogisticRegression\n",
        "from sklearn.metrics import classification_report, confusion_matrix,accuracy_score,precision_score,recall_score"
      ]
    },
    {
      "cell_type": "code",
      "source": [
        "X_train_filepath = '/content/drive/MyDrive/Colab Notebooks/Data/GA 3 DATA SET/X_train.xlsx'\n",
        "y_train_filepath = '/content/drive/MyDrive/Colab Notebooks/Data/GA 3 DATA SET/Y_train.xlsx'\n",
        "\n",
        "X_test_filepath = '/content/drive/MyDrive/Colab Notebooks/Data/GA 3 DATA SET/X_test.xlsx'\n",
        "y_test_filepath = '/content/drive/MyDrive/Colab Notebooks/Data/GA 3 DATA SET/Y_test.xlsx'\n",
        "\n",
        "\n",
        "# Loading training data\n",
        "X_train = pd.read_excel(X_train_filepath)\n",
        "y_train = pd.read_excel(y_train_filepath)\n",
        "\n",
        "# Loading test data\n",
        "X_test = pd.read_excel(X_test_filepath)\n",
        "y_test = pd.read_excel(y_test_filepath)\n"
      ],
      "metadata": {
        "id": "F3YKNCIsq4G0"
      },
      "execution_count": 2,
      "outputs": []
    },
    {
      "cell_type": "code",
      "source": [
        "print(X_train.shape)\n",
        "print(y_train.shape)\n",
        "print(X_test.shape)\n",
        "print(y_test.shape)\n",
        "num_observations = X_train.shape[0]\n",
        "print(f\"Number of observations in the training data: {num_observations}\")"
      ],
      "metadata": {
        "id": "7YezGCFEsDn_",
        "outputId": "179cfcc7-2773-451a-96a1-2dc07bb36db9",
        "colab": {
          "base_uri": "https://localhost:8080/"
        }
      },
      "execution_count": 5,
      "outputs": [
        {
          "output_type": "stream",
          "name": "stdout",
          "text": [
            "(212, 14)\n",
            "(212, 2)\n",
            "(91, 14)\n",
            "(91, 2)\n",
            "Number of observations in the training data: 212\n"
          ]
        }
      ]
    },
    {
      "cell_type": "code",
      "source": [
        "heart_healthy = y_train[y_train['target'] == 0]\n",
        "heart_patient = y_train[y_train['target'] == 1]\n",
        "\n",
        "print(f\"Number of patients with heart disease: {len(heart_patient)}\")\n",
        "print(f\"Number of patients without heart disease: {len(heart_healthy)}\")\n",
        "total_patients = len(y_train)\n",
        "print(total_patients)"
      ],
      "metadata": {
        "id": "A4Wz64M3suRJ",
        "outputId": "bbc2f3e9-3af8-4c18-ec17-cc55595e0626",
        "colab": {
          "base_uri": "https://localhost:8080/"
        }
      },
      "execution_count": 14,
      "outputs": [
        {
          "output_type": "stream",
          "name": "stdout",
          "text": [
            "Number of patients with heart disease: 124\n",
            "Number of patients without heart disease: 88\n",
            "212\n"
          ]
        }
      ]
    },
    {
      "cell_type": "code",
      "source": [
        "num_heart_patient = len(heart_patient)\n",
        "num_heart_healthy = len(heart_healthy)\n",
        "\n",
        "total_patients = len(y_train)\n",
        "\n",
        "proportion_heart_disease = num_heart_patient / total_patients\n",
        "proportion_heart_healty = num_heart_healthy / total_patients\n",
        "\n",
        "print(f\"Proportion of patients with heart disease: {proportion_heart_disease}\")\n",
        "print(f\"Proportion of patients with healthy heart: {proportion_heart_healty}\")"
      ],
      "metadata": {
        "id": "avDj1sRjtoW8",
        "outputId": "2a0588ff-aabc-44a0-a6b7-734c647c8133",
        "colab": {
          "base_uri": "https://localhost:8080/"
        }
      },
      "execution_count": 17,
      "outputs": [
        {
          "output_type": "stream",
          "name": "stdout",
          "text": [
            "Proportion of patients with heart disease: 0.5849056603773585\n",
            "Proportion of patients with healthy heart: 0.41509433962264153\n"
          ]
        }
      ]
    },
    {
      "cell_type": "code",
      "source": [
        "heart_healthy_test = y_test[y_test['target'] == 0]\n",
        "heart_patient_test = y_test[y_test['target'] == 1]\n",
        "\n",
        "print(f\"Number of patients with heart disease in test dataset: {len(heart_patient_test)}\")\n",
        "print(f\"Number of patients without heart disease in test dataset: {len(heart_healthy_test)}\")\n",
        "total_patients_test = len(y_test)\n",
        "print(total_patients_test)\n",
        "\n",
        "num_heart_patient_test = len(heart_patient_test)\n",
        "num_heart_healthy_test = len(heart_healthy_test)\n",
        "\n",
        "proportion_heart_disease_test = num_heart_patient_test / total_patients_test\n",
        "\n",
        "print(f\"Proportion of patients with heart disease in test dataset: {proportion_heart_disease_test}\")\n",
        "\n",
        "proportion_heart_healthy_test = num_heart_healthy_test / total_patients_test\n",
        "\n",
        "print(f\"Proportion of patients with healthy heart in test dataset: {proportion_heart_healthy_test}\")"
      ],
      "metadata": {
        "id": "CNbi-mHot-DH",
        "outputId": "d3c6a395-317a-4b26-9c51-c9996ad61de0",
        "colab": {
          "base_uri": "https://localhost:8080/"
        }
      },
      "execution_count": 16,
      "outputs": [
        {
          "output_type": "stream",
          "name": "stdout",
          "text": [
            "Number of patients with heart disease in test dataset: 41\n",
            "Number of patients without heart disease in test dataset: 50\n",
            "91\n",
            "Proportion of patients with heart disease in test dataset: 0.45054945054945056\n",
            "Proportion of patients with healthy heart in test dataset: 0.5494505494505495\n"
          ]
        }
      ]
    },
    {
      "cell_type": "code",
      "source": [
        "y_test\n"
      ],
      "metadata": {
        "collapsed": true,
        "id": "KSroWhy61FHg",
        "outputId": "15957554-d05f-4617-94be-57dc193d6e91",
        "colab": {
          "base_uri": "https://localhost:8080/",
          "height": 424
        }
      },
      "execution_count": 38,
      "outputs": [
        {
          "output_type": "execute_result",
          "data": {
            "text/plain": [
              "    Unnamed: 0  target\n",
              "0          246       0\n",
              "1          183       0\n",
              "2          229       0\n",
              "3          126       1\n",
              "4          184       0\n",
              "..         ...     ...\n",
              "86          69       1\n",
              "87          21       1\n",
              "88         210       0\n",
              "89          78       1\n",
              "90         174       0\n",
              "\n",
              "[91 rows x 2 columns]"
            ],
            "text/html": [
              "\n",
              "  <div id=\"df-5cdf13f9-cd7d-490b-a460-e39f480875cd\" class=\"colab-df-container\">\n",
              "    <div>\n",
              "<style scoped>\n",
              "    .dataframe tbody tr th:only-of-type {\n",
              "        vertical-align: middle;\n",
              "    }\n",
              "\n",
              "    .dataframe tbody tr th {\n",
              "        vertical-align: top;\n",
              "    }\n",
              "\n",
              "    .dataframe thead th {\n",
              "        text-align: right;\n",
              "    }\n",
              "</style>\n",
              "<table border=\"1\" class=\"dataframe\">\n",
              "  <thead>\n",
              "    <tr style=\"text-align: right;\">\n",
              "      <th></th>\n",
              "      <th>Unnamed: 0</th>\n",
              "      <th>target</th>\n",
              "    </tr>\n",
              "  </thead>\n",
              "  <tbody>\n",
              "    <tr>\n",
              "      <th>0</th>\n",
              "      <td>246</td>\n",
              "      <td>0</td>\n",
              "    </tr>\n",
              "    <tr>\n",
              "      <th>1</th>\n",
              "      <td>183</td>\n",
              "      <td>0</td>\n",
              "    </tr>\n",
              "    <tr>\n",
              "      <th>2</th>\n",
              "      <td>229</td>\n",
              "      <td>0</td>\n",
              "    </tr>\n",
              "    <tr>\n",
              "      <th>3</th>\n",
              "      <td>126</td>\n",
              "      <td>1</td>\n",
              "    </tr>\n",
              "    <tr>\n",
              "      <th>4</th>\n",
              "      <td>184</td>\n",
              "      <td>0</td>\n",
              "    </tr>\n",
              "    <tr>\n",
              "      <th>...</th>\n",
              "      <td>...</td>\n",
              "      <td>...</td>\n",
              "    </tr>\n",
              "    <tr>\n",
              "      <th>86</th>\n",
              "      <td>69</td>\n",
              "      <td>1</td>\n",
              "    </tr>\n",
              "    <tr>\n",
              "      <th>87</th>\n",
              "      <td>21</td>\n",
              "      <td>1</td>\n",
              "    </tr>\n",
              "    <tr>\n",
              "      <th>88</th>\n",
              "      <td>210</td>\n",
              "      <td>0</td>\n",
              "    </tr>\n",
              "    <tr>\n",
              "      <th>89</th>\n",
              "      <td>78</td>\n",
              "      <td>1</td>\n",
              "    </tr>\n",
              "    <tr>\n",
              "      <th>90</th>\n",
              "      <td>174</td>\n",
              "      <td>0</td>\n",
              "    </tr>\n",
              "  </tbody>\n",
              "</table>\n",
              "<p>91 rows × 2 columns</p>\n",
              "</div>\n",
              "    <div class=\"colab-df-buttons\">\n",
              "\n",
              "  <div class=\"colab-df-container\">\n",
              "    <button class=\"colab-df-convert\" onclick=\"convertToInteractive('df-5cdf13f9-cd7d-490b-a460-e39f480875cd')\"\n",
              "            title=\"Convert this dataframe to an interactive table.\"\n",
              "            style=\"display:none;\">\n",
              "\n",
              "  <svg xmlns=\"http://www.w3.org/2000/svg\" height=\"24px\" viewBox=\"0 -960 960 960\">\n",
              "    <path d=\"M120-120v-720h720v720H120Zm60-500h600v-160H180v160Zm220 220h160v-160H400v160Zm0 220h160v-160H400v160ZM180-400h160v-160H180v160Zm440 0h160v-160H620v160ZM180-180h160v-160H180v160Zm440 0h160v-160H620v160Z\"/>\n",
              "  </svg>\n",
              "    </button>\n",
              "\n",
              "  <style>\n",
              "    .colab-df-container {\n",
              "      display:flex;\n",
              "      gap: 12px;\n",
              "    }\n",
              "\n",
              "    .colab-df-convert {\n",
              "      background-color: #E8F0FE;\n",
              "      border: none;\n",
              "      border-radius: 50%;\n",
              "      cursor: pointer;\n",
              "      display: none;\n",
              "      fill: #1967D2;\n",
              "      height: 32px;\n",
              "      padding: 0 0 0 0;\n",
              "      width: 32px;\n",
              "    }\n",
              "\n",
              "    .colab-df-convert:hover {\n",
              "      background-color: #E2EBFA;\n",
              "      box-shadow: 0px 1px 2px rgba(60, 64, 67, 0.3), 0px 1px 3px 1px rgba(60, 64, 67, 0.15);\n",
              "      fill: #174EA6;\n",
              "    }\n",
              "\n",
              "    .colab-df-buttons div {\n",
              "      margin-bottom: 4px;\n",
              "    }\n",
              "\n",
              "    [theme=dark] .colab-df-convert {\n",
              "      background-color: #3B4455;\n",
              "      fill: #D2E3FC;\n",
              "    }\n",
              "\n",
              "    [theme=dark] .colab-df-convert:hover {\n",
              "      background-color: #434B5C;\n",
              "      box-shadow: 0px 1px 3px 1px rgba(0, 0, 0, 0.15);\n",
              "      filter: drop-shadow(0px 1px 2px rgba(0, 0, 0, 0.3));\n",
              "      fill: #FFFFFF;\n",
              "    }\n",
              "  </style>\n",
              "\n",
              "    <script>\n",
              "      const buttonEl =\n",
              "        document.querySelector('#df-5cdf13f9-cd7d-490b-a460-e39f480875cd button.colab-df-convert');\n",
              "      buttonEl.style.display =\n",
              "        google.colab.kernel.accessAllowed ? 'block' : 'none';\n",
              "\n",
              "      async function convertToInteractive(key) {\n",
              "        const element = document.querySelector('#df-5cdf13f9-cd7d-490b-a460-e39f480875cd');\n",
              "        const dataTable =\n",
              "          await google.colab.kernel.invokeFunction('convertToInteractive',\n",
              "                                                    [key], {});\n",
              "        if (!dataTable) return;\n",
              "\n",
              "        const docLinkHtml = 'Like what you see? Visit the ' +\n",
              "          '<a target=\"_blank\" href=https://colab.research.google.com/notebooks/data_table.ipynb>data table notebook</a>'\n",
              "          + ' to learn more about interactive tables.';\n",
              "        element.innerHTML = '';\n",
              "        dataTable['output_type'] = 'display_data';\n",
              "        await google.colab.output.renderOutput(dataTable, element);\n",
              "        const docLink = document.createElement('div');\n",
              "        docLink.innerHTML = docLinkHtml;\n",
              "        element.appendChild(docLink);\n",
              "      }\n",
              "    </script>\n",
              "  </div>\n",
              "\n",
              "\n",
              "<div id=\"df-127d86fd-3e51-405b-95de-2fda688bb8a2\">\n",
              "  <button class=\"colab-df-quickchart\" onclick=\"quickchart('df-127d86fd-3e51-405b-95de-2fda688bb8a2')\"\n",
              "            title=\"Suggest charts\"\n",
              "            style=\"display:none;\">\n",
              "\n",
              "<svg xmlns=\"http://www.w3.org/2000/svg\" height=\"24px\"viewBox=\"0 0 24 24\"\n",
              "     width=\"24px\">\n",
              "    <g>\n",
              "        <path d=\"M19 3H5c-1.1 0-2 .9-2 2v14c0 1.1.9 2 2 2h14c1.1 0 2-.9 2-2V5c0-1.1-.9-2-2-2zM9 17H7v-7h2v7zm4 0h-2V7h2v10zm4 0h-2v-4h2v4z\"/>\n",
              "    </g>\n",
              "</svg>\n",
              "  </button>\n",
              "\n",
              "<style>\n",
              "  .colab-df-quickchart {\n",
              "      --bg-color: #E8F0FE;\n",
              "      --fill-color: #1967D2;\n",
              "      --hover-bg-color: #E2EBFA;\n",
              "      --hover-fill-color: #174EA6;\n",
              "      --disabled-fill-color: #AAA;\n",
              "      --disabled-bg-color: #DDD;\n",
              "  }\n",
              "\n",
              "  [theme=dark] .colab-df-quickchart {\n",
              "      --bg-color: #3B4455;\n",
              "      --fill-color: #D2E3FC;\n",
              "      --hover-bg-color: #434B5C;\n",
              "      --hover-fill-color: #FFFFFF;\n",
              "      --disabled-bg-color: #3B4455;\n",
              "      --disabled-fill-color: #666;\n",
              "  }\n",
              "\n",
              "  .colab-df-quickchart {\n",
              "    background-color: var(--bg-color);\n",
              "    border: none;\n",
              "    border-radius: 50%;\n",
              "    cursor: pointer;\n",
              "    display: none;\n",
              "    fill: var(--fill-color);\n",
              "    height: 32px;\n",
              "    padding: 0;\n",
              "    width: 32px;\n",
              "  }\n",
              "\n",
              "  .colab-df-quickchart:hover {\n",
              "    background-color: var(--hover-bg-color);\n",
              "    box-shadow: 0 1px 2px rgba(60, 64, 67, 0.3), 0 1px 3px 1px rgba(60, 64, 67, 0.15);\n",
              "    fill: var(--button-hover-fill-color);\n",
              "  }\n",
              "\n",
              "  .colab-df-quickchart-complete:disabled,\n",
              "  .colab-df-quickchart-complete:disabled:hover {\n",
              "    background-color: var(--disabled-bg-color);\n",
              "    fill: var(--disabled-fill-color);\n",
              "    box-shadow: none;\n",
              "  }\n",
              "\n",
              "  .colab-df-spinner {\n",
              "    border: 2px solid var(--fill-color);\n",
              "    border-color: transparent;\n",
              "    border-bottom-color: var(--fill-color);\n",
              "    animation:\n",
              "      spin 1s steps(1) infinite;\n",
              "  }\n",
              "\n",
              "  @keyframes spin {\n",
              "    0% {\n",
              "      border-color: transparent;\n",
              "      border-bottom-color: var(--fill-color);\n",
              "      border-left-color: var(--fill-color);\n",
              "    }\n",
              "    20% {\n",
              "      border-color: transparent;\n",
              "      border-left-color: var(--fill-color);\n",
              "      border-top-color: var(--fill-color);\n",
              "    }\n",
              "    30% {\n",
              "      border-color: transparent;\n",
              "      border-left-color: var(--fill-color);\n",
              "      border-top-color: var(--fill-color);\n",
              "      border-right-color: var(--fill-color);\n",
              "    }\n",
              "    40% {\n",
              "      border-color: transparent;\n",
              "      border-right-color: var(--fill-color);\n",
              "      border-top-color: var(--fill-color);\n",
              "    }\n",
              "    60% {\n",
              "      border-color: transparent;\n",
              "      border-right-color: var(--fill-color);\n",
              "    }\n",
              "    80% {\n",
              "      border-color: transparent;\n",
              "      border-right-color: var(--fill-color);\n",
              "      border-bottom-color: var(--fill-color);\n",
              "    }\n",
              "    90% {\n",
              "      border-color: transparent;\n",
              "      border-bottom-color: var(--fill-color);\n",
              "    }\n",
              "  }\n",
              "</style>\n",
              "\n",
              "  <script>\n",
              "    async function quickchart(key) {\n",
              "      const quickchartButtonEl =\n",
              "        document.querySelector('#' + key + ' button');\n",
              "      quickchartButtonEl.disabled = true;  // To prevent multiple clicks.\n",
              "      quickchartButtonEl.classList.add('colab-df-spinner');\n",
              "      try {\n",
              "        const charts = await google.colab.kernel.invokeFunction(\n",
              "            'suggestCharts', [key], {});\n",
              "      } catch (error) {\n",
              "        console.error('Error during call to suggestCharts:', error);\n",
              "      }\n",
              "      quickchartButtonEl.classList.remove('colab-df-spinner');\n",
              "      quickchartButtonEl.classList.add('colab-df-quickchart-complete');\n",
              "    }\n",
              "    (() => {\n",
              "      let quickchartButtonEl =\n",
              "        document.querySelector('#df-127d86fd-3e51-405b-95de-2fda688bb8a2 button');\n",
              "      quickchartButtonEl.style.display =\n",
              "        google.colab.kernel.accessAllowed ? 'block' : 'none';\n",
              "    })();\n",
              "  </script>\n",
              "</div>\n",
              "\n",
              "  <div id=\"id_08365690-bc87-481a-8c97-42d605c3b2be\">\n",
              "    <style>\n",
              "      .colab-df-generate {\n",
              "        background-color: #E8F0FE;\n",
              "        border: none;\n",
              "        border-radius: 50%;\n",
              "        cursor: pointer;\n",
              "        display: none;\n",
              "        fill: #1967D2;\n",
              "        height: 32px;\n",
              "        padding: 0 0 0 0;\n",
              "        width: 32px;\n",
              "      }\n",
              "\n",
              "      .colab-df-generate:hover {\n",
              "        background-color: #E2EBFA;\n",
              "        box-shadow: 0px 1px 2px rgba(60, 64, 67, 0.3), 0px 1px 3px 1px rgba(60, 64, 67, 0.15);\n",
              "        fill: #174EA6;\n",
              "      }\n",
              "\n",
              "      [theme=dark] .colab-df-generate {\n",
              "        background-color: #3B4455;\n",
              "        fill: #D2E3FC;\n",
              "      }\n",
              "\n",
              "      [theme=dark] .colab-df-generate:hover {\n",
              "        background-color: #434B5C;\n",
              "        box-shadow: 0px 1px 3px 1px rgba(0, 0, 0, 0.15);\n",
              "        filter: drop-shadow(0px 1px 2px rgba(0, 0, 0, 0.3));\n",
              "        fill: #FFFFFF;\n",
              "      }\n",
              "    </style>\n",
              "    <button class=\"colab-df-generate\" onclick=\"generateWithVariable('y_test')\"\n",
              "            title=\"Generate code using this dataframe.\"\n",
              "            style=\"display:none;\">\n",
              "\n",
              "  <svg xmlns=\"http://www.w3.org/2000/svg\" height=\"24px\"viewBox=\"0 0 24 24\"\n",
              "       width=\"24px\">\n",
              "    <path d=\"M7,19H8.4L18.45,9,17,7.55,7,17.6ZM5,21V16.75L18.45,3.32a2,2,0,0,1,2.83,0l1.4,1.43a1.91,1.91,0,0,1,.58,1.4,1.91,1.91,0,0,1-.58,1.4L9.25,21ZM18.45,9,17,7.55Zm-12,3A5.31,5.31,0,0,0,4.9,8.1,5.31,5.31,0,0,0,1,6.5,5.31,5.31,0,0,0,4.9,4.9,5.31,5.31,0,0,0,6.5,1,5.31,5.31,0,0,0,8.1,4.9,5.31,5.31,0,0,0,12,6.5,5.46,5.46,0,0,0,6.5,12Z\"/>\n",
              "  </svg>\n",
              "    </button>\n",
              "    <script>\n",
              "      (() => {\n",
              "      const buttonEl =\n",
              "        document.querySelector('#id_08365690-bc87-481a-8c97-42d605c3b2be button.colab-df-generate');\n",
              "      buttonEl.style.display =\n",
              "        google.colab.kernel.accessAllowed ? 'block' : 'none';\n",
              "\n",
              "      buttonEl.onclick = () => {\n",
              "        google.colab.notebook.generateWithVariable('y_test');\n",
              "      }\n",
              "      })();\n",
              "    </script>\n",
              "  </div>\n",
              "\n",
              "    </div>\n",
              "  </div>\n"
            ],
            "application/vnd.google.colaboratory.intrinsic+json": {
              "type": "dataframe",
              "variable_name": "y_test",
              "summary": "{\n  \"name\": \"y_test\",\n  \"rows\": 91,\n  \"fields\": [\n    {\n      \"column\": \"Unnamed: 0\",\n      \"properties\": {\n        \"dtype\": \"number\",\n        \"std\": 88,\n        \"min\": 1,\n        \"max\": 301,\n        \"num_unique_values\": 91,\n        \"samples\": [\n          289,\n          287,\n          10\n        ],\n        \"semantic_type\": \"\",\n        \"description\": \"\"\n      }\n    },\n    {\n      \"column\": \"target\",\n      \"properties\": {\n        \"dtype\": \"number\",\n        \"std\": 0,\n        \"min\": 0,\n        \"max\": 1,\n        \"num_unique_values\": 2,\n        \"samples\": [\n          1,\n          0\n        ],\n        \"semantic_type\": \"\",\n        \"description\": \"\"\n      }\n    }\n  ]\n}"
            }
          },
          "metadata": {},
          "execution_count": 38
        }
      ]
    },
    {
      "cell_type": "code",
      "source": [
        "X_train_lg = X_train.iloc[:, 1:]\n",
        "X_test_lg = X_test.iloc[:, 1:]\n",
        "# print(X_train_lg)\n",
        "print(X_test_lg)\n",
        "\n",
        "y_train_lg = y_train.iloc[:, 1:]\n",
        "y_test_lg = y_test.iloc[:, 1:]\n",
        "print(y_test_lg)\n",
        "\n"
      ],
      "metadata": {
        "collapsed": true,
        "id": "hqqwarLDxSri",
        "outputId": "140437f3-99bf-43c3-a91e-27419a30edad",
        "colab": {
          "base_uri": "https://localhost:8080/"
        }
      },
      "execution_count": 39,
      "outputs": [
        {
          "output_type": "stream",
          "name": "stdout",
          "text": [
            "    age  gender  chest_pain  rest_bps  cholestrol  fasting_blood_sugar  \\\n",
            "0    56       0           0       134         409                    0   \n",
            "1    58       1           2       112         230                    0   \n",
            "2    64       1           2       125         309                    0   \n",
            "3    47       1           0       112         204                    0   \n",
            "4    50       1           0       150         243                    0   \n",
            "..  ...     ...         ...       ...         ...                  ...   \n",
            "86   62       0           0       124         209                    0   \n",
            "87   44       1           2       130         233                    0   \n",
            "88   57       1           2       128         229                    0   \n",
            "89   52       1           1       128         205                    1   \n",
            "90   60       1           0       130         206                    0   \n",
            "\n",
            "    rest_ecg  thalach  exer_angina  old_peak  slope  ca  thalassemia  \n",
            "0          0      150            1       1.9      1   2            3  \n",
            "1          0      165            0       2.5      1   1            3  \n",
            "2          1      131            1       1.8      1   0            3  \n",
            "3          1      143            0       0.1      2   0            2  \n",
            "4          0      128            0       2.6      1   0            3  \n",
            "..       ...      ...          ...       ...    ...  ..          ...  \n",
            "86         1      163            0       0.0      2   0            2  \n",
            "87         1      179            1       0.4      2   0            2  \n",
            "88         0      150            0       0.4      1   1            3  \n",
            "89         1      184            0       0.0      2   0            2  \n",
            "90         0      132            1       2.4      1   2            3  \n",
            "\n",
            "[91 rows x 13 columns]\n",
            "    target\n",
            "0        0\n",
            "1        0\n",
            "2        0\n",
            "3        1\n",
            "4        0\n",
            "..     ...\n",
            "86       1\n",
            "87       1\n",
            "88       0\n",
            "89       1\n",
            "90       0\n",
            "\n",
            "[91 rows x 1 columns]\n"
          ]
        }
      ]
    },
    {
      "cell_type": "code",
      "source": [
        "model = LogisticRegression(random_state=17, max_iter=1000)\n",
        "\n",
        "model.fit(X_train_lg, y_train_lg.values.ravel())\n",
        "\n",
        "y_pred_train = model.predict(X_train_lg)\n",
        "\n",
        "training_accuracy = accuracy_score(y_train_lg, y_pred_train) * 100\n",
        "\n",
        "print(f\"Training Accuracy: {training_accuracy:.1f}%\")"
      ],
      "metadata": {
        "id": "e9zfZPQUw4yD",
        "outputId": "6b07b4f5-edc5-4ec7-8d86-cc7d9b6d7f2a",
        "colab": {
          "base_uri": "https://localhost:8080/"
        }
      },
      "execution_count": 31,
      "outputs": [
        {
          "output_type": "stream",
          "name": "stdout",
          "text": [
            "Training Accuracy: 85.4%\n"
          ]
        }
      ]
    },
    {
      "cell_type": "code",
      "source": [
        "precision_no_heart_disease = precision_score(y_train_lg, y_pred_train, pos_label=1) * 100\n",
        "print(f\"Precision for predicting no heart disease: {precision_no_heart_disease:.2f}%\")\n",
        "\n"
      ],
      "metadata": {
        "id": "j9KAaLHUzmjx",
        "outputId": "105aa054-7ef6-4474-a874-73e1f8fa779b",
        "colab": {
          "base_uri": "https://localhost:8080/"
        }
      },
      "execution_count": 45,
      "outputs": [
        {
          "output_type": "stream",
          "name": "stdout",
          "text": [
            "Precision for predicting no heart disease: 84.96%\n"
          ]
        }
      ]
    },
    {
      "cell_type": "code",
      "source": [
        "recall_heart_disease = recall_score(y_train_lg, y_pred_train, pos_label=1) * 100\n",
        "print(f\"Recall for predicting heart disease: {recall_heart_disease:.2f}%\")"
      ],
      "metadata": {
        "id": "Wye6Bv9x0oHg",
        "outputId": "1d40f7ea-7e62-4b34-9d80-734ad7ca65c3",
        "colab": {
          "base_uri": "https://localhost:8080/"
        }
      },
      "execution_count": 36,
      "outputs": [
        {
          "output_type": "stream",
          "name": "stdout",
          "text": [
            "Recall for predicting heart disease: 91.13%\n"
          ]
        }
      ]
    },
    {
      "cell_type": "code",
      "source": [
        "y_pred_test = model.predict(X_test_lg)\n",
        "conf_matrix = confusion_matrix(y_test_lg , y_pred_test)\n",
        "print(conf_matrix)\n",
        "# Extract the number of false positives (Type 1 errors)\n",
        "# Confusion matrix layout: [[TN, FP], [FN, TP]]\n",
        "# False Positive (FP) is at position [0, 1]\n",
        "false_positives = conf_matrix.ravel()[1]\n",
        "\n",
        "# Print the number of false positives\n",
        "print(f\"Number of false positives: {false_positives}\")"
      ],
      "metadata": {
        "id": "EP1Khtb90-kT",
        "outputId": "83e7a712-4ffe-4253-8ac5-53b728a51f1a",
        "colab": {
          "base_uri": "https://localhost:8080/"
        }
      },
      "execution_count": 40,
      "outputs": [
        {
          "output_type": "stream",
          "name": "stdout",
          "text": [
            "[[33 17]\n",
            " [ 4 37]]\n",
            "Number of false positives: 17\n"
          ]
        }
      ]
    },
    {
      "cell_type": "code",
      "source": [
        "test_accuracy = accuracy_score(y_test_lg, y_pred_test) * 100\n",
        "\n",
        "print(f\"Testing Accuracy: {test_accuracy}%\")"
      ],
      "metadata": {
        "id": "6ove23-o17LE",
        "outputId": "e210fc70-74a4-40c9-e06e-abd1eb8ae091",
        "colab": {
          "base_uri": "https://localhost:8080/"
        }
      },
      "execution_count": 42,
      "outputs": [
        {
          "output_type": "stream",
          "name": "stdout",
          "text": [
            "Testing Accuracy: 76.92307692307693%\n"
          ]
        }
      ]
    },
    {
      "cell_type": "code",
      "source": [
        "precision_no_heart_disease_test = precision_score(y_test_lg, y_pred_test, pos_label=1) * 100\n",
        "print(f\"Precision for predicting no heart disease: {precision_no_heart_disease_test}%\")"
      ],
      "metadata": {
        "id": "OjzVvXgZ2M5R",
        "outputId": "6a2051f2-b695-45c9-e51c-0308c209eaf4",
        "colab": {
          "base_uri": "https://localhost:8080/"
        }
      },
      "execution_count": 43,
      "outputs": [
        {
          "output_type": "stream",
          "name": "stdout",
          "text": [
            "Precision for predicting no heart disease: 68.51851851851852%\n"
          ]
        }
      ]
    },
    {
      "cell_type": "code",
      "source": [
        "recall_heart_disease_test = recall_score(y_test_lg, y_pred_test, pos_label=1) * 100\n",
        "print(f\"Recall for predicting heart disease test: {recall_heart_disease_test:.2f}%\")"
      ],
      "metadata": {
        "id": "sqnLeplA2eVG",
        "outputId": "70f56326-d602-4ecc-d9e2-99f3df75ee79",
        "colab": {
          "base_uri": "https://localhost:8080/"
        }
      },
      "execution_count": 44,
      "outputs": [
        {
          "output_type": "stream",
          "name": "stdout",
          "text": [
            "Recall for predicting heart disease test: 90.24%\n"
          ]
        }
      ]
    }
  ]
}