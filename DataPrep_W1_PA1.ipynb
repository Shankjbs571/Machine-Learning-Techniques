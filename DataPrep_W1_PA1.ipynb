{
  "nbformat": 4,
  "nbformat_minor": 0,
  "metadata": {
    "colab": {
      "provenance": [],
      "mount_file_id": "19LUOl37EdV6rjqNG1lh8FK7vewyw0IWp",
      "authorship_tag": "ABX9TyNS1eQBMVdnTr52GRly3MKX",
      "include_colab_link": true
    },
    "kernelspec": {
      "name": "python3",
      "display_name": "Python 3"
    },
    "language_info": {
      "name": "python"
    }
  },
  "cells": [
    {
      "cell_type": "markdown",
      "metadata": {
        "id": "view-in-github",
        "colab_type": "text"
      },
      "source": [
        "<a href=\"https://colab.research.google.com/github/Shankjbs571/Machine-Learning-Techniques/blob/main/DataPrep_W1_PA1.ipynb\" target=\"_parent\"><img src=\"https://colab.research.google.com/assets/colab-badge.svg\" alt=\"Open In Colab\"/></a>"
      ]
    },
    {
      "cell_type": "code",
      "execution_count": 2,
      "metadata": {
        "id": "FD2rgTVyUzXO"
      },
      "outputs": [],
      "source": [
        "import pandas as pd\n",
        "import sklearn\n",
        "import numpy as np\n"
      ]
    },
    {
      "cell_type": "code",
      "source": [
        "# from sklearn.preprocessing import\n",
        "from sklearn.impute import SimpleImputer\n",
        "from sklearn.impute import KNNImputer\n",
        "from sklearn.preprocessing import OneHotEncoder"
      ],
      "metadata": {
        "id": "96STjz3BXXx5"
      },
      "execution_count": 55,
      "outputs": []
    },
    {
      "cell_type": "code",
      "source": [
        "dataset = pd.read_csv(\"/content/drive/MyDrive/Colab Notebooks/Data/DataPreprocessingGraded_dataset.csv\")"
      ],
      "metadata": {
        "id": "DXBTA-8fWkLA"
      },
      "execution_count": 10,
      "outputs": []
    },
    {
      "cell_type": "code",
      "source": [
        "dataset.info()"
      ],
      "metadata": {
        "colab": {
          "base_uri": "https://localhost:8080/"
        },
        "id": "QzAgV6xeWsGm",
        "outputId": "81c44fe7-dfad-42a3-ce73-bef44d465126"
      },
      "execution_count": 11,
      "outputs": [
        {
          "output_type": "stream",
          "name": "stdout",
          "text": [
            "<class 'pandas.core.frame.DataFrame'>\n",
            "RangeIndex: 748 entries, 0 to 747\n",
            "Data columns (total 6 columns):\n",
            " #   Column  Non-Null Count  Dtype  \n",
            "---  ------  --------------  -----  \n",
            " 0   V1      748 non-null    object \n",
            " 1   V2      748 non-null    object \n",
            " 2   V3      748 non-null    float64\n",
            " 3   V4      748 non-null    float64\n",
            " 4   V5      748 non-null    object \n",
            " 5   Target  748 non-null    object \n",
            "dtypes: float64(2), object(4)\n",
            "memory usage: 35.2+ KB\n"
          ]
        }
      ]
    },
    {
      "cell_type": "code",
      "source": [
        "print(dataset['Target'].unique())\n",
        "print(dataset['V5'].unique())\n",
        "print(dataset.head())\n"
      ],
      "metadata": {
        "colab": {
          "base_uri": "https://localhost:8080/"
        },
        "id": "iZUN0nmHW9Oi",
        "outputId": "ee3d57a8-7730-403b-f694-66faa237bd9a"
      },
      "execution_count": 12,
      "outputs": [
        {
          "output_type": "stream",
          "name": "stdout",
          "text": [
            "['YES' 'NO']\n",
            "['NEGATIVE']\n",
            "    V1    V2       V3    V4        V5 Target\n",
            "0  2.0  50.0  12500.0  98.0  NEGATIVE    YES\n",
            "1  0.0  13.0   3250.0  28.0  NEGATIVE    YES\n",
            "2    ?     ?   4000.0  35.0  NEGATIVE    YES\n",
            "3    ?  20.0   5000.0  45.0  NEGATIVE    YES\n",
            "4  1.0  24.0   6000.0  77.0  NEGATIVE     NO\n"
          ]
        }
      ]
    },
    {
      "cell_type": "code",
      "source": [
        "dataset.eq('?').sum()"
      ],
      "metadata": {
        "colab": {
          "base_uri": "https://localhost:8080/"
        },
        "id": "Re5uC51IXIms",
        "outputId": "5d453632-d624-4075-fd30-7b522bcb9ffd"
      },
      "execution_count": 13,
      "outputs": [
        {
          "output_type": "execute_result",
          "data": {
            "text/plain": [
              "V1        5\n",
              "V2        5\n",
              "V3        0\n",
              "V4        0\n",
              "V5        0\n",
              "Target    0\n",
              "dtype: int64"
            ]
          },
          "metadata": {},
          "execution_count": 13
        }
      ]
    },
    {
      "cell_type": "code",
      "source": [
        "dataset.replace('?',np.nan,inplace=True)\n",
        "print(dataset.isna().sum())"
      ],
      "metadata": {
        "colab": {
          "base_uri": "https://localhost:8080/"
        },
        "id": "DYu0wg2XYmtP",
        "outputId": "dcb1b511-22cb-40f2-9c4f-d146724093eb"
      },
      "execution_count": 14,
      "outputs": [
        {
          "output_type": "stream",
          "name": "stdout",
          "text": [
            "V1        5\n",
            "V2        5\n",
            "V3        0\n",
            "V4        0\n",
            "V5        0\n",
            "Target    0\n",
            "dtype: int64\n"
          ]
        }
      ]
    },
    {
      "cell_type": "code",
      "source": [
        "dataset.info()\n",
        "dataset_copy=dataset.copy()"
      ],
      "metadata": {
        "colab": {
          "base_uri": "https://localhost:8080/"
        },
        "id": "j7FV5zkWk0RL",
        "outputId": "7404b277-84bd-494b-9d98-e0ba0fa684fb"
      },
      "execution_count": 15,
      "outputs": [
        {
          "output_type": "stream",
          "name": "stdout",
          "text": [
            "<class 'pandas.core.frame.DataFrame'>\n",
            "RangeIndex: 748 entries, 0 to 747\n",
            "Data columns (total 6 columns):\n",
            " #   Column  Non-Null Count  Dtype  \n",
            "---  ------  --------------  -----  \n",
            " 0   V1      743 non-null    object \n",
            " 1   V2      743 non-null    object \n",
            " 2   V3      748 non-null    float64\n",
            " 3   V4      748 non-null    float64\n",
            " 4   V5      748 non-null    object \n",
            " 5   Target  748 non-null    object \n",
            "dtypes: float64(2), object(4)\n",
            "memory usage: 35.2+ KB\n"
          ]
        }
      ]
    },
    {
      "cell_type": "code",
      "source": [
        "# Initialize OneHotEncoder\n",
        "encoder = OneHotEncoder(sparse=False)\n",
        "\n",
        "# Fit-transform the non-numeric columns\n",
        "encoded_columns = encoder.fit_transform(dataset[['V5', 'Target']])\n",
        "print(type(encoded_columns))\n",
        "# # Convert the encoded columns to a DataFrame\n",
        "encoded_df = pd.DataFrame(encoded_columns, columns=encoder.get_feature_names_out(['V5', 'Target']))\n",
        "print(encoded_df)\n",
        "\n",
        "# # Concatenate the original DataFrame with the encoded DataFrame\n",
        "final_df = pd.concat([dataset, encoded_df], axis=1)\n",
        "# # Drop the original non-numeric columns\n",
        "final_df.drop(['V5', 'Target'], axis=1, inplace=True)\n",
        "\n",
        "print(final_df)"
      ],
      "metadata": {
        "colab": {
          "base_uri": "https://localhost:8080/"
        },
        "id": "IRVw7KCmZqRJ",
        "outputId": "075ac37a-a50b-46be-f41a-3952cb45c13e"
      },
      "execution_count": 22,
      "outputs": [
        {
          "output_type": "stream",
          "name": "stdout",
          "text": [
            "<class 'numpy.ndarray'>\n",
            "     V5_NEGATIVE  Target_NO  Target_YES\n",
            "0            1.0        0.0         1.0\n",
            "1            1.0        0.0         1.0\n",
            "2            1.0        0.0         1.0\n",
            "3            1.0        0.0         1.0\n",
            "4            1.0        1.0         0.0\n",
            "..           ...        ...         ...\n",
            "743          1.0        1.0         0.0\n",
            "744          1.0        1.0         0.0\n",
            "745          1.0        1.0         0.0\n",
            "746          1.0        1.0         0.0\n",
            "747          1.0        1.0         0.0\n",
            "\n",
            "[748 rows x 3 columns]\n",
            "       V1    V2       V3    V4  V5_NEGATIVE  Target_NO  Target_YES\n",
            "0     2.0  50.0  12500.0  98.0          1.0        0.0         1.0\n",
            "1     0.0  13.0   3250.0  28.0          1.0        0.0         1.0\n",
            "2     NaN   NaN   4000.0  35.0          1.0        0.0         1.0\n",
            "3     NaN  20.0   5000.0  45.0          1.0        0.0         1.0\n",
            "4     1.0  24.0   6000.0  77.0          1.0        1.0         0.0\n",
            "..    ...   ...      ...   ...          ...        ...         ...\n",
            "743  23.0   2.0    500.0  38.0          1.0        1.0         0.0\n",
            "744  21.0   2.0    500.0  52.0          1.0        1.0         0.0\n",
            "745  23.0   3.0    750.0  62.0          1.0        1.0         0.0\n",
            "746  39.0   1.0    250.0  39.0          1.0        1.0         0.0\n",
            "747  72.0   1.0    250.0  72.0          1.0        1.0         0.0\n",
            "\n",
            "[748 rows x 7 columns]\n"
          ]
        },
        {
          "output_type": "stream",
          "name": "stderr",
          "text": [
            "/usr/local/lib/python3.10/dist-packages/sklearn/preprocessing/_encoders.py:868: FutureWarning: `sparse` was renamed to `sparse_output` in version 1.2 and will be removed in 1.4. `sparse_output` is ignored unless you leave `sparse` to its default value.\n",
            "  warnings.warn(\n"
          ]
        }
      ]
    },
    {
      "cell_type": "code",
      "source": [
        "final_df.info()\n",
        "print(final_df.columns)"
      ],
      "metadata": {
        "colab": {
          "base_uri": "https://localhost:8080/"
        },
        "id": "WmPkbhkObkLQ",
        "outputId": "de6410b6-8402-4d89-9eb1-2826dd7eada2"
      },
      "execution_count": 29,
      "outputs": [
        {
          "output_type": "stream",
          "name": "stdout",
          "text": [
            "<class 'pandas.core.frame.DataFrame'>\n",
            "RangeIndex: 748 entries, 0 to 747\n",
            "Data columns (total 7 columns):\n",
            " #   Column       Non-Null Count  Dtype  \n",
            "---  ------       --------------  -----  \n",
            " 0   V1           743 non-null    object \n",
            " 1   V2           743 non-null    object \n",
            " 2   V3           748 non-null    float64\n",
            " 3   V4           748 non-null    float64\n",
            " 4   V5_NEGATIVE  748 non-null    float64\n",
            " 5   Target_NO    748 non-null    float64\n",
            " 6   Target_YES   748 non-null    float64\n",
            "dtypes: float64(5), object(2)\n",
            "memory usage: 41.0+ KB\n",
            "Index(['V1', 'V2', 'V3', 'V4', 'V5_NEGATIVE', 'Target_NO', 'Target_YES'], dtype='object')\n"
          ]
        }
      ]
    },
    {
      "cell_type": "code",
      "source": [
        "si=SimpleImputer(strategy='median')\n",
        "final_dataset=pd.DataFrame(si.fit_transform(final_df), columns=final_df.columns)\n",
        "type(final_dataset)\n",
        "print(final_dataset.head())"
      ],
      "metadata": {
        "colab": {
          "base_uri": "https://localhost:8080/"
        },
        "id": "D2o50U5NZQ1d",
        "outputId": "c834ce11-091e-428d-a599-e57c0ab620ce"
      },
      "execution_count": 53,
      "outputs": [
        {
          "output_type": "stream",
          "name": "stdout",
          "text": [
            "    V1    V2       V3    V4  V5_NEGATIVE  Target_NO  Target_YES\n",
            "0  2.0  50.0  12500.0  98.0          1.0        0.0         1.0\n",
            "1  0.0  13.0   3250.0  28.0          1.0        0.0         1.0\n",
            "2  8.0   4.0   4000.0  35.0          1.0        0.0         1.0\n",
            "3  8.0  20.0   5000.0  45.0          1.0        0.0         1.0\n",
            "4  1.0  24.0   6000.0  77.0          1.0        1.0         0.0\n"
          ]
        }
      ]
    },
    {
      "cell_type": "code",
      "source": [
        "knni = KNNImputer(n_neighbors=3)\n",
        "final_dataset=pd.DataFrame(knni.fit_transform(final_df))\n",
        "type(final_dataset)\n",
        "print(final_dataset.head())"
      ],
      "metadata": {
        "colab": {
          "base_uri": "https://localhost:8080/"
        },
        "id": "myCk_g5HK_W6",
        "outputId": "02c86e36-98b3-49db-e031-9a0903681a7a"
      },
      "execution_count": 60,
      "outputs": [
        {
          "output_type": "stream",
          "name": "stdout",
          "text": [
            "     0     1        2     3    4    5    6\n",
            "0  2.0  50.0  12500.0  98.0  1.0  0.0  1.0\n",
            "1  0.0  13.0   3250.0  28.0  1.0  0.0  1.0\n",
            "2  9.0  16.0   4000.0  35.0  1.0  0.0  1.0\n",
            "3  3.0  20.0   5000.0  45.0  1.0  0.0  1.0\n",
            "4  1.0  24.0   6000.0  77.0  1.0  1.0  0.0\n"
          ]
        }
      ]
    },
    {
      "cell_type": "code",
      "source": [
        "si = SimpleImputer(strategy='mean')\n",
        "final_dataset=pd.DataFrame(si.fit_transform(final_df),columns=final_df.columns)\n",
        "type(final_dataset)\n",
        "print(final_dataset.head())"
      ],
      "metadata": {
        "colab": {
          "base_uri": "https://localhost:8080/"
        },
        "id": "5aFaKh6LMGlc",
        "outputId": "082caa87-231c-452a-873a-2cec094aa174"
      },
      "execution_count": 63,
      "outputs": [
        {
          "output_type": "stream",
          "name": "stdout",
          "text": [
            "         V1         V2       V3    V4  V5_NEGATIVE  Target_NO  Target_YES\n",
            "0  2.000000  50.000000  12500.0  98.0          1.0        0.0         1.0\n",
            "1  0.000000  13.000000   3250.0  28.0          1.0        0.0         1.0\n",
            "2  9.562584   5.464334   4000.0  35.0          1.0        0.0         1.0\n",
            "3  9.562584  20.000000   5000.0  45.0          1.0        0.0         1.0\n",
            "4  1.000000  24.000000   6000.0  77.0          1.0        1.0         0.0\n"
          ]
        }
      ]
    },
    {
      "cell_type": "code",
      "source": [
        "final_dataset.info()\n"
      ],
      "metadata": {
        "id": "x-XVqbXmndf7",
        "colab": {
          "base_uri": "https://localhost:8080/"
        },
        "outputId": "3e86e985-3409-48ce-f631-1dcc0ef164d9"
      },
      "execution_count": 31,
      "outputs": [
        {
          "output_type": "stream",
          "name": "stdout",
          "text": [
            "<class 'pandas.core.frame.DataFrame'>\n",
            "RangeIndex: 748 entries, 0 to 747\n",
            "Data columns (total 7 columns):\n",
            " #   Column       Non-Null Count  Dtype  \n",
            "---  ------       --------------  -----  \n",
            " 0   V1           748 non-null    float64\n",
            " 1   V2           748 non-null    float64\n",
            " 2   V3           748 non-null    float64\n",
            " 3   V4           748 non-null    float64\n",
            " 4   V5_NEGATIVE  748 non-null    float64\n",
            " 5   Target_NO    748 non-null    float64\n",
            " 6   Target_YES   748 non-null    float64\n",
            "dtypes: float64(7)\n",
            "memory usage: 41.0 KB\n"
          ]
        }
      ]
    },
    {
      "cell_type": "code",
      "source": [
        "final_dataset.eq(np.nan).sum()\n",
        "# dataset['V1'].unique()"
      ],
      "metadata": {
        "colab": {
          "base_uri": "https://localhost:8080/"
        },
        "id": "_Y27GayqmjB6",
        "outputId": "aa88ae2e-5f58-4691-eef3-4b5b1e2d99ff"
      },
      "execution_count": 33,
      "outputs": [
        {
          "output_type": "execute_result",
          "data": {
            "text/plain": [
              "V1             0\n",
              "V2             0\n",
              "V3             0\n",
              "V4             0\n",
              "V5_NEGATIVE    0\n",
              "Target_NO      0\n",
              "Target_YES     0\n",
              "dtype: int64"
            ]
          },
          "metadata": {},
          "execution_count": 33
        }
      ]
    },
    {
      "cell_type": "code",
      "source": [
        "final_dataset.describe().T"
      ],
      "metadata": {
        "colab": {
          "base_uri": "https://localhost:8080/",
          "height": 269
        },
        "id": "3MHm3DwZm7eF",
        "outputId": "474ca181-fc6e-42b6-9371-076b462c808c"
      },
      "execution_count": 43,
      "outputs": [
        {
          "output_type": "execute_result",
          "data": {
            "text/plain": [
              "             count         mean          std    min    25%     50%     75%  \\\n",
              "V1           748.0     9.562584     8.066394    0.0    3.0     8.0    14.0   \n",
              "V2           748.0     5.464334     5.780316    1.0    2.0     4.0     7.0   \n",
              "V3           748.0  1378.676471  1459.826781  250.0  500.0  1000.0  1750.0   \n",
              "V4           748.0    34.282086    24.376714    2.0   16.0    28.0    50.0   \n",
              "V5_NEGATIVE  748.0     1.000000     0.000000    1.0    1.0     1.0     1.0   \n",
              "Target_NO    748.0     0.762032     0.426124    0.0    1.0     1.0     1.0   \n",
              "Target_YES   748.0     0.237968     0.426124    0.0    0.0     0.0     0.0   \n",
              "\n",
              "                 max  \n",
              "V1              74.0  \n",
              "V2              50.0  \n",
              "V3           12500.0  \n",
              "V4              98.0  \n",
              "V5_NEGATIVE      1.0  \n",
              "Target_NO        1.0  \n",
              "Target_YES       1.0  "
            ],
            "text/html": [
              "\n",
              "  <div id=\"df-ed8ea4fc-b944-46a2-bbc9-f4038e66a331\" class=\"colab-df-container\">\n",
              "    <div>\n",
              "<style scoped>\n",
              "    .dataframe tbody tr th:only-of-type {\n",
              "        vertical-align: middle;\n",
              "    }\n",
              "\n",
              "    .dataframe tbody tr th {\n",
              "        vertical-align: top;\n",
              "    }\n",
              "\n",
              "    .dataframe thead th {\n",
              "        text-align: right;\n",
              "    }\n",
              "</style>\n",
              "<table border=\"1\" class=\"dataframe\">\n",
              "  <thead>\n",
              "    <tr style=\"text-align: right;\">\n",
              "      <th></th>\n",
              "      <th>count</th>\n",
              "      <th>mean</th>\n",
              "      <th>std</th>\n",
              "      <th>min</th>\n",
              "      <th>25%</th>\n",
              "      <th>50%</th>\n",
              "      <th>75%</th>\n",
              "      <th>max</th>\n",
              "    </tr>\n",
              "  </thead>\n",
              "  <tbody>\n",
              "    <tr>\n",
              "      <th>V1</th>\n",
              "      <td>748.0</td>\n",
              "      <td>9.562584</td>\n",
              "      <td>8.066394</td>\n",
              "      <td>0.0</td>\n",
              "      <td>3.0</td>\n",
              "      <td>8.0</td>\n",
              "      <td>14.0</td>\n",
              "      <td>74.0</td>\n",
              "    </tr>\n",
              "    <tr>\n",
              "      <th>V2</th>\n",
              "      <td>748.0</td>\n",
              "      <td>5.464334</td>\n",
              "      <td>5.780316</td>\n",
              "      <td>1.0</td>\n",
              "      <td>2.0</td>\n",
              "      <td>4.0</td>\n",
              "      <td>7.0</td>\n",
              "      <td>50.0</td>\n",
              "    </tr>\n",
              "    <tr>\n",
              "      <th>V3</th>\n",
              "      <td>748.0</td>\n",
              "      <td>1378.676471</td>\n",
              "      <td>1459.826781</td>\n",
              "      <td>250.0</td>\n",
              "      <td>500.0</td>\n",
              "      <td>1000.0</td>\n",
              "      <td>1750.0</td>\n",
              "      <td>12500.0</td>\n",
              "    </tr>\n",
              "    <tr>\n",
              "      <th>V4</th>\n",
              "      <td>748.0</td>\n",
              "      <td>34.282086</td>\n",
              "      <td>24.376714</td>\n",
              "      <td>2.0</td>\n",
              "      <td>16.0</td>\n",
              "      <td>28.0</td>\n",
              "      <td>50.0</td>\n",
              "      <td>98.0</td>\n",
              "    </tr>\n",
              "    <tr>\n",
              "      <th>V5_NEGATIVE</th>\n",
              "      <td>748.0</td>\n",
              "      <td>1.000000</td>\n",
              "      <td>0.000000</td>\n",
              "      <td>1.0</td>\n",
              "      <td>1.0</td>\n",
              "      <td>1.0</td>\n",
              "      <td>1.0</td>\n",
              "      <td>1.0</td>\n",
              "    </tr>\n",
              "    <tr>\n",
              "      <th>Target_NO</th>\n",
              "      <td>748.0</td>\n",
              "      <td>0.762032</td>\n",
              "      <td>0.426124</td>\n",
              "      <td>0.0</td>\n",
              "      <td>1.0</td>\n",
              "      <td>1.0</td>\n",
              "      <td>1.0</td>\n",
              "      <td>1.0</td>\n",
              "    </tr>\n",
              "    <tr>\n",
              "      <th>Target_YES</th>\n",
              "      <td>748.0</td>\n",
              "      <td>0.237968</td>\n",
              "      <td>0.426124</td>\n",
              "      <td>0.0</td>\n",
              "      <td>0.0</td>\n",
              "      <td>0.0</td>\n",
              "      <td>0.0</td>\n",
              "      <td>1.0</td>\n",
              "    </tr>\n",
              "  </tbody>\n",
              "</table>\n",
              "</div>\n",
              "    <div class=\"colab-df-buttons\">\n",
              "\n",
              "  <div class=\"colab-df-container\">\n",
              "    <button class=\"colab-df-convert\" onclick=\"convertToInteractive('df-ed8ea4fc-b944-46a2-bbc9-f4038e66a331')\"\n",
              "            title=\"Convert this dataframe to an interactive table.\"\n",
              "            style=\"display:none;\">\n",
              "\n",
              "  <svg xmlns=\"http://www.w3.org/2000/svg\" height=\"24px\" viewBox=\"0 -960 960 960\">\n",
              "    <path d=\"M120-120v-720h720v720H120Zm60-500h600v-160H180v160Zm220 220h160v-160H400v160Zm0 220h160v-160H400v160ZM180-400h160v-160H180v160Zm440 0h160v-160H620v160ZM180-180h160v-160H180v160Zm440 0h160v-160H620v160Z\"/>\n",
              "  </svg>\n",
              "    </button>\n",
              "\n",
              "  <style>\n",
              "    .colab-df-container {\n",
              "      display:flex;\n",
              "      gap: 12px;\n",
              "    }\n",
              "\n",
              "    .colab-df-convert {\n",
              "      background-color: #E8F0FE;\n",
              "      border: none;\n",
              "      border-radius: 50%;\n",
              "      cursor: pointer;\n",
              "      display: none;\n",
              "      fill: #1967D2;\n",
              "      height: 32px;\n",
              "      padding: 0 0 0 0;\n",
              "      width: 32px;\n",
              "    }\n",
              "\n",
              "    .colab-df-convert:hover {\n",
              "      background-color: #E2EBFA;\n",
              "      box-shadow: 0px 1px 2px rgba(60, 64, 67, 0.3), 0px 1px 3px 1px rgba(60, 64, 67, 0.15);\n",
              "      fill: #174EA6;\n",
              "    }\n",
              "\n",
              "    .colab-df-buttons div {\n",
              "      margin-bottom: 4px;\n",
              "    }\n",
              "\n",
              "    [theme=dark] .colab-df-convert {\n",
              "      background-color: #3B4455;\n",
              "      fill: #D2E3FC;\n",
              "    }\n",
              "\n",
              "    [theme=dark] .colab-df-convert:hover {\n",
              "      background-color: #434B5C;\n",
              "      box-shadow: 0px 1px 3px 1px rgba(0, 0, 0, 0.15);\n",
              "      filter: drop-shadow(0px 1px 2px rgba(0, 0, 0, 0.3));\n",
              "      fill: #FFFFFF;\n",
              "    }\n",
              "  </style>\n",
              "\n",
              "    <script>\n",
              "      const buttonEl =\n",
              "        document.querySelector('#df-ed8ea4fc-b944-46a2-bbc9-f4038e66a331 button.colab-df-convert');\n",
              "      buttonEl.style.display =\n",
              "        google.colab.kernel.accessAllowed ? 'block' : 'none';\n",
              "\n",
              "      async function convertToInteractive(key) {\n",
              "        const element = document.querySelector('#df-ed8ea4fc-b944-46a2-bbc9-f4038e66a331');\n",
              "        const dataTable =\n",
              "          await google.colab.kernel.invokeFunction('convertToInteractive',\n",
              "                                                    [key], {});\n",
              "        if (!dataTable) return;\n",
              "\n",
              "        const docLinkHtml = 'Like what you see? Visit the ' +\n",
              "          '<a target=\"_blank\" href=https://colab.research.google.com/notebooks/data_table.ipynb>data table notebook</a>'\n",
              "          + ' to learn more about interactive tables.';\n",
              "        element.innerHTML = '';\n",
              "        dataTable['output_type'] = 'display_data';\n",
              "        await google.colab.output.renderOutput(dataTable, element);\n",
              "        const docLink = document.createElement('div');\n",
              "        docLink.innerHTML = docLinkHtml;\n",
              "        element.appendChild(docLink);\n",
              "      }\n",
              "    </script>\n",
              "  </div>\n",
              "\n",
              "\n",
              "<div id=\"df-30561431-6c61-47f2-be8c-dd87c53fe4f7\">\n",
              "  <button class=\"colab-df-quickchart\" onclick=\"quickchart('df-30561431-6c61-47f2-be8c-dd87c53fe4f7')\"\n",
              "            title=\"Suggest charts\"\n",
              "            style=\"display:none;\">\n",
              "\n",
              "<svg xmlns=\"http://www.w3.org/2000/svg\" height=\"24px\"viewBox=\"0 0 24 24\"\n",
              "     width=\"24px\">\n",
              "    <g>\n",
              "        <path d=\"M19 3H5c-1.1 0-2 .9-2 2v14c0 1.1.9 2 2 2h14c1.1 0 2-.9 2-2V5c0-1.1-.9-2-2-2zM9 17H7v-7h2v7zm4 0h-2V7h2v10zm4 0h-2v-4h2v4z\"/>\n",
              "    </g>\n",
              "</svg>\n",
              "  </button>\n",
              "\n",
              "<style>\n",
              "  .colab-df-quickchart {\n",
              "      --bg-color: #E8F0FE;\n",
              "      --fill-color: #1967D2;\n",
              "      --hover-bg-color: #E2EBFA;\n",
              "      --hover-fill-color: #174EA6;\n",
              "      --disabled-fill-color: #AAA;\n",
              "      --disabled-bg-color: #DDD;\n",
              "  }\n",
              "\n",
              "  [theme=dark] .colab-df-quickchart {\n",
              "      --bg-color: #3B4455;\n",
              "      --fill-color: #D2E3FC;\n",
              "      --hover-bg-color: #434B5C;\n",
              "      --hover-fill-color: #FFFFFF;\n",
              "      --disabled-bg-color: #3B4455;\n",
              "      --disabled-fill-color: #666;\n",
              "  }\n",
              "\n",
              "  .colab-df-quickchart {\n",
              "    background-color: var(--bg-color);\n",
              "    border: none;\n",
              "    border-radius: 50%;\n",
              "    cursor: pointer;\n",
              "    display: none;\n",
              "    fill: var(--fill-color);\n",
              "    height: 32px;\n",
              "    padding: 0;\n",
              "    width: 32px;\n",
              "  }\n",
              "\n",
              "  .colab-df-quickchart:hover {\n",
              "    background-color: var(--hover-bg-color);\n",
              "    box-shadow: 0 1px 2px rgba(60, 64, 67, 0.3), 0 1px 3px 1px rgba(60, 64, 67, 0.15);\n",
              "    fill: var(--button-hover-fill-color);\n",
              "  }\n",
              "\n",
              "  .colab-df-quickchart-complete:disabled,\n",
              "  .colab-df-quickchart-complete:disabled:hover {\n",
              "    background-color: var(--disabled-bg-color);\n",
              "    fill: var(--disabled-fill-color);\n",
              "    box-shadow: none;\n",
              "  }\n",
              "\n",
              "  .colab-df-spinner {\n",
              "    border: 2px solid var(--fill-color);\n",
              "    border-color: transparent;\n",
              "    border-bottom-color: var(--fill-color);\n",
              "    animation:\n",
              "      spin 1s steps(1) infinite;\n",
              "  }\n",
              "\n",
              "  @keyframes spin {\n",
              "    0% {\n",
              "      border-color: transparent;\n",
              "      border-bottom-color: var(--fill-color);\n",
              "      border-left-color: var(--fill-color);\n",
              "    }\n",
              "    20% {\n",
              "      border-color: transparent;\n",
              "      border-left-color: var(--fill-color);\n",
              "      border-top-color: var(--fill-color);\n",
              "    }\n",
              "    30% {\n",
              "      border-color: transparent;\n",
              "      border-left-color: var(--fill-color);\n",
              "      border-top-color: var(--fill-color);\n",
              "      border-right-color: var(--fill-color);\n",
              "    }\n",
              "    40% {\n",
              "      border-color: transparent;\n",
              "      border-right-color: var(--fill-color);\n",
              "      border-top-color: var(--fill-color);\n",
              "    }\n",
              "    60% {\n",
              "      border-color: transparent;\n",
              "      border-right-color: var(--fill-color);\n",
              "    }\n",
              "    80% {\n",
              "      border-color: transparent;\n",
              "      border-right-color: var(--fill-color);\n",
              "      border-bottom-color: var(--fill-color);\n",
              "    }\n",
              "    90% {\n",
              "      border-color: transparent;\n",
              "      border-bottom-color: var(--fill-color);\n",
              "    }\n",
              "  }\n",
              "</style>\n",
              "\n",
              "  <script>\n",
              "    async function quickchart(key) {\n",
              "      const quickchartButtonEl =\n",
              "        document.querySelector('#' + key + ' button');\n",
              "      quickchartButtonEl.disabled = true;  // To prevent multiple clicks.\n",
              "      quickchartButtonEl.classList.add('colab-df-spinner');\n",
              "      try {\n",
              "        const charts = await google.colab.kernel.invokeFunction(\n",
              "            'suggestCharts', [key], {});\n",
              "      } catch (error) {\n",
              "        console.error('Error during call to suggestCharts:', error);\n",
              "      }\n",
              "      quickchartButtonEl.classList.remove('colab-df-spinner');\n",
              "      quickchartButtonEl.classList.add('colab-df-quickchart-complete');\n",
              "    }\n",
              "    (() => {\n",
              "      let quickchartButtonEl =\n",
              "        document.querySelector('#df-30561431-6c61-47f2-be8c-dd87c53fe4f7 button');\n",
              "      quickchartButtonEl.style.display =\n",
              "        google.colab.kernel.accessAllowed ? 'block' : 'none';\n",
              "    })();\n",
              "  </script>\n",
              "</div>\n",
              "\n",
              "    </div>\n",
              "  </div>\n"
            ]
          },
          "metadata": {},
          "execution_count": 43
        }
      ]
    },
    {
      "cell_type": "code",
      "source": [
        "# Q1 = df['value'].quantile(0.25)\n",
        "# Q3 = df['value'].quantile(0.75)\n",
        "# IQR = Q3 - Q1\n",
        "num_of_outliers = []\n",
        "for feature in final_dataset.columns:\n",
        "  Q1 = final_dataset[feature].quantile(0.25)\n",
        "  Q3 = final_dataset[feature].quantile(0.75)\n",
        "  IQR = Q3 - Q1\n",
        "  # IQR.append(final_dataset[feature].quantile(0.75)-final_dataset[feature].quantile(0.25))\n",
        "  iqr_outliers = final_dataset[(final_dataset[feature] < Q1 - 1.5 * IQR) | (final_dataset[feature] > Q3 + 1.5 * IQR)]\n",
        "  num_of_outliers.append(len(iqr_outliers))\n",
        "\n",
        "\n",
        "print(num_of_outliers)"
      ],
      "metadata": {
        "colab": {
          "base_uri": "https://localhost:8080/"
        },
        "id": "9z-XWvuJGQWk",
        "outputId": "94efc4ab-0bcd-48e0-d9e3-2293f4da0c56"
      },
      "execution_count": 48,
      "outputs": [
        {
          "output_type": "stream",
          "name": "stdout",
          "text": [
            "[7, 42, 45, 0, 0, 178, 178]\n"
          ]
        }
      ]
    },
    {
      "cell_type": "code",
      "source": [
        "print(final_dataset['Target_YES'].sum())\n",
        "print(final_dataset['Target_NO'].sum())\n",
        "print(final_dataset['V1'].mean())"
      ],
      "metadata": {
        "colab": {
          "base_uri": "https://localhost:8080/"
        },
        "id": "qUHfNMTiIw-W",
        "outputId": "7e5ae99c-ba06-44b7-c2f8-54ae3f7d29af"
      },
      "execution_count": 59,
      "outputs": [
        {
          "output_type": "stream",
          "name": "stdout",
          "text": [
            "178.0\n",
            "570.0\n",
            "9.532976827094473\n"
          ]
        }
      ]
    },
    {
      "cell_type": "code",
      "source": [
        "print(final_dataset['V2'].mean())\n"
      ],
      "metadata": {
        "colab": {
          "base_uri": "https://localhost:8080/"
        },
        "id": "fQJ_ksvgLW3k",
        "outputId": "12479485-9021-4384-fbe8-b73d5f670afc"
      },
      "execution_count": 64,
      "outputs": [
        {
          "output_type": "stream",
          "name": "stdout",
          "text": [
            "5.464333781965007\n"
          ]
        }
      ]
    }
  ]
}