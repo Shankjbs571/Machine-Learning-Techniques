{
  "nbformat": 4,
  "nbformat_minor": 0,
  "metadata": {
    "colab": {
      "provenance": [],
      "include_colab_link": true
    },
    "kernelspec": {
      "name": "python3",
      "display_name": "Python 3"
    },
    "language_info": {
      "name": "python"
    }
  },
  "cells": [
    {
      "cell_type": "markdown",
      "metadata": {
        "id": "view-in-github",
        "colab_type": "text"
      },
      "source": [
        "<a href=\"https://colab.research.google.com/github/Shankjbs571/Machine-Learning-Techniques/blob/main/Binary_Classification_with_Perceptron.ipynb\" target=\"_parent\"><img src=\"https://colab.research.google.com/assets/colab-badge.svg\" alt=\"Open In Colab\"/></a>"
      ]
    },
    {
      "cell_type": "markdown",
      "metadata": {
        "id": "6eU7kzTFAV8p"
      },
      "source": [
        "#Handwritten Digit Classification\n",
        "\n",
        "  * We are going to use **perceptron classifier** to classify (recognize) given digit images. Since a single perceptron could only be used for binary classification, we consider only two classes in the first half.\n",
        "\n",
        "  * we want to recognize whether the given image is of digit zero or not (digits other than zero).\n",
        "\n",
        "  * The first step is to create a dataset that contains a collection of digit images (also called examples, samples) written by humans. Then each image should be labelled properly.\n",
        "  \n",
        "  * we have **MNIST**."
      ]
    },
    {
      "cell_type": "markdown",
      "metadata": {
        "id": "kXsH_rkwkmqs"
      },
      "source": [
        "# Imports (slide 6.1 )\n",
        "* Import all necessary packages.For classification problems, we need to import classes and utilities from `sklearn.linear_model`.  \n",
        "*  This module has implementations for different classification models like `Perceptron, LogisticRegression, svm` and `knn`\n",
        "\n",
        "\n",
        "The data preprocessing utilities are imported from `sklearn.preprocessing` modules."
      ]
    },
    {
      "cell_type": "code",
      "metadata": {
        "id": "kpJip143bTRJ"
      },
      "source": [
        "# Common imports\n",
        "import numpy as np\n",
        "import os\n",
        "import io\n",
        "import warnings\n",
        "\n",
        "#sklearn specific imports\n",
        "from sklearn.datasets import fetch_openml\n",
        "from sklearn.preprocessing import MinMaxScaler\n",
        "from sklearn.linear_model import Perceptron\n",
        "from sklearn.metrics import ConfusionMatrixDisplay, confusion_matrix, precision_recall_curve\n",
        "from sklearn.metrics import precision_score, recall_score, classification_report\n",
        "from pprint import pprint\n",
        "\n",
        "# To plot pretty figures\n",
        "%matplotlib inline\n",
        "import matplotlib as mpl\n",
        "import matplotlib.pyplot as plt\n",
        "import seaborn as sns\n",
        "\n",
        "#global matplotlib settings\n",
        "mpl.rc('figure',figsize=(8,6))\n",
        "mpl.rc('axes', labelsize=14)\n",
        "mpl.rc('xtick', labelsize=12)\n",
        "mpl.rc('ytick', labelsize=12)\n",
        "\n",
        "# to make this notebook's output stable across runs\n",
        "np.random.seed(42)\n",
        "\n",
        "#import cv lib to process real world example\n",
        "import cv2"
      ],
      "execution_count": null,
      "outputs": []
    },
    {
      "cell_type": "markdown",
      "source": [
        "Following definition helps us supress some warning messages. (**Warning:** we are purposefully supressing the warnings, not a good idea in general!)."
      ],
      "metadata": {
        "id": "7G_9mNDr0SjD"
      }
    },
    {
      "cell_type": "code",
      "source": [
        "# Ignore all warnings (like convergence..) by sklearn\n",
        "def warn(*args, **kwargs):\n",
        "    pass\n",
        "warnings.warn = warn"
      ],
      "metadata": {
        "id": "mqPX8rcFVQym"
      },
      "execution_count": null,
      "outputs": []
    },
    {
      "cell_type": "markdown",
      "source": [
        "## Data Loading and preprocessing (slide 6.2)"
      ],
      "metadata": {
        "id": "y2WvcHTkrlEG"
      }
    },
    {
      "cell_type": "code",
      "metadata": {
        "id": "8o7gNFoXtGhD",
        "colab": {
          "base_uri": "https://localhost:8080/"
        },
        "outputId": "3fdd6026-650f-4bbe-a5b0-a19b71a8dadb"
      },
      "source": [
        "X,y= fetch_openml('mnist_784',version=1,return_X_y=True)\n",
        "#it returns Data and label as a pandas dataframe\n"
      ],
      "execution_count": null,
      "outputs": [
        {
          "output_type": "stream",
          "name": "stderr",
          "text": [
            "/usr/local/lib/python3.10/dist-packages/sklearn/datasets/_openml.py:968: FutureWarning: The default value of `parser` will change from `'liac-arff'` to `'auto'` in 1.4. You can set `parser='auto'` to silence this warning. Therefore, an `ImportError` will be raised from 1.4 if the dataset is dense and pandas is not installed. Note that the pandas parser may return different data types. See the Notes Section in fetch_openml's API doc for details.\n",
            "  warn(\n"
          ]
        }
      ]
    },
    {
      "cell_type": "markdown",
      "metadata": {
        "id": "5PhpVeV3lSdO"
      },
      "source": [
        "The data matrix $X$ and the respective label vector $y$ need to be converted to the numpy array by calling a `to_numpy` method."
      ]
    },
    {
      "cell_type": "code",
      "metadata": {
        "id": "xu_V1Ez7kLBt",
        "colab": {
          "base_uri": "https://localhost:8080/",
          "height": 158
        },
        "outputId": "da452930-8b85-4f76-c8bb-1b817d88ed82"
      },
      "source": [
        "X = X.to_numpy()\n",
        "y = y.to_numpy()"
      ],
      "execution_count": null,
      "outputs": [
        {
          "output_type": "error",
          "ename": "AttributeError",
          "evalue": "'numpy.ndarray' object has no attribute 'to_numpy'",
          "traceback": [
            "\u001b[0;31m---------------------------------------------------------------------------\u001b[0m",
            "\u001b[0;31mAttributeError\u001b[0m                            Traceback (most recent call last)",
            "\u001b[0;32m<ipython-input-9-5fa3743e3cd6>\u001b[0m in \u001b[0;36m<cell line: 1>\u001b[0;34m()\u001b[0m\n\u001b[0;32m----> 1\u001b[0;31m \u001b[0mX\u001b[0m \u001b[0;34m=\u001b[0m \u001b[0mX\u001b[0m\u001b[0;34m.\u001b[0m\u001b[0mto_numpy\u001b[0m\u001b[0;34m(\u001b[0m\u001b[0;34m)\u001b[0m\u001b[0;34m\u001b[0m\u001b[0;34m\u001b[0m\u001b[0m\n\u001b[0m\u001b[1;32m      2\u001b[0m \u001b[0my\u001b[0m \u001b[0;34m=\u001b[0m \u001b[0my\u001b[0m\u001b[0;34m.\u001b[0m\u001b[0mto_numpy\u001b[0m\u001b[0;34m(\u001b[0m\u001b[0;34m)\u001b[0m\u001b[0;34m\u001b[0m\u001b[0;34m\u001b[0m\u001b[0m\n",
            "\u001b[0;31mAttributeError\u001b[0m: 'numpy.ndarray' object has no attribute 'to_numpy'"
          ]
        }
      ]
    },
    {
      "cell_type": "markdown",
      "metadata": {
        "id": "yCZKIVLlQJnf"
      },
      "source": [
        "* Let's get some information like number of features,number of classes about the dataset.\n",
        "* Observe that the labels are of string data type not integers."
      ]
    },
    {
      "cell_type": "code",
      "metadata": {
        "colab": {
          "base_uri": "https://localhost:8080/"
        },
        "id": "_UzUmlzRtMJs",
        "outputId": "add5c2bf-6320-4cf5-aa27-aaa8fc596d44"
      },
      "source": [
        "target_names = np.unique(y)\n",
        "print('Number of samples: {0}, type:{1}'.format(X.shape[0],X.dtype))\n",
        "print('Number of features: {0}'.format(X.shape[1]))\n",
        "print('Minimum:{0},Maximum:{1}'.format(np.min(X),np.max(X)))\n",
        "print('Number of classes: {0}, type:{1}'.format(len(target_names),y.dtype))\n",
        "print('Labels: {0}'.format(target_names))"
      ],
      "execution_count": null,
      "outputs": [
        {
          "output_type": "stream",
          "name": "stdout",
          "text": [
            "Number of samples: 70000, type:float64\n",
            "Number of features: 784\n",
            "Minimum:0.0,Maximum:255.0\n",
            "Number of classes: 10, type:object\n",
            "Labels: ['0' '1' '2' '3' '4' '5' '6' '7' '8' '9']\n"
          ]
        }
      ]
    },
    {
      "cell_type": "markdown",
      "source": [
        "* The MNIST dataset is clean and the range of values that each feature can take is also known. Therefore, the samples in the dataset may not require many data preprocessing techniques.\n",
        "* However, it is often better to scale the range of features between 0 to 1.\n",
        "* So, we can either use `MinMaxScaler` or `MaxAbsScaler`.They don't make any difference as the image pixels can takes only positive values from 0 to 255.\n"
      ],
      "metadata": {
        "id": "y0whnZ44ZspM"
      }
    },
    {
      "cell_type": "code",
      "source": [
        "X = MinMaxScaler().fit_transform(X)\n",
        "print(\"Minimum:{0},Maximum:{1}\".format(np.min(X),np.max(X)))"
      ],
      "metadata": {
        "id": "DDh31e-EqYY_",
        "colab": {
          "base_uri": "https://localhost:8080/"
        },
        "outputId": "6de951e3-c299-4395-e61d-050d7a8b402b"
      },
      "execution_count": null,
      "outputs": [
        {
          "output_type": "stream",
          "name": "stdout",
          "text": [
            "Minimum:0.0,Maximum:1.0\n"
          ]
        }
      ]
    },
    {
      "cell_type": "markdown",
      "metadata": {
        "id": "AcVrikS870f2"
      },
      "source": [
        "## **Data Visualization**\n",
        "Let us pick a few images (the images are already shuffled in the dataset) and display them with their respective labels. As said above, the images are stacked as a row vector of size $1 \\times 784$ and therefore must be reshaped to the matrix of size $28 \\times 28$  to display them properly."
      ]
    },
    {
      "cell_type": "code",
      "metadata": {
        "colab": {
          "base_uri": "https://localhost:8080/",
          "height": 521
        },
        "id": "IgR49sQo7y3f",
        "outputId": "5e84d904-22ae-4e05-e165-26d78433848f"
      },
      "source": [
        "num_images = 9 # Choose a square number\n",
        "factor = np.int64(np.sqrt(num_images))\n",
        "fig,ax = plt.subplots(nrows=factor,ncols=factor,figsize=(8,6))\n",
        "idx_offset = 0 # take \"num_images\" starting from the index \"idx_offset\"\n",
        "for i in range(factor):\n",
        "  index = idx_offset+i*(factor)\n",
        "  for j in range(factor):\n",
        "    ax[i,j].imshow(X[index+j].reshape(28,28),cmap='gray')\n",
        "    ax[i,j].set_title('Label:{0}'.format(str(y[index+j])))\n",
        "    ax[i,j].set_axis_off()"
      ],
      "execution_count": null,
      "outputs": [
        {
          "output_type": "display_data",
          "data": {
            "text/plain": [
              "<Figure size 800x600 with 9 Axes>"
            ],
            "image/png": "[encoded data removed]"
          },
          "metadata": {}
        }
      ]
    },
    {
      "cell_type": "markdown",
      "metadata": {
        "id": "tTYTzJnCRexG"
      },
      "source": [
        "If you closely observe, you can see that there are moderate variations in the appearance of digits (say, digit:1). These matrices are also close to sparse (that is, there are lots of 0 (black pixels) in the matrix than non-zero pixels)."
      ]
    },
    {
      "cell_type": "markdown",
      "metadata": {
        "id": "4FLCArk3oxl3"
      },
      "source": [
        "It is always a good practice to inspect the image pixel values closely and ask some interesting questions such as.\n",
        "\n",
        "1.   What is the range of pixel values?\n",
        "2.   Are the pixel values highly correlated?\n",
        "3.   Is the data sparse?\n",
        "4.   What is the range of values that a single pixel(element) can take?\n",
        "5.   Do we need to apply any pre-processing methods?"
      ]
    },
    {
      "cell_type": "code",
      "metadata": {
        "colab": {
          "base_uri": "https://localhost:8080/",
          "height": 526
        },
        "id": "ahhp_fHfoS0C",
        "outputId": "ce31d896-639f-4975-a903-3d60f987bf14"
      },
      "source": [
        "plt.figure(figsize=(6,6))\n",
        "plt.imshow(X[0].reshape(28,28),cmap='gray')\n",
        "plt.show()"
      ],
      "execution_count": null,
      "outputs": [
        {
          "output_type": "display_data",
          "data": {
            "text/plain": [
              "<Figure size 600x600 with 1 Axes>"
            ],
            "image/png": "[encoded data removed]"
          },
          "metadata": {}
        }
      ]
    },
    {
      "cell_type": "markdown",
      "source": [
        "## Data Splitting"
      ],
      "metadata": {
        "id": "Bn6Kx0-bjvxE"
      }
    },
    {
      "cell_type": "markdown",
      "metadata": {
        "id": "Wlk7cxWUSs40"
      },
      "source": [
        "* Now, we know the details such as number of samples, size of each sample, number of\n",
        "features (784), number of classes (targets)  about the dataset.\n",
        "\n",
        "* So let us spilt the total number of samples into train and test set in the following ratio: 60000/10000 (that is, 60000 samples in the training set and 10000 samples in the testing set).\n"
      ]
    },
    {
      "cell_type": "code",
      "metadata": {
        "id": "5ibaUXG4x5-z"
      },
      "source": [
        "x_train,x_test,y_train,y_test = X[:60000],X[60000:],y[:60000],y[60000:]"
      ],
      "execution_count": null,
      "outputs": []
    },
    {
      "cell_type": "markdown",
      "metadata": {
        "id": "FKE1eCb4mByq"
      },
      "source": [
        "Before procedding further, we need to check whether the dataset is balanced or imbalanced. We can do it by plotting the distribution of samples in each classes."
      ]
    },
    {
      "cell_type": "code",
      "metadata": {
        "colab": {
          "base_uri": "https://localhost:8080/",
          "height": 419
        },
        "id": "Qr4R7hosbapS",
        "outputId": "8be50d2f-0363-407e-b104-b5ea0e586e63"
      },
      "source": [
        "plt.figure(figsize=(10,4))\n",
        "sns.histplot(data=np.int8(y_train),binwidth=0.45,bins=11)\n",
        "plt.xticks(ticks=[0,1,2,3,4,5,6,7,8,9],labels=[0,1,2,3,4,5,6,7,8,9])\n",
        "plt.xlabel('Class')\n",
        "plt.title('Distribution of Samples')\n",
        "plt.show()"
      ],
      "execution_count": null,
      "outputs": [
        {
          "output_type": "display_data",
          "data": {
            "text/plain": [
              "<Figure size 1000x400 with 1 Axes>"
            ],
            "image/png": "[encoded data removed]"
          },
          "metadata": {}
        }
      ]
    },
    {
      "cell_type": "markdown",
      "metadata": {
        "id": "-a3G7kdIdlbn"
      },
      "source": [
        "#Binary Classification : 0-Detector"
      ]
    },
    {
      "cell_type": "markdown",
      "metadata": {
        "id": "BJhGvI3fV4_y"
      },
      "source": [
        "## Modifying Labels\n",
        "* Let us start with a simple classification problem, that is, binary classification.\n",
        "* Since the original label vector contains **10** classes, we need to modfiy the number of classes to **2**\n",
        "\n",
        "* Therefore,  the label **0** will be changed to **1** and all other labels (1-9) will be changed to **-1**.\n",
        "\n",
        "* We name the label vectors as `y_train_0` and `y_test_0 `."
      ]
    },
    {
      "cell_type": "code",
      "metadata": {
        "id": "Qhs2a3IHzbGt"
      },
      "source": [
        "# intialize new variable names with all -1\n",
        "y_train_0 = -1*np.ones((len(y_train)))\n",
        "y_test_0 = -1*np.ones((len(y_test)))\n",
        "\n",
        "# find indices of digit 0 image\n",
        "indx_0 = np.where(y_train =='0') # remember original labels are of type str not int\n",
        "# use those indices to modify y_train_0&y_test_0\n",
        "y_train_0[indx_0] = 1\n",
        "indx_0 = np.where(y_test == '0')\n",
        "y_test_0[indx_0] = 1"
      ],
      "execution_count": null,
      "outputs": []
    },
    {
      "cell_type": "markdown",
      "metadata": {
        "id": "wyCCbcDzLe4I"
      },
      "source": [
        "## Sanity check\n",
        "* Let's display the elements of `y_train` and `y_train_0` to verify whether the labels are properly modified."
      ]
    },
    {
      "cell_type": "code",
      "metadata": {
        "colab": {
          "base_uri": "https://localhost:8080/"
        },
        "id": "MEjZav6gLsOy",
        "outputId": "54c051d2-7e24-4849-a7d4-7b07f91e54ac"
      },
      "source": [
        "print(y_train)   # 10 class labels\n",
        "print(y_train_0) # modified binary labels"
      ],
      "execution_count": null,
      "outputs": [
        {
          "output_type": "stream",
          "name": "stdout",
          "text": [
            "['5' '0' '4' ... '5' '6' '8']\n",
            "[-1.  1. -1. ... -1. -1. -1.]\n"
          ]
        }
      ]
    },
    {
      "cell_type": "code",
      "metadata": {
        "colab": {
          "base_uri": "https://localhost:8080/"
        },
        "id": "XWP1nM_hVA2C",
        "outputId": "fd1bd03a-4476-4a3c-dc35-b672354127c1"
      },
      "source": [
        "print(np.where(y_train=='0')) # index of label 0's in original vector y\n",
        "print(np.where(y_train_0 == 1)) # index of pos class in new vector"
      ],
      "execution_count": null,
      "outputs": [
        {
          "output_type": "stream",
          "name": "stdout",
          "text": [
            "(array([    1,    21,    34, ..., 59952, 59972, 59987]),)\n",
            "(array([    1,    21,    34, ..., 59952, 59972, 59987]),)\n"
          ]
        }
      ]
    },
    {
      "cell_type": "code",
      "metadata": {
        "colab": {
          "base_uri": "https://localhost:8080/",
          "height": 521
        },
        "id": "JFWU_sdLSDJH",
        "outputId": "7f7f117f-dcc8-43aa-ca7a-8a413967dd45"
      },
      "source": [
        "num_images = 9 # Choose a square number\n",
        "factor = np.int64(np.sqrt(num_images))\n",
        "fig,ax = plt.subplots(nrows=factor,ncols=factor,figsize=(8,6))\n",
        "idx_offset = 0 # take \"num_images\" starting from the index \"idx_offset\"\n",
        "for i in range(factor):\n",
        "  index = idx_offset+i*(factor)\n",
        "  for j in range(factor):\n",
        "    ax[i,j].imshow(X[index+j].reshape(28,28),cmap='gray')\n",
        "    ax[i,j].set_title('Label:{0}'.format(str(y_train_0[index+j])))\n",
        "    ax[i,j].set_axis_off()"
      ],
      "execution_count": null,
      "outputs": [
        {
          "output_type": "display_data",
          "data": {
            "text/plain": [
              "<Figure size 800x600 with 9 Axes>"
            ],
            "image/png": "[encoded data removed]"
          },
          "metadata": {}
        }
      ]
    },
    {
      "cell_type": "code",
      "metadata": {
        "colab": {
          "base_uri": "https://localhost:8080/"
        },
        "id": "6Qq9w2WqVorf",
        "outputId": "44173239-c5e1-4e16-f4bf-033afe9b6592"
      },
      "source": [
        "num_pos = len(np.where(y_train_0==1)[0])\n",
        "num_neg = len(np.where(y_train_0==-1)[0])\n",
        "print(num_pos,num_neg)"
      ],
      "execution_count": null,
      "outputs": [
        {
          "output_type": "stream",
          "name": "stdout",
          "text": [
            "5923 54077\n"
          ]
        }
      ]
    },
    {
      "cell_type": "markdown",
      "metadata": {
        "id": "9U9OMAyktiXD"
      },
      "source": [
        "#Perceptron model\n",
        "\n",
        "\n",
        "1.   List item\n",
        "2.   List item\n",
        "\n"
      ]
    },
    {
      "cell_type": "markdown",
      "metadata": {
        "id": "v7Mb615SyK67"
      },
      "source": [
        "## Theory\n",
        "1.  **Training data**: (features, label) or $(\\mathbf{X}, y)$, where label $y$ is a **discrete** number from a finite set.**Features** in this case are pixel values of an image.\n",
        "2. **Model :** \\begin{eqnarray}\n",
        "  h_{\\mathbf{w}}: y &=& \\mathrm{g}(\\mathbf{w}^T \\mathbf{x}) \\\\\n",
        "    &=& \\mathrm{g}(w_0 + w_1 x_1 + \\ldots + w_m x_m)\n",
        "\\end{eqnarray}\n",
        "where,\n",
        "  * $\\mathbf{w}$ is a weight vector in $\\mathbb{R}^{(m+1)}$ i.e. it has components: $\\{w_0, w_1, \\ldots, w_m\\}$\n",
        "  * $\\mathrm{g}(.)$ is a non-linear activation function given by a signum function:\n",
        "\\begin{equation}\n",
        "  \\mathrm{g}(z) =\\left\\{\n",
        "  \\begin{array}{@{}ll@{}}\n",
        "    +1, & \\text{if}\\ z \\ge 0 \\\\\n",
        "    -1, & \\text{otherwise (i.e. } z < 0)\n",
        "  \\end{array}\\right.\n",
        "\\end{equation}\n",
        "3.**Loss function:**\n",
        "Let $\\widehat{y^{(i)}} \\in \\{-1, +1\\}$ be the prediction from perceptron and $y^{(i)}$ be the actual label for $i$-th example.  The error is\n",
        "\\begin{equation}\n",
        "  e^{(i)} =\\left\\{\n",
        "  \\begin{array}{@{}ll@{}}\n",
        "    0, & \\text{if}\\ \\widehat{y^{(i)}} = y^{(i)} \\\\\n",
        "    -\\mathbf{w}^T \\mathbf{x}^{(i)}y^{(i)}, & \\text{otherwise (i.e. }\\widehat{y^{(i)}} \\neq y^{(i)} )\n",
        "  \\end{array}\\right.\n",
        "\\end{equation}\n",
        "\n",
        "  This can be compactly written as:\n",
        "\\begin{equation}\n",
        "  e^{(i)} = \\mathrm{max}(-\\mathbf{w}^T \\mathbf{x}^{(i)}y^{(i)}, 0)\n",
        "          = \\mathrm{max}(-h_{\\mathbf{w}}(\\mathbf{x}^{(i)})y^{(i)}, 0)\n",
        "\\end{equation}\n",
        "4.**Optimization:**\n",
        "  * Perceptron learning algorithm\n",
        "  \n",
        "  1. Initialize $\\mathbf{w}^{(0)} = \\mathbf{0}$\n",
        "  2. For each training example $\\left(\\mathbf{x}^{(i)}, y^{(i)} \\right)$:\n",
        "    * $\\hat{y}^{(i)} = \\mathrm{sign}\\left(\\mathbf{w}^T \\mathbf{x}^{(i)}\\right)$   [Calculate the output value]\n",
        "    * $\\mathbf{w}^{(t+1)} := \\mathbf{w}^{(t)} + \\alpha (y^{(i)} - \\hat{y}^{(i)})\\ \\mathbf{x}^{(i)}$  [Update the weights]\n",
        "\n",
        "  > Linearly separable examples lead to convergence of the algorithm with zero training loss, else it oscillates."
      ]
    },
    {
      "cell_type": "markdown",
      "source": [
        "## Training and Prediction (slide 6.3)\n"
      ],
      "metadata": {
        "id": "JOMxu9AmqKaT"
      }
    },
    {
      "cell_type": "markdown",
      "metadata": {
        "id": "uVj-nmJHhtHC"
      },
      "source": [
        "## Instantiation\n",
        "* lets Create an instantance of binary classifier (bin_clf) and call the `fit` method to train the model."
      ]
    },
    {
      "cell_type": "code",
      "metadata": {
        "id": "l-VmmguDF2NK"
      },
      "source": [
        "bin_clf = Perceptron(max_iter=100,random_state=1729)"
      ],
      "execution_count": null,
      "outputs": []
    },
    {
      "cell_type": "markdown",
      "metadata": {
        "id": "Wyegn53VzgaE"
      },
      "source": [
        "* Call the `fit` method to train the model"
      ]
    },
    {
      "cell_type": "code",
      "metadata": {
        "colab": {
          "base_uri": "https://localhost:8080/"
        },
        "id": "ihUCh5maspdv",
        "outputId": "182b1cc1-7a80-4f45-cce7-55c8def182e6"
      },
      "source": [
        "bin_clf.fit(x_train,y_train_0)\n",
        "print('Dimention of Weights w: {0}'.format(bin_clf.coef_.shape))\n",
        "print('Bias :{0}'.format(bin_clf.intercept_))\n",
        "print('The loss function: {0}'.format(bin_clf.loss_function_))"
      ],
      "execution_count": null,
      "outputs": [
        {
          "output_type": "stream",
          "name": "stdout",
          "text": [
            "Dimention of Weights w: (1, 784)\n",
            "Bias :[-108.]\n",
            "The loss function: <sklearn.linear_model._sgd_fast.Hinge object at 0x791e2c2f0510>\n"
          ]
        }
      ]
    },
    {
      "cell_type": "markdown",
      "metadata": {
        "id": "LJsTECTWNtn8"
      },
      "source": [
        "Let us make  predictions on the train set and then calculate the training accuracy."
      ]
    },
    {
      "cell_type": "code",
      "metadata": {
        "colab": {
          "base_uri": "https://localhost:8080/"
        },
        "id": "DvM274K6HGHQ",
        "outputId": "7c99a223-c563-4658-970c-5effd45d074e"
      },
      "source": [
        "y_hat_train_0 = bin_clf.predict(x_train)\n",
        "print('Training Accuracy: ',bin_clf.score(x_train,y_train_0))"
      ],
      "execution_count": null,
      "outputs": [
        {
          "output_type": "stream",
          "name": "stdout",
          "text": [
            "Training Accuracy:  0.99095\n"
          ]
        }
      ]
    },
    {
      "cell_type": "markdown",
      "metadata": {
        "id": "UKShZaEje-jK"
      },
      "source": [
        "Now on the Test set"
      ]
    },
    {
      "cell_type": "code",
      "metadata": {
        "colab": {
          "base_uri": "https://localhost:8080/"
        },
        "id": "wCULv57OCOLT",
        "outputId": "73c11bee-75d5-49a5-bf2b-9cea69225cff"
      },
      "source": [
        "print('Test accuracy: ',bin_clf.score(x_test,y_test_0))"
      ],
      "execution_count": null,
      "outputs": [
        {
          "output_type": "stream",
          "name": "stdout",
          "text": [
            "Test accuracy:  0.989\n"
          ]
        }
      ]
    },
    {
      "cell_type": "markdown",
      "source": [
        "## Displaying predictions\n",
        "* Taking few images from the testset at random and display it with the corresponding predictions."
      ],
      "metadata": {
        "id": "fz4gSdQHdwx1"
      }
    },
    {
      "cell_type": "code",
      "metadata": {
        "colab": {
          "base_uri": "https://localhost:8080/",
          "height": 521
        },
        "id": "mbXzUZ0a3DiC",
        "outputId": "3f6c3e2a-71df-403f-fb54-c0843e803de6"
      },
      "source": [
        "y_hat_test_0 = bin_clf.predict(x_test)\n",
        "num_images = 9 # Choose a square number\n",
        "factor = np.int64(np.sqrt(num_images))\n",
        "fig,ax = plt.subplots(nrows=factor,ncols=factor,figsize=(8,6))\n",
        "idx_offset = 0 # display \"num_images\" starting from idx_offset\n",
        "for i in range(factor):\n",
        "  index = idx_offset+i*(factor)\n",
        "  for j in range(factor):\n",
        "    ax[i,j].imshow(x_test[index+j].reshape(28,28),cmap='gray') # we should not use x_train_with_dummy\n",
        "\n",
        "    ax[i,j].set_title('Prediction:{0}'.format(str(y_hat_test_0[index+j])))\n",
        "    ax[i,j].set_axis_off()"
      ],
      "execution_count": null,
      "outputs": [
        {
          "output_type": "display_data",
          "data": {
            "text/plain": [
              "<Figure size 800x600 with 9 Axes>"
            ],
            "image/png": "[encoded data removed]"
          },
          "metadata": {}
        }
      ]
    },
    {
      "cell_type": "markdown",
      "source": [
        "* Display images of positive classes from testset along with their predictions."
      ],
      "metadata": {
        "id": "lNvdc9cceeaq"
      }
    },
    {
      "cell_type": "code",
      "metadata": {
        "id": "TrEXHnt3SivE"
      },
      "source": [
        "indx_0 = np.where(y_test_0 == 1)"
      ],
      "execution_count": null,
      "outputs": []
    },
    {
      "cell_type": "code",
      "metadata": {
        "colab": {
          "base_uri": "https://localhost:8080/",
          "height": 373
        },
        "id": "efLJGS5FVTPd",
        "outputId": "442b5f55-2845-4268-9b41-0b61bef5d4e9"
      },
      "source": [
        "zeroImgs = x_test[indx_0[0]]\n",
        "zeroLabls = y_hat_test_0[indx_0[0]]\n",
        "num_images = 9 # Choose a square number\n",
        "factor = np.int(np.sqrt(num_images))\n",
        "fig,ax = plt.subplots(nrows=factor,ncols=factor,figsize=(8,6))\n",
        "idx_offset = 0 # display \"num_images\" starting from idx_offset\n",
        "for i in range(factor):\n",
        "  index = idx_offset+i*(factor)\n",
        "  for j in range(factor):\n",
        "    ax[i,j].imshow(zeroImgs[index+j].reshape(28,28),cmap='gray') # we should not use x_train_with_dummy\n",
        "    ax[i,j].set_title('Prediction:{0}'.format(str(zeroLabls[index+j])))\n",
        "    ax[i,j].set_axis_off()"
      ],
      "execution_count": null,
      "outputs": [
        {
          "output_type": "display_data",
          "data": {
            "text/plain": [
              "<Figure size 576x432 with 9 Axes>"
            ],
            "image/png": "[encoded data removed]"
          },
          "metadata": {
            "needs_background": "light"
          }
        }
      ]
    },
    {
      "cell_type": "markdown",
      "metadata": {
        "id": "pE1zsrBhYMoX"
      },
      "source": [
        "It seems that there are a significant number of images that are correctly classified. Let's see how many?"
      ]
    },
    {
      "cell_type": "code",
      "metadata": {
        "colab": {
          "base_uri": "https://localhost:8080/"
        },
        "id": "CKeJEQMaX7YN",
        "outputId": "07ac3a0f-4fdf-4f4e-873a-ccc5ca586576"
      },
      "source": [
        "num_misclassified = np.count_nonzero(zeroLabls== -1)\n",
        "num_correctpred = len(zeroLabls)-num_misclassified\n",
        "accuracy = num_correctpred/len(zeroLabls)\n",
        "print(accuracy)"
      ],
      "execution_count": null,
      "outputs": [
        {
          "output_type": "stream",
          "name": "stdout",
          "text": [
            "0.9193877551020408\n"
          ]
        }
      ]
    },
    {
      "cell_type": "markdown",
      "source": [
        "# REAL WORLD SAMPLE TEST"
      ],
      "metadata": {
        "id": "6gaIfX9nxKIX"
      }
    },
    {
      "cell_type": "code",
      "source": [
        "\n",
        "# Load the image\n",
        "image = cv2.imread('/content/129d4ad88bd85b3f114b158df63ffb0b_w.jpeg')\n",
        "\n",
        "# Resize the image to 28x28 pixels\n",
        "resized_image = cv2.resize(image, (28, 28))\n",
        "\n",
        "# Convert the image to grayscale\n",
        "gray_image = cv2.cvtColor(resized_image, cv2.COLOR_BGR2GRAY)\n",
        "\n",
        "# Invert the grayscale image\n",
        "inverted_image = 255 - gray_image\n",
        "\n",
        "# Flatten the inverted image to a 1D array\n",
        "flattened_image = inverted_image.flatten()\n",
        "\n",
        "# Reshape the flattened image into a 2D array with a single sample\n",
        "sample = flattened_image.reshape(1, -1)\n",
        "\n",
        "# Predict using the trained perceptron model\n",
        "prediction = bin_clf.predict(sample)\n",
        "# print(type(prediction))\n",
        "# print(str(prediction[0])=='1.0')\n",
        "if str(prediction[0])=='1.0':\n",
        "  result = 'Zero Detected'\n",
        "else:\n",
        "  result = 'Non-Zero'\n",
        "print(result)\n",
        "# print(\"Predicted digit:\", prediction[0])\n",
        "\n",
        "# Plot the inverted image as a vector of pixel values\n",
        "plt.figure(figsize=(8, 4))\n",
        "plt.subplot(1, 2, 1)\n",
        "plt.imshow(inverted_image, cmap='gray')\n",
        "plt.title('Inverted Image')\n",
        "\n",
        "\n",
        "\n",
        "plt.tight_layout()\n",
        "plt.show()\n"
      ],
      "metadata": {
        "colab": {
          "base_uri": "https://localhost:8080/",
          "height": 450
        },
        "id": "mwcSbgT1fXnq",
        "outputId": "20bd5294-e90b-4a8e-b3f1-e6d41995eb64"
      },
      "execution_count": null,
      "outputs": [
        {
          "output_type": "stream",
          "name": "stdout",
          "text": [
            "Zero Detected\n"
          ]
        },
        {
          "output_type": "display_data",
          "data": {
            "text/plain": [
              "<Figure size 800x400 with 1 Axes>"
            ],
            "image/png": "[encoded data removed]"
          },
          "metadata": {}
        }
      ]
    },
    {
      "cell_type": "markdown",
      "metadata": {
        "id": "5d5h28TFcvJk"
      },
      "source": [
        "#SCOPE   Multiclass Classifier ( slide 6.4 )\n",
        "Combine multiple binary classifiers and devise a suitable scoring metric.\n"
      ]
    },
    {
      "cell_type": "code",
      "metadata": {
        "id": "LSZPhlmmc0VQ"
      },
      "source": [
        "from sklearn.linear_model import Perceptron\n",
        "from sklearn.preprocessing import LabelBinarizer"
      ],
      "execution_count": null,
      "outputs": []
    },
    {
      "cell_type": "code",
      "metadata": {
        "id": "W8UX5TuZeKrc"
      },
      "source": [
        "clf = Perceptron(random_state=1729)"
      ],
      "execution_count": null,
      "outputs": []
    },
    {
      "cell_type": "code",
      "source": [
        "# let's use label binarizer just to see the encoding\n",
        "y_train_ovr = LabelBinarizer().fit_transform(y_train) # setting sparse_output=True in LabelBinarizer() improves efficiency\n",
        "for i in range(10):\n",
        "  print('{0}:{1}'.format(y_train[i],y_train_ovr[i]))\n"
      ],
      "metadata": {
        "colab": {
          "base_uri": "https://localhost:8080/"
        },
        "id": "ok68GlcHpbxt",
        "outputId": "2b2d54d1-277d-40cd-80aa-91f722c2d5e6"
      },
      "execution_count": null,
      "outputs": [
        {
          "output_type": "stream",
          "name": "stdout",
          "text": [
            "5:[0 0 0 0 0 1 0 0 0 0]\n",
            "0:[1 0 0 0 0 0 0 0 0 0]\n",
            "4:[0 0 0 0 1 0 0 0 0 0]\n",
            "1:[0 1 0 0 0 0 0 0 0 0]\n",
            "9:[0 0 0 0 0 0 0 0 0 1]\n",
            "2:[0 0 1 0 0 0 0 0 0 0]\n",
            "1:[0 1 0 0 0 0 0 0 0 0]\n",
            "3:[0 0 0 1 0 0 0 0 0 0]\n",
            "1:[0 1 0 0 0 0 0 0 0 0]\n",
            "4:[0 0 0 0 1 0 0 0 0 0]\n"
          ]
        }
      ]
    },
    {
      "cell_type": "markdown",
      "source": [
        "* The `y_train_ovr` will be of size of size $60000 \\times 10$.\n",
        "* The first column will be a (binary) label vector for 0-detector 😀 and the next one for 1-Detector and so on.\n"
      ],
      "metadata": {
        "id": "QfymDHFKr5Vi"
      }
    },
    {
      "cell_type": "code",
      "metadata": {
        "colab": {
          "base_uri": "https://localhost:8080/",
          "height": 74
        },
        "id": "C4jwurGBeLow",
        "outputId": "5fa39ff5-4655-4dc0-f38b-8ed5e94db5d5"
      },
      "source": [
        "clf.fit(x_train,y_train)"
      ],
      "execution_count": null,
      "outputs": [
        {
          "output_type": "execute_result",
          "data": {
            "text/plain": [
              "Perceptron(random_state=1729)"
            ],
            "text/html": [
              "<style>#sk-container-id-1 {color: black;background-color: white;}#sk-container-id-1 pre{padding: 0;}#sk-container-id-1 div.sk-toggleable {background-color: white;}#sk-container-id-1 label.sk-toggleable__label {cursor: pointer;display: block;width: 100%;margin-bottom: 0;padding: 0.3em;box-sizing: border-box;text-align: center;}#sk-container-id-1 label.sk-toggleable__label-arrow:before {content: \"▸\";float: left;margin-right: 0.25em;color: #696969;}#sk-container-id-1 label.sk-toggleable__label-arrow:hover:before {color: black;}#sk-container-id-1 div.sk-estimator:hover label.sk-toggleable__label-arrow:before {color: black;}#sk-container-id-1 div.sk-toggleable__content {max-height: 0;max-width: 0;overflow: hidden;text-align: left;background-color: #f0f8ff;}#sk-container-id-1 div.sk-toggleable__content pre {margin: 0.2em;color: black;border-radius: 0.25em;background-color: #f0f8ff;}#sk-container-id-1 input.sk-toggleable__control:checked~div.sk-toggleable__content {max-height: 200px;max-width: 100%;overflow: auto;}#sk-container-id-1 input.sk-toggleable__control:checked~label.sk-toggleable__label-arrow:before {content: \"▾\";}#sk-container-id-1 div.sk-estimator input.sk-toggleable__control:checked~label.sk-toggleable__label {background-color: #d4ebff;}#sk-container-id-1 div.sk-label input.sk-toggleable__control:checked~label.sk-toggleable__label {background-color: #d4ebff;}#sk-container-id-1 input.sk-hidden--visually {border: 0;clip: rect(1px 1px 1px 1px);clip: rect(1px, 1px, 1px, 1px);height: 1px;margin: -1px;overflow: hidden;padding: 0;position: absolute;width: 1px;}#sk-container-id-1 div.sk-estimator {font-family: monospace;background-color: #f0f8ff;border: 1px dotted black;border-radius: 0.25em;box-sizing: border-box;margin-bottom: 0.5em;}#sk-container-id-1 div.sk-estimator:hover {background-color: #d4ebff;}#sk-container-id-1 div.sk-parallel-item::after {content: \"\";width: 100%;border-bottom: 1px solid gray;flex-grow: 1;}#sk-container-id-1 div.sk-label:hover label.sk-toggleable__label {background-color: #d4ebff;}#sk-container-id-1 div.sk-serial::before {content: \"\";position: absolute;border-left: 1px solid gray;box-sizing: border-box;top: 0;bottom: 0;left: 50%;z-index: 0;}#sk-container-id-1 div.sk-serial {display: flex;flex-direction: column;align-items: center;background-color: white;padding-right: 0.2em;padding-left: 0.2em;position: relative;}#sk-container-id-1 div.sk-item {position: relative;z-index: 1;}#sk-container-id-1 div.sk-parallel {display: flex;align-items: stretch;justify-content: center;background-color: white;position: relative;}#sk-container-id-1 div.sk-item::before, #sk-container-id-1 div.sk-parallel-item::before {content: \"\";position: absolute;border-left: 1px solid gray;box-sizing: border-box;top: 0;bottom: 0;left: 50%;z-index: -1;}#sk-container-id-1 div.sk-parallel-item {display: flex;flex-direction: column;z-index: 1;position: relative;background-color: white;}#sk-container-id-1 div.sk-parallel-item:first-child::after {align-self: flex-end;width: 50%;}#sk-container-id-1 div.sk-parallel-item:last-child::after {align-self: flex-start;width: 50%;}#sk-container-id-1 div.sk-parallel-item:only-child::after {width: 0;}#sk-container-id-1 div.sk-dashed-wrapped {border: 1px dashed gray;margin: 0 0.4em 0.5em 0.4em;box-sizing: border-box;padding-bottom: 0.4em;background-color: white;}#sk-container-id-1 div.sk-label label {font-family: monospace;font-weight: bold;display: inline-block;line-height: 1.2em;}#sk-container-id-1 div.sk-label-container {text-align: center;}#sk-container-id-1 div.sk-container {/* jupyter's `normalize.less` sets `[hidden] { display: none; }` but bootstrap.min.css set `[hidden] { display: none !important; }` so we also need the `!important` here to be able to override the default hidden behavior on the sphinx rendered scikit-learn.org. See: https://github.com/scikit-learn/scikit-learn/issues/21755 */display: inline-block !important;position: relative;}#sk-container-id-1 div.sk-text-repr-fallback {display: none;}</style><div id=\"sk-container-id-1\" class=\"sk-top-container\"><div class=\"sk-text-repr-fallback\"><pre>Perceptron(random_state=1729)</pre><b>In a Jupyter environment, please rerun this cell to show the HTML representation or trust the notebook. <br />On GitHub, the HTML representation is unable to render, please try loading this page with nbviewer.org.</b></div><div class=\"sk-container\" hidden><div class=\"sk-item\"><div class=\"sk-estimator sk-toggleable\"><input class=\"sk-toggleable__control sk-hidden--visually\" id=\"sk-estimator-id-1\" type=\"checkbox\" checked><label for=\"sk-estimator-id-1\" class=\"sk-toggleable__label sk-toggleable__label-arrow\">Perceptron</label><div class=\"sk-toggleable__content\"><pre>Perceptron(random_state=1729)</pre></div></div></div></div></div>"
            ]
          },
          "metadata": {},
          "execution_count": 22
        }
      ]
    },
    {
      "cell_type": "markdown",
      "metadata": {
        "id": "9twrbK8DLBK9"
      },
      "source": [
        "* What had actually happened internally was that the API automatically created 10 binary classifiers, converted labels to binary sparse matrix and trained them with the binarized labels!.\n",
        "*  During the inference time, the input will be passed through all these 10 classifiers and the highest score among the ouput from the classifiers will be considered as the predicted class.\n",
        "* To see it in action, let us execute the following lines of code"
      ]
    },
    {
      "cell_type": "code",
      "metadata": {
        "colab": {
          "base_uri": "https://localhost:8080/"
        },
        "id": "41pWALR-crrw",
        "outputId": "995dde7c-1aab-46a3-8a6e-dd167b8fe9c7"
      },
      "source": [
        "print('Shape of Weight matrix:{0} and bias vector:{1}'.format(clf.coef_.shape,clf.intercept_.shape))"
      ],
      "execution_count": null,
      "outputs": [
        {
          "output_type": "stream",
          "name": "stdout",
          "text": [
            "Shape of Weight matrix:(10, 784) and bias vector:(10,)\n"
          ]
        }
      ]
    },
    {
      "cell_type": "markdown",
      "metadata": {
        "id": "d8nlV_UHc2wX"
      },
      "source": [
        "* So it is a matrix of size $10 \\times 784$ where each row represents the weights for a single binary classifier.\n",
        "* Important difference to note is that there is no signum function associated with the perceptron.\n",
        "\n",
        "* The class of a perceptron that outputs the maximum score for the input sample is considered as the predicted class."
      ]
    },
    {
      "cell_type": "code",
      "metadata": {
        "colab": {
          "base_uri": "https://localhost:8080/"
        },
        "id": "XkvWsiPqeOhA",
        "outputId": "15e2dc9f-b312-492b-bcfe-d7660984bd55"
      },
      "source": [
        "scores = clf.decision_function(x_train[6].reshape(1,-1))\n",
        "print(scores)\n",
        "print('The predicted class: ',np.argmax(scores))"
      ],
      "execution_count": null,
      "outputs": [
        {
          "output_type": "stream",
          "name": "stdout",
          "text": [
            "[[-631.88492118  154.366213    -65.23234141  -90.95338716 -189.29568627\n",
            "  -137.14385236  -99.64604383 -159.09859285 -136.86391388 -199.26120723]]\n",
            "The predicted class:  1\n"
          ]
        }
      ]
    },
    {
      "cell_type": "code",
      "metadata": {
        "colab": {
          "base_uri": "https://localhost:8080/"
        },
        "id": "81wrltTGeW85",
        "outputId": "eb789814-6551-47c3-9387-ca52bde27386"
      },
      "source": [
        "print('Preicted output:\\n')\n",
        "print(clf.predict(x_train[0].reshape(1,-1)))"
      ],
      "execution_count": null,
      "outputs": [
        {
          "output_type": "stream",
          "name": "stdout",
          "text": [
            "Preicted output:\n",
            "\n",
            "['5']\n"
          ]
        }
      ]
    },
    {
      "cell_type": "code",
      "metadata": {
        "id": "03e6iKuNrT9b"
      },
      "source": [
        "# get the prepdiction for all training samples\n",
        "y_hat = clf.predict(x_train)"
      ],
      "execution_count": null,
      "outputs": []
    },
    {
      "cell_type": "code",
      "metadata": {
        "colab": {
          "base_uri": "https://localhost:8080/"
        },
        "id": "Aqq1OamZqlOL",
        "outputId": "bc1256d5-4c3d-44b7-8be4-cc77b2286b39"
      },
      "source": [
        "print(classification_report(y_train,y_hat))"
      ],
      "execution_count": null,
      "outputs": [
        {
          "output_type": "stream",
          "name": "stdout",
          "text": [
            "              precision    recall  f1-score   support\n",
            "\n",
            "           0       0.98      0.95      0.97      5923\n",
            "           1       0.94      0.98      0.96      6742\n",
            "           2       0.89      0.90      0.90      5958\n",
            "           3       0.86      0.87      0.87      6131\n",
            "           4       0.89      0.94      0.91      5842\n",
            "           5       0.81      0.88      0.85      5421\n",
            "           6       0.92      0.97      0.94      5918\n",
            "           7       0.91      0.94      0.92      6265\n",
            "           8       0.92      0.77      0.84      5851\n",
            "           9       0.92      0.82      0.87      5949\n",
            "\n",
            "    accuracy                           0.90     60000\n",
            "   macro avg       0.90      0.90      0.90     60000\n",
            "weighted avg       0.91      0.90      0.90     60000\n",
            "\n"
          ]
        }
      ]
    },
    {
      "cell_type": "markdown",
      "metadata": {
        "id": "Xeezz9mTrzc5"
      },
      "source": [
        "Let us display the confusion matrix and relate it with the report above."
      ]
    },
    {
      "cell_type": "code",
      "metadata": {
        "colab": {
          "base_uri": "https://localhost:8080/",
          "height": 286
        },
        "id": "DVTGf4-8tSTk",
        "outputId": "02de5f26-400c-4794-fd96-dec6609cf22c"
      },
      "source": [
        "cm_display = ConfusionMatrixDisplay.from_predictions(y_train,y_hat,values_format='.5g') # it return matplotlin plot object"
      ],
      "execution_count": null,
      "outputs": [
        {
          "output_type": "display_data",
          "data": {
            "text/plain": [
              "<Figure size 432x288 with 2 Axes>"
            ],
            "image/png": "[encoded data removed]"
          },
          "metadata": {
            "needs_background": "light"
          }
        }
      ]
    },
    {
      "cell_type": "markdown",
      "metadata": {
        "id": "8I8diVzdHaLP"
      },
      "source": [
        "* What are all the insights we could infer from the above figure?\n",
        "* Digit 2 is often confused with Digit 3 (Reasonable!)."
      ]
    },
    {
      "cell_type": "code",
      "source": [
        "\n",
        "# Load the image\n",
        "image = cv2.imread('/content/Annotation 2024-04-26 043859.jpg')\n",
        "\n",
        "# Resize the image to 28x28 pixels\n",
        "resized_image = cv2.resize(image, (28, 28))\n",
        "\n",
        "# Convert the image to grayscale\n",
        "gray_image = cv2.cvtColor(resized_image, cv2.COLOR_BGR2GRAY)\n",
        "\n",
        "# Invert the grayscale image\n",
        "inverted_image = 255 - gray_image\n",
        "\n",
        "# Flatten the inverted image to a 1D array\n",
        "flattened_image = inverted_image.flatten()\n",
        "\n",
        "# Reshape the flattened image into a 2D array with a single sample\n",
        "sample = flattened_image.reshape(1, -1)\n",
        "\n",
        "# Predict using the trained perceptron model\n",
        "prediction = clf.predict(sample)\n",
        "# print(type(prediction))\n",
        "# print(str(prediction[0])=='1.0')\n",
        "if str(prediction[0])=='1.0':\n",
        "  result = 'Zero Detected'\n",
        "else:\n",
        "  result = 'Non-Zero'\n",
        "print(result)\n",
        "# print(\"Predicted digit:\", prediction[0])\n",
        "\n",
        "# Plot the inverted image as a vector of pixel values\n",
        "plt.figure(figsize=(8, 4))\n",
        "plt.subplot(1, 2, 1)\n",
        "plt.imshow(inverted_image, cmap='gray')\n",
        "plt.title('Inverted Image')\n",
        "\n",
        "\n",
        "\n",
        "plt.tight_layout()\n",
        "plt.show()\n"
      ],
      "metadata": {
        "id": "e7QiAhQA5kTP"
      },
      "execution_count": null,
      "outputs": []
    }
  ]
}