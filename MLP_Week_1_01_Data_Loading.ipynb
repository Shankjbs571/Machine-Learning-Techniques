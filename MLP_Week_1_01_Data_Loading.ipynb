{
  "cells": [
    {
      "cell_type": "markdown",
      "metadata": {
        "id": "view-in-github",
        "colab_type": "text"
      },
      "source": [
        "<a href=\"https://colab.research.google.com/github/Shankjbs571/Machine-Learning-Techniques/blob/main/MLP_Week_1_01_Data_Loading.ipynb\" target=\"_parent\"><img src=\"https://colab.research.google.com/assets/colab-badge.svg\" alt=\"Open In Colab\"/></a>"
      ]
    },
    {
      "cell_type": "markdown",
      "metadata": {
        "id": "h_IYyDSUIeCo"
      },
      "source": [
        "# Introduction\n",
        "\n",
        "The objective of this colab is to demonstrate `sklearn` dataset API.\n",
        "\n",
        "Recall that it has three APIs:\n",
        "1. Loaders (`load_*`) load small standard datasets bundled with `sklearn`.\n",
        "2. Fetchers (`fetch_*`) fetch large datasets from the internet and loads them in memory.\n",
        "3. Generators (`generate_*`) generate controlled synthetic datasets.\n",
        "\n",
        "Loaders and fetchers return a `bunch` object and generators return a tuple of feature matrix and label vector (or matrix)."
      ]
    },
    {
      "cell_type": "markdown",
      "metadata": {
        "id": "90ku314iLQdl"
      },
      "source": [
        "# Loaders"
      ]
    },
    {
      "cell_type": "markdown",
      "metadata": {
        "id": "nRVn48pqqSmx"
      },
      "source": [
        "## Loading iris dataset"
      ]
    },
    {
      "cell_type": "code",
      "execution_count": null,
      "metadata": {
        "id": "kpLYDlQaIUUu"
      },
      "outputs": [],
      "source": [
        "from sklearn.datasets import load_iris\n",
        "data = load_iris()"
      ]
    },
    {
      "cell_type": "code",
      "source": [
        "X, y= load_iris(return_X_y=True, as_frame=True)"
      ],
      "metadata": {
        "id": "HJt38X725vw5"
      },
      "execution_count": null,
      "outputs": []
    },
    {
      "cell_type": "code",
      "source": [],
      "metadata": {
        "colab": {
          "base_uri": "https://localhost:8080/"
        },
        "id": "42JEOXoX6lm0",
        "outputId": "6b979829-f7db-40a2-e815-b5a14aa35e5a"
      },
      "execution_count": null,
      "outputs": [
        {
          "output_type": "execute_result",
          "data": {
            "text/plain": [
              "sklearn.utils._bunch.Bunch"
            ]
          },
          "metadata": {},
          "execution_count": 14
        }
      ]
    },
    {
      "cell_type": "markdown",
      "metadata": {
        "id": "kwwCZAJGLw7L"
      },
      "source": [
        "This returns a `Bunch` object `data` which is a dictionary like object with the following attributes:\n",
        "* `data`, which has the feature matrix.\n",
        "* `target`, which is the label vector\n",
        "* `feature_names` contain the names of the features.\n",
        "* `target_names` contain the names of the classes.\n",
        "* `DESCR` has the full description of dataset.\n",
        "* `filename` has the path to the location of data."
      ]
    },
    {
      "cell_type": "code",
      "execution_count": null,
      "metadata": {
        "colab": {
          "base_uri": "https://localhost:8080/"
        },
        "id": "4HlqJGSXpN60",
        "outputId": "840ef762-a1d8-405d-fa0f-c8038065e361"
      },
      "outputs": [
        {
          "output_type": "execute_result",
          "data": {
            "text/plain": [
              "sklearn.utils._bunch.Bunch"
            ]
          },
          "metadata": {},
          "execution_count": 2
        }
      ],
      "source": [
        "type(data)"
      ]
    },
    {
      "cell_type": "markdown",
      "metadata": {
        "id": "KFKGPeNvMmys"
      },
      "source": [
        "We can access them one by one and examine their contents.  For example, we can access `feature_names` as follows:"
      ]
    },
    {
      "cell_type": "code",
      "execution_count": null,
      "metadata": {
        "id": "zKtD9ST0L7Hf"
      },
      "outputs": [],
      "source": [
        "?data"
      ]
    },
    {
      "cell_type": "markdown",
      "metadata": {
        "id": "1ALnnFhkiW_6"
      },
      "source": [
        "We can see the names of the features in this dataset."
      ]
    },
    {
      "cell_type": "markdown",
      "metadata": {
        "id": "LugwWwLmjnjh"
      },
      "source": [
        "Let's examine the names of the labels."
      ]
    },
    {
      "cell_type": "code",
      "execution_count": null,
      "metadata": {
        "colab": {
          "base_uri": "https://localhost:8080/"
        },
        "id": "9eFTkExyjqeh",
        "outputId": "809ff9a9-c3e0-45e2-9666-dd636925dd42"
      },
      "outputs": [
        {
          "output_type": "execute_result",
          "data": {
            "text/plain": [
              "array(['setosa', 'versicolor', 'virginica'], dtype='<U10')"
            ]
          },
          "metadata": {},
          "execution_count": 6
        }
      ],
      "source": [
        "data.target_names"
      ]
    },
    {
      "cell_type": "markdown",
      "metadata": {
        "id": "XCZDlH1xjxOZ"
      },
      "source": [
        "There are three classes: `setosa`, `versicolor`, `virginica`."
      ]
    },
    {
      "cell_type": "markdown",
      "metadata": {
        "id": "_OUTZ1NhibOA"
      },
      "source": [
        "The feature matrix can be accessed as follows: `data.data`.  Let's look at the first five examples in feature matrix."
      ]
    },
    {
      "cell_type": "code",
      "execution_count": null,
      "metadata": {
        "colab": {
          "base_uri": "https://localhost:8080/"
        },
        "id": "TZkGny8lii3C",
        "outputId": "9c4f22aa-79d3-4cf5-b949-f10883ffe917"
      },
      "outputs": [
        {
          "data": {
            "text/plain": [
              "array([[5.1, 3.5, 1.4, 0.2],\n",
              "       [4.9, 3. , 1.4, 0.2],\n",
              "       [4.7, 3.2, 1.3, 0.2],\n",
              "       [4.6, 3.1, 1.5, 0.2],\n",
              "       [5. , 3.6, 1.4, 0.2]])"
            ]
          },
          "execution_count": 122,
          "metadata": {},
          "output_type": "execute_result"
        }
      ],
      "source": [
        "data.data[:5]"
      ]
    },
    {
      "cell_type": "markdown",
      "metadata": {
        "id": "rZ8JHFoiinZt"
      },
      "source": [
        "We can observe 4 features per example."
      ]
    },
    {
      "cell_type": "markdown",
      "metadata": {
        "id": "i79v88qGjQ8Y"
      },
      "source": [
        "Let's examine the shape of the feature matrix."
      ]
    },
    {
      "cell_type": "code",
      "execution_count": null,
      "metadata": {
        "colab": {
          "base_uri": "https://localhost:8080/"
        },
        "id": "Hv2DY6y-jUBB",
        "outputId": "fb39efa0-e99f-4ce7-d701-8a10e26920e3"
      },
      "outputs": [
        {
          "data": {
            "text/plain": [
              "(150, 4)"
            ]
          },
          "execution_count": 123,
          "metadata": {},
          "output_type": "execute_result"
        }
      ],
      "source": [
        "data.data.shape"
      ]
    },
    {
      "cell_type": "markdown",
      "metadata": {
        "id": "18BPrQ2CjZyB"
      },
      "source": [
        "There are 150 examples and each example has 4 features."
      ]
    },
    {
      "cell_type": "markdown",
      "metadata": {
        "id": "uyiUkvSVjjpJ"
      },
      "source": [
        "Finally, we will examine the label vector and its shape."
      ]
    },
    {
      "cell_type": "code",
      "execution_count": null,
      "metadata": {
        "colab": {
          "base_uri": "https://localhost:8080/"
        },
        "id": "5QZ_WsDmkJBB",
        "outputId": "fc95430a-ec01-4217-b10e-a320e1b1c004"
      },
      "outputs": [
        {
          "data": {
            "text/plain": [
              "array([0, 0, 0, 0, 0, 0, 0, 0, 0, 0, 0, 0, 0, 0, 0, 0, 0, 0, 0, 0, 0, 0,\n",
              "       0, 0, 0, 0, 0, 0, 0, 0, 0, 0, 0, 0, 0, 0, 0, 0, 0, 0, 0, 0, 0, 0,\n",
              "       0, 0, 0, 0, 0, 0, 1, 1, 1, 1, 1, 1, 1, 1, 1, 1, 1, 1, 1, 1, 1, 1,\n",
              "       1, 1, 1, 1, 1, 1, 1, 1, 1, 1, 1, 1, 1, 1, 1, 1, 1, 1, 1, 1, 1, 1,\n",
              "       1, 1, 1, 1, 1, 1, 1, 1, 1, 1, 1, 1, 2, 2, 2, 2, 2, 2, 2, 2, 2, 2,\n",
              "       2, 2, 2, 2, 2, 2, 2, 2, 2, 2, 2, 2, 2, 2, 2, 2, 2, 2, 2, 2, 2, 2,\n",
              "       2, 2, 2, 2, 2, 2, 2, 2, 2, 2, 2, 2, 2, 2, 2, 2, 2, 2])"
            ]
          },
          "execution_count": 124,
          "metadata": {},
          "output_type": "execute_result"
        }
      ],
      "source": [
        "data.target"
      ]
    },
    {
      "cell_type": "markdown",
      "metadata": {
        "id": "Fg1c-fYMkQFJ"
      },
      "source": [
        "There are 50 examples each from three classes: 0, 1 and 2."
      ]
    },
    {
      "cell_type": "markdown",
      "metadata": {
        "id": "6kcU-l-QlAdq"
      },
      "source": [
        "We can read additional documentation about `load_iris` in the following manner:"
      ]
    },
    {
      "cell_type": "code",
      "execution_count": null,
      "metadata": {
        "colab": {
          "base_uri": "https://localhost:8080/"
        },
        "id": "JXUb10GIlHsy",
        "outputId": "c796efe1-e55e-4270-c40b-fe71d753496b"
      },
      "outputs": [
        {
          "name": "stdout",
          "output_type": "stream",
          "text": [
            "Object `load_iris` not found.\n"
          ]
        }
      ],
      "source": [
        "?load_iris"
      ]
    },
    {
      "cell_type": "markdown",
      "metadata": {
        "id": "lMOf6hLXkj25"
      },
      "source": [
        "In this way, we can load and examine different datasets."
      ]
    },
    {
      "cell_type": "markdown",
      "metadata": {
        "id": "JgIRhbZZpgx8"
      },
      "source": [
        "We can obtain feature matrix and label or target from `load_iris` and other loaders in general by setting `return_X_y` argument to `True`."
      ]
    },
    {
      "cell_type": "code",
      "execution_count": null,
      "metadata": {
        "colab": {
          "base_uri": "https://localhost:8080/"
        },
        "id": "lIACYuRUpwqi",
        "outputId": "2f59d244-beba-41b0-f4e4-59bbcb528e7c"
      },
      "outputs": [
        {
          "name": "stdout",
          "output_type": "stream",
          "text": [
            "Shape of feature matrix: (150, 4)\n",
            "Shape of label vector: (150,)\n"
          ]
        }
      ],
      "source": [
        "feature_matrix, label_vector = load_iris(return_X_y=True)\n",
        "print ('Shape of feature matrix:', feature_matrix.shape)\n",
        "print ('Shape of label vector:', label_vector.shape)"
      ]
    },
    {
      "cell_type": "markdown",
      "metadata": {
        "id": "l2RGDz9WkqKo"
      },
      "source": [
        "## Loading diabetes dataset"
      ]
    },
    {
      "cell_type": "code",
      "execution_count": 1,
      "metadata": {
        "id": "MGLq6ElpkxnS"
      },
      "outputs": [],
      "source": [
        "from sklearn.datasets import load_diabetes\n",
        "X, y= load_diabetes(return_X_y = True, as_frame=True)"
      ]
    },
    {
      "cell_type": "code",
      "source": [
        "X"
      ],
      "metadata": {
        "colab": {
          "base_uri": "https://localhost:8080/",
          "height": 423
        },
        "id": "vayKp0Zs76zS",
        "outputId": "f50a6ff0-af7c-4340-b886-9f585f2368ba"
      },
      "execution_count": null,
      "outputs": [
        {
          "output_type": "execute_result",
          "data": {
            "text/plain": [
              "          age       sex       bmi        bp        s1        s2        s3  \\\n",
              "0    0.038076  0.050680  0.061696  0.021872 -0.044223 -0.034821 -0.043401   \n",
              "1   -0.001882 -0.044642 -0.051474 -0.026328 -0.008449 -0.019163  0.074412   \n",
              "2    0.085299  0.050680  0.044451 -0.005670 -0.045599 -0.034194 -0.032356   \n",
              "3   -0.089063 -0.044642 -0.011595 -0.036656  0.012191  0.024991 -0.036038   \n",
              "4    0.005383 -0.044642 -0.036385  0.021872  0.003935  0.015596  0.008142   \n",
              "..        ...       ...       ...       ...       ...       ...       ...   \n",
              "437  0.041708  0.050680  0.019662  0.059744 -0.005697 -0.002566 -0.028674   \n",
              "438 -0.005515  0.050680 -0.015906 -0.067642  0.049341  0.079165 -0.028674   \n",
              "439  0.041708  0.050680 -0.015906  0.017293 -0.037344 -0.013840 -0.024993   \n",
              "440 -0.045472 -0.044642  0.039062  0.001215  0.016318  0.015283 -0.028674   \n",
              "441 -0.045472 -0.044642 -0.073030 -0.081413  0.083740  0.027809  0.173816   \n",
              "\n",
              "           s4        s5        s6  \n",
              "0   -0.002592  0.019907 -0.017646  \n",
              "1   -0.039493 -0.068332 -0.092204  \n",
              "2   -0.002592  0.002861 -0.025930  \n",
              "3    0.034309  0.022688 -0.009362  \n",
              "4   -0.002592 -0.031988 -0.046641  \n",
              "..        ...       ...       ...  \n",
              "437 -0.002592  0.031193  0.007207  \n",
              "438  0.034309 -0.018114  0.044485  \n",
              "439 -0.011080 -0.046883  0.015491  \n",
              "440  0.026560  0.044529 -0.025930  \n",
              "441 -0.039493 -0.004222  0.003064  \n",
              "\n",
              "[442 rows x 10 columns]"
            ],
            "text/html": [
              "\n",
              "  <div id=\"df-4bfda581-d775-4038-8023-483a38576a24\" class=\"colab-df-container\">\n",
              "    <div>\n",
              "<style scoped>\n",
              "    .dataframe tbody tr th:only-of-type {\n",
              "        vertical-align: middle;\n",
              "    }\n",
              "\n",
              "    .dataframe tbody tr th {\n",
              "        vertical-align: top;\n",
              "    }\n",
              "\n",
              "    .dataframe thead th {\n",
              "        text-align: right;\n",
              "    }\n",
              "</style>\n",
              "<table border=\"1\" class=\"dataframe\">\n",
              "  <thead>\n",
              "    <tr style=\"text-align: right;\">\n",
              "      <th></th>\n",
              "      <th>age</th>\n",
              "      <th>sex</th>\n",
              "      <th>bmi</th>\n",
              "      <th>bp</th>\n",
              "      <th>s1</th>\n",
              "      <th>s2</th>\n",
              "      <th>s3</th>\n",
              "      <th>s4</th>\n",
              "      <th>s5</th>\n",
              "      <th>s6</th>\n",
              "    </tr>\n",
              "  </thead>\n",
              "  <tbody>\n",
              "    <tr>\n",
              "      <th>0</th>\n",
              "      <td>0.038076</td>\n",
              "      <td>0.050680</td>\n",
              "      <td>0.061696</td>\n",
              "      <td>0.021872</td>\n",
              "      <td>-0.044223</td>\n",
              "      <td>-0.034821</td>\n",
              "      <td>-0.043401</td>\n",
              "      <td>-0.002592</td>\n",
              "      <td>0.019907</td>\n",
              "      <td>-0.017646</td>\n",
              "    </tr>\n",
              "    <tr>\n",
              "      <th>1</th>\n",
              "      <td>-0.001882</td>\n",
              "      <td>-0.044642</td>\n",
              "      <td>-0.051474</td>\n",
              "      <td>-0.026328</td>\n",
              "      <td>-0.008449</td>\n",
              "      <td>-0.019163</td>\n",
              "      <td>0.074412</td>\n",
              "      <td>-0.039493</td>\n",
              "      <td>-0.068332</td>\n",
              "      <td>-0.092204</td>\n",
              "    </tr>\n",
              "    <tr>\n",
              "      <th>2</th>\n",
              "      <td>0.085299</td>\n",
              "      <td>0.050680</td>\n",
              "      <td>0.044451</td>\n",
              "      <td>-0.005670</td>\n",
              "      <td>-0.045599</td>\n",
              "      <td>-0.034194</td>\n",
              "      <td>-0.032356</td>\n",
              "      <td>-0.002592</td>\n",
              "      <td>0.002861</td>\n",
              "      <td>-0.025930</td>\n",
              "    </tr>\n",
              "    <tr>\n",
              "      <th>3</th>\n",
              "      <td>-0.089063</td>\n",
              "      <td>-0.044642</td>\n",
              "      <td>-0.011595</td>\n",
              "      <td>-0.036656</td>\n",
              "      <td>0.012191</td>\n",
              "      <td>0.024991</td>\n",
              "      <td>-0.036038</td>\n",
              "      <td>0.034309</td>\n",
              "      <td>0.022688</td>\n",
              "      <td>-0.009362</td>\n",
              "    </tr>\n",
              "    <tr>\n",
              "      <th>4</th>\n",
              "      <td>0.005383</td>\n",
              "      <td>-0.044642</td>\n",
              "      <td>-0.036385</td>\n",
              "      <td>0.021872</td>\n",
              "      <td>0.003935</td>\n",
              "      <td>0.015596</td>\n",
              "      <td>0.008142</td>\n",
              "      <td>-0.002592</td>\n",
              "      <td>-0.031988</td>\n",
              "      <td>-0.046641</td>\n",
              "    </tr>\n",
              "    <tr>\n",
              "      <th>...</th>\n",
              "      <td>...</td>\n",
              "      <td>...</td>\n",
              "      <td>...</td>\n",
              "      <td>...</td>\n",
              "      <td>...</td>\n",
              "      <td>...</td>\n",
              "      <td>...</td>\n",
              "      <td>...</td>\n",
              "      <td>...</td>\n",
              "      <td>...</td>\n",
              "    </tr>\n",
              "    <tr>\n",
              "      <th>437</th>\n",
              "      <td>0.041708</td>\n",
              "      <td>0.050680</td>\n",
              "      <td>0.019662</td>\n",
              "      <td>0.059744</td>\n",
              "      <td>-0.005697</td>\n",
              "      <td>-0.002566</td>\n",
              "      <td>-0.028674</td>\n",
              "      <td>-0.002592</td>\n",
              "      <td>0.031193</td>\n",
              "      <td>0.007207</td>\n",
              "    </tr>\n",
              "    <tr>\n",
              "      <th>438</th>\n",
              "      <td>-0.005515</td>\n",
              "      <td>0.050680</td>\n",
              "      <td>-0.015906</td>\n",
              "      <td>-0.067642</td>\n",
              "      <td>0.049341</td>\n",
              "      <td>0.079165</td>\n",
              "      <td>-0.028674</td>\n",
              "      <td>0.034309</td>\n",
              "      <td>-0.018114</td>\n",
              "      <td>0.044485</td>\n",
              "    </tr>\n",
              "    <tr>\n",
              "      <th>439</th>\n",
              "      <td>0.041708</td>\n",
              "      <td>0.050680</td>\n",
              "      <td>-0.015906</td>\n",
              "      <td>0.017293</td>\n",
              "      <td>-0.037344</td>\n",
              "      <td>-0.013840</td>\n",
              "      <td>-0.024993</td>\n",
              "      <td>-0.011080</td>\n",
              "      <td>-0.046883</td>\n",
              "      <td>0.015491</td>\n",
              "    </tr>\n",
              "    <tr>\n",
              "      <th>440</th>\n",
              "      <td>-0.045472</td>\n",
              "      <td>-0.044642</td>\n",
              "      <td>0.039062</td>\n",
              "      <td>0.001215</td>\n",
              "      <td>0.016318</td>\n",
              "      <td>0.015283</td>\n",
              "      <td>-0.028674</td>\n",
              "      <td>0.026560</td>\n",
              "      <td>0.044529</td>\n",
              "      <td>-0.025930</td>\n",
              "    </tr>\n",
              "    <tr>\n",
              "      <th>441</th>\n",
              "      <td>-0.045472</td>\n",
              "      <td>-0.044642</td>\n",
              "      <td>-0.073030</td>\n",
              "      <td>-0.081413</td>\n",
              "      <td>0.083740</td>\n",
              "      <td>0.027809</td>\n",
              "      <td>0.173816</td>\n",
              "      <td>-0.039493</td>\n",
              "      <td>-0.004222</td>\n",
              "      <td>0.003064</td>\n",
              "    </tr>\n",
              "  </tbody>\n",
              "</table>\n",
              "<p>442 rows × 10 columns</p>\n",
              "</div>\n",
              "    <div class=\"colab-df-buttons\">\n",
              "\n",
              "  <div class=\"colab-df-container\">\n",
              "    <button class=\"colab-df-convert\" onclick=\"convertToInteractive('df-4bfda581-d775-4038-8023-483a38576a24')\"\n",
              "            title=\"Convert this dataframe to an interactive table.\"\n",
              "            style=\"display:none;\">\n",
              "\n",
              "  <svg xmlns=\"http://www.w3.org/2000/svg\" height=\"24px\" viewBox=\"0 -960 960 960\">\n",
              "    <path d=\"M120-120v-720h720v720H120Zm60-500h600v-160H180v160Zm220 220h160v-160H400v160Zm0 220h160v-160H400v160ZM180-400h160v-160H180v160Zm440 0h160v-160H620v160ZM180-180h160v-160H180v160Zm440 0h160v-160H620v160Z\"/>\n",
              "  </svg>\n",
              "    </button>\n",
              "\n",
              "  <style>\n",
              "    .colab-df-container {\n",
              "      display:flex;\n",
              "      gap: 12px;\n",
              "    }\n",
              "\n",
              "    .colab-df-convert {\n",
              "      background-color: #E8F0FE;\n",
              "      border: none;\n",
              "      border-radius: 50%;\n",
              "      cursor: pointer;\n",
              "      display: none;\n",
              "      fill: #1967D2;\n",
              "      height: 32px;\n",
              "      padding: 0 0 0 0;\n",
              "      width: 32px;\n",
              "    }\n",
              "\n",
              "    .colab-df-convert:hover {\n",
              "      background-color: #E2EBFA;\n",
              "      box-shadow: 0px 1px 2px rgba(60, 64, 67, 0.3), 0px 1px 3px 1px rgba(60, 64, 67, 0.15);\n",
              "      fill: #174EA6;\n",
              "    }\n",
              "\n",
              "    .colab-df-buttons div {\n",
              "      margin-bottom: 4px;\n",
              "    }\n",
              "\n",
              "    [theme=dark] .colab-df-convert {\n",
              "      background-color: #3B4455;\n",
              "      fill: #D2E3FC;\n",
              "    }\n",
              "\n",
              "    [theme=dark] .colab-df-convert:hover {\n",
              "      background-color: #434B5C;\n",
              "      box-shadow: 0px 1px 3px 1px rgba(0, 0, 0, 0.15);\n",
              "      filter: drop-shadow(0px 1px 2px rgba(0, 0, 0, 0.3));\n",
              "      fill: #FFFFFF;\n",
              "    }\n",
              "  </style>\n",
              "\n",
              "    <script>\n",
              "      const buttonEl =\n",
              "        document.querySelector('#df-4bfda581-d775-4038-8023-483a38576a24 button.colab-df-convert');\n",
              "      buttonEl.style.display =\n",
              "        google.colab.kernel.accessAllowed ? 'block' : 'none';\n",
              "\n",
              "      async function convertToInteractive(key) {\n",
              "        const element = document.querySelector('#df-4bfda581-d775-4038-8023-483a38576a24');\n",
              "        const dataTable =\n",
              "          await google.colab.kernel.invokeFunction('convertToInteractive',\n",
              "                                                    [key], {});\n",
              "        if (!dataTable) return;\n",
              "\n",
              "        const docLinkHtml = 'Like what you see? Visit the ' +\n",
              "          '<a target=\"_blank\" href=https://colab.research.google.com/notebooks/data_table.ipynb>data table notebook</a>'\n",
              "          + ' to learn more about interactive tables.';\n",
              "        element.innerHTML = '';\n",
              "        dataTable['output_type'] = 'display_data';\n",
              "        await google.colab.output.renderOutput(dataTable, element);\n",
              "        const docLink = document.createElement('div');\n",
              "        docLink.innerHTML = docLinkHtml;\n",
              "        element.appendChild(docLink);\n",
              "      }\n",
              "    </script>\n",
              "  </div>\n",
              "\n",
              "\n",
              "<div id=\"df-fed57113-401d-4ed8-9f7c-5925cd26e861\">\n",
              "  <button class=\"colab-df-quickchart\" onclick=\"quickchart('df-fed57113-401d-4ed8-9f7c-5925cd26e861')\"\n",
              "            title=\"Suggest charts\"\n",
              "            style=\"display:none;\">\n",
              "\n",
              "<svg xmlns=\"http://www.w3.org/2000/svg\" height=\"24px\"viewBox=\"0 0 24 24\"\n",
              "     width=\"24px\">\n",
              "    <g>\n",
              "        <path d=\"M19 3H5c-1.1 0-2 .9-2 2v14c0 1.1.9 2 2 2h14c1.1 0 2-.9 2-2V5c0-1.1-.9-2-2-2zM9 17H7v-7h2v7zm4 0h-2V7h2v10zm4 0h-2v-4h2v4z\"/>\n",
              "    </g>\n",
              "</svg>\n",
              "  </button>\n",
              "\n",
              "<style>\n",
              "  .colab-df-quickchart {\n",
              "      --bg-color: #E8F0FE;\n",
              "      --fill-color: #1967D2;\n",
              "      --hover-bg-color: #E2EBFA;\n",
              "      --hover-fill-color: #174EA6;\n",
              "      --disabled-fill-color: #AAA;\n",
              "      --disabled-bg-color: #DDD;\n",
              "  }\n",
              "\n",
              "  [theme=dark] .colab-df-quickchart {\n",
              "      --bg-color: #3B4455;\n",
              "      --fill-color: #D2E3FC;\n",
              "      --hover-bg-color: #434B5C;\n",
              "      --hover-fill-color: #FFFFFF;\n",
              "      --disabled-bg-color: #3B4455;\n",
              "      --disabled-fill-color: #666;\n",
              "  }\n",
              "\n",
              "  .colab-df-quickchart {\n",
              "    background-color: var(--bg-color);\n",
              "    border: none;\n",
              "    border-radius: 50%;\n",
              "    cursor: pointer;\n",
              "    display: none;\n",
              "    fill: var(--fill-color);\n",
              "    height: 32px;\n",
              "    padding: 0;\n",
              "    width: 32px;\n",
              "  }\n",
              "\n",
              "  .colab-df-quickchart:hover {\n",
              "    background-color: var(--hover-bg-color);\n",
              "    box-shadow: 0 1px 2px rgba(60, 64, 67, 0.3), 0 1px 3px 1px rgba(60, 64, 67, 0.15);\n",
              "    fill: var(--button-hover-fill-color);\n",
              "  }\n",
              "\n",
              "  .colab-df-quickchart-complete:disabled,\n",
              "  .colab-df-quickchart-complete:disabled:hover {\n",
              "    background-color: var(--disabled-bg-color);\n",
              "    fill: var(--disabled-fill-color);\n",
              "    box-shadow: none;\n",
              "  }\n",
              "\n",
              "  .colab-df-spinner {\n",
              "    border: 2px solid var(--fill-color);\n",
              "    border-color: transparent;\n",
              "    border-bottom-color: var(--fill-color);\n",
              "    animation:\n",
              "      spin 1s steps(1) infinite;\n",
              "  }\n",
              "\n",
              "  @keyframes spin {\n",
              "    0% {\n",
              "      border-color: transparent;\n",
              "      border-bottom-color: var(--fill-color);\n",
              "      border-left-color: var(--fill-color);\n",
              "    }\n",
              "    20% {\n",
              "      border-color: transparent;\n",
              "      border-left-color: var(--fill-color);\n",
              "      border-top-color: var(--fill-color);\n",
              "    }\n",
              "    30% {\n",
              "      border-color: transparent;\n",
              "      border-left-color: var(--fill-color);\n",
              "      border-top-color: var(--fill-color);\n",
              "      border-right-color: var(--fill-color);\n",
              "    }\n",
              "    40% {\n",
              "      border-color: transparent;\n",
              "      border-right-color: var(--fill-color);\n",
              "      border-top-color: var(--fill-color);\n",
              "    }\n",
              "    60% {\n",
              "      border-color: transparent;\n",
              "      border-right-color: var(--fill-color);\n",
              "    }\n",
              "    80% {\n",
              "      border-color: transparent;\n",
              "      border-right-color: var(--fill-color);\n",
              "      border-bottom-color: var(--fill-color);\n",
              "    }\n",
              "    90% {\n",
              "      border-color: transparent;\n",
              "      border-bottom-color: var(--fill-color);\n",
              "    }\n",
              "  }\n",
              "</style>\n",
              "\n",
              "  <script>\n",
              "    async function quickchart(key) {\n",
              "      const quickchartButtonEl =\n",
              "        document.querySelector('#' + key + ' button');\n",
              "      quickchartButtonEl.disabled = true;  // To prevent multiple clicks.\n",
              "      quickchartButtonEl.classList.add('colab-df-spinner');\n",
              "      try {\n",
              "        const charts = await google.colab.kernel.invokeFunction(\n",
              "            'suggestCharts', [key], {});\n",
              "      } catch (error) {\n",
              "        console.error('Error during call to suggestCharts:', error);\n",
              "      }\n",
              "      quickchartButtonEl.classList.remove('colab-df-spinner');\n",
              "      quickchartButtonEl.classList.add('colab-df-quickchart-complete');\n",
              "    }\n",
              "    (() => {\n",
              "      let quickchartButtonEl =\n",
              "        document.querySelector('#df-fed57113-401d-4ed8-9f7c-5925cd26e861 button');\n",
              "      quickchartButtonEl.style.display =\n",
              "        google.colab.kernel.accessAllowed ? 'block' : 'none';\n",
              "    })();\n",
              "  </script>\n",
              "</div>\n",
              "    </div>\n",
              "  </div>\n"
            ]
          },
          "metadata": {},
          "execution_count": 21
        }
      ]
    },
    {
      "cell_type": "markdown",
      "metadata": {
        "id": "PT4X6Gkmlblw"
      },
      "source": [
        "Additional details about this loader can be accessed from the documentation."
      ]
    },
    {
      "cell_type": "code",
      "execution_count": null,
      "metadata": {
        "id": "FhRZj1JQk2uR"
      },
      "outputs": [],
      "source": [
        "?load_diabetes"
      ]
    },
    {
      "cell_type": "markdown",
      "metadata": {
        "id": "YIYK2W1ipjYx"
      },
      "source": [
        "### `load_diabetes`"
      ]
    },
    {
      "cell_type": "markdown",
      "metadata": {
        "id": "c44zl0ivpjYz"
      },
      "source": [
        "**Step 2.** Load the dataset and obtain a `Bunch` object."
      ]
    },
    {
      "cell_type": "code",
      "execution_count": 3,
      "metadata": {
        "id": "952WN2BCpjYz"
      },
      "outputs": [],
      "source": [
        "# Call the loader and obtain the `Bunch` object.\n",
        "data = load_diabetes()"
      ]
    },
    {
      "cell_type": "markdown",
      "metadata": {
        "id": "7bbH6k6CpjYz"
      },
      "source": [
        "**Step 3.** Examine the bunch object."
      ]
    },
    {
      "cell_type": "markdown",
      "metadata": {
        "id": "vFebCd_MpjY0"
      },
      "source": [
        "Look at the description of the dataset."
      ]
    },
    {
      "cell_type": "code",
      "execution_count": 4,
      "metadata": {
        "colab": {
          "base_uri": "https://localhost:8080/"
        },
        "id": "UeVfxKZbpjY0",
        "outputId": "1ba685a6-4b7a-4768-d2ef-d6643750c32c"
      },
      "outputs": [
        {
          "output_type": "execute_result",
          "data": {
            "text/plain": [
              "['age', 'sex', 'bmi', 'bp', 's1', 's2', 's3', 's4', 's5', 's6']"
            ]
          },
          "metadata": {},
          "execution_count": 4
        }
      ],
      "source": [
        "data.feature_names"
      ]
    },
    {
      "cell_type": "markdown",
      "metadata": {
        "id": "zhJjrPt7pjY0"
      },
      "source": [
        "Find out the shape of the feature matrix."
      ]
    },
    {
      "cell_type": "code",
      "execution_count": 6,
      "metadata": {
        "id": "B47UafS-pjY0",
        "colab": {
          "base_uri": "https://localhost:8080/"
        },
        "outputId": "1a41efcc-36a9-4773-8408-13ebba88bf03"
      },
      "outputs": [
        {
          "output_type": "execute_result",
          "data": {
            "text/plain": [
              "(442, 10)"
            ]
          },
          "metadata": {},
          "execution_count": 6
        }
      ],
      "source": [
        "# Write code for finding the shape of the feature matrix.\n",
        "data.data.shape"
      ]
    },
    {
      "cell_type": "markdown",
      "metadata": {
        "id": "9PaUvhqlpjY0"
      },
      "source": [
        "Look at the first five examples from the feature matrix."
      ]
    },
    {
      "cell_type": "code",
      "execution_count": 7,
      "metadata": {
        "id": "1l4oyudypjY0",
        "colab": {
          "base_uri": "https://localhost:8080/"
        },
        "outputId": "4528efdf-7154-4612-a62b-348705290d2c"
      },
      "outputs": [
        {
          "output_type": "execute_result",
          "data": {
            "text/plain": [
              "array([[ 0.03807591,  0.05068012,  0.06169621,  0.02187239, -0.0442235 ,\n",
              "        -0.03482076, -0.04340085, -0.00259226,  0.01990749, -0.01764613],\n",
              "       [-0.00188202, -0.04464164, -0.05147406, -0.02632753, -0.00844872,\n",
              "        -0.01916334,  0.07441156, -0.03949338, -0.06833155, -0.09220405],\n",
              "       [ 0.08529891,  0.05068012,  0.04445121, -0.00567042, -0.04559945,\n",
              "        -0.03419447, -0.03235593, -0.00259226,  0.00286131, -0.02593034],\n",
              "       [-0.08906294, -0.04464164, -0.01159501, -0.03665608,  0.01219057,\n",
              "         0.02499059, -0.03603757,  0.03430886,  0.02268774, -0.00936191],\n",
              "       [ 0.00538306, -0.04464164, -0.03638469,  0.02187239,  0.00393485,\n",
              "         0.01559614,  0.00814208, -0.00259226, -0.03198764, -0.04664087]])"
            ]
          },
          "metadata": {},
          "execution_count": 7
        }
      ],
      "source": [
        "# Look at the first five examples from the feature matrix.\n",
        "data.data[:5]"
      ]
    },
    {
      "cell_type": "markdown",
      "metadata": {
        "id": "MZvYYsQ2pjY1"
      },
      "source": [
        "Find out the shape of the label matrix."
      ]
    },
    {
      "cell_type": "code",
      "execution_count": 15,
      "metadata": {
        "id": "x4_bwnh-pjY1",
        "colab": {
          "base_uri": "https://localhost:8080/"
        },
        "outputId": "177537f0-773a-48b1-83f5-da35f44d297d"
      },
      "outputs": [
        {
          "output_type": "stream",
          "name": "stdout",
          "text": [
            "(442,) (442,)\n"
          ]
        }
      ],
      "source": [
        "# Write code to find shape of label matrix.\n",
        "print(data.target.shape,\n",
        "y.shape)"
      ]
    },
    {
      "cell_type": "markdown",
      "metadata": {
        "id": "aBVHP4-OpjY1"
      },
      "source": [
        "Look at the labels of the first five examples."
      ]
    },
    {
      "cell_type": "code",
      "execution_count": 19,
      "metadata": {
        "id": "A2mSGDgmpjY1",
        "colab": {
          "base_uri": "https://localhost:8080/"
        },
        "outputId": "1adf6467-9b4b-4f07-d33f-c918ff09628b"
      },
      "outputs": [
        {
          "output_type": "execute_result",
          "data": {
            "text/plain": [
              "0    151.0\n",
              "1     75.0\n",
              "2    141.0\n",
              "3    206.0\n",
              "4    135.0\n",
              "Name: target, dtype: float64"
            ]
          },
          "metadata": {},
          "execution_count": 19
        }
      ],
      "source": [
        "# Look at the labels of the first five examples.\n",
        "y.head()"
      ]
    },
    {
      "cell_type": "markdown",
      "metadata": {
        "id": "DrI4bUhOpjY1"
      },
      "source": [
        "Find out the names of the features."
      ]
    },
    {
      "cell_type": "code",
      "execution_count": 21,
      "metadata": {
        "id": "xqlgXupdpjY1",
        "colab": {
          "base_uri": "https://localhost:8080/"
        },
        "outputId": "8f5c5511-a849-424d-99cd-4ad06b5d725f"
      },
      "outputs": [
        {
          "output_type": "execute_result",
          "data": {
            "text/plain": [
              "['age', 'sex', 'bmi', 'bp', 's1', 's2', 's3', 's4', 's5', 's6']"
            ]
          },
          "metadata": {},
          "execution_count": 21
        }
      ],
      "source": [
        "# Get the names of the features.\n",
        "data.feature_names"
      ]
    },
    {
      "cell_type": "markdown",
      "metadata": {
        "id": "IESmYZ1qlqvG"
      },
      "source": [
        "## Loading digits dataset"
      ]
    },
    {
      "cell_type": "code",
      "execution_count": null,
      "metadata": {
        "id": "y5O026WYlt1O"
      },
      "outputs": [],
      "source": [
        "from sklearn.datasets import load_digits\n",
        "?load_digits"
      ]
    },
    {
      "cell_type": "code",
      "execution_count": null,
      "metadata": {
        "id": "umrTTNT0lze1"
      },
      "outputs": [],
      "source": [
        "data = load_digits()"
      ]
    },
    {
      "cell_type": "markdown",
      "metadata": {
        "id": "pTcsa4WCp6dx"
      },
      "source": [
        "### `load_digits`"
      ]
    },
    {
      "cell_type": "markdown",
      "metadata": {
        "id": "3M14aewJp6dy"
      },
      "source": [
        "**Step 2.** Load the dataset and obtain a `Bunch` object."
      ]
    },
    {
      "cell_type": "code",
      "execution_count": null,
      "metadata": {
        "id": "zcfvj87Sp6dy"
      },
      "outputs": [],
      "source": [
        "# Call the loader and obtain the `Bunch` object."
      ]
    },
    {
      "cell_type": "markdown",
      "metadata": {
        "id": "OcZlUn9Hp6dy"
      },
      "source": [
        "**Step 3.** Examine the bunch object."
      ]
    },
    {
      "cell_type": "markdown",
      "metadata": {
        "id": "Af0c-h3_p6dy"
      },
      "source": [
        "Look at the description of the dataset."
      ]
    },
    {
      "cell_type": "code",
      "execution_count": null,
      "metadata": {
        "id": "1RQ2fMtZp6dz"
      },
      "outputs": [],
      "source": []
    },
    {
      "cell_type": "markdown",
      "metadata": {
        "id": "yRve7pOqp6dz"
      },
      "source": [
        "Find out the shape of the feature matrix."
      ]
    },
    {
      "cell_type": "code",
      "execution_count": null,
      "metadata": {
        "id": "Uo6O3qMap6dz"
      },
      "outputs": [],
      "source": [
        "# Write code for finding the shape of the feature matrix."
      ]
    },
    {
      "cell_type": "markdown",
      "metadata": {
        "id": "PGk1dXgsp6dz"
      },
      "source": [
        "Look at the first five examples from the feature matrix."
      ]
    },
    {
      "cell_type": "code",
      "execution_count": null,
      "metadata": {
        "id": "QirmJQdpp6dz"
      },
      "outputs": [],
      "source": [
        "# Look at the first five examples from the feature matrix."
      ]
    },
    {
      "cell_type": "markdown",
      "metadata": {
        "id": "Tj3tgwFOp6dz"
      },
      "source": [
        "Find out the shape of the label matrix."
      ]
    },
    {
      "cell_type": "code",
      "execution_count": null,
      "metadata": {
        "id": "KqfvOtxCp6d0"
      },
      "outputs": [],
      "source": [
        "# Write code to find shape of label matrix."
      ]
    },
    {
      "cell_type": "markdown",
      "metadata": {
        "id": "lfZP5yMTp6d0"
      },
      "source": [
        "Look at the labels of the first five examples."
      ]
    },
    {
      "cell_type": "code",
      "execution_count": null,
      "metadata": {
        "id": "bNveshRmp6d0"
      },
      "outputs": [],
      "source": [
        "# Look at the labels of the first five examples."
      ]
    },
    {
      "cell_type": "markdown",
      "metadata": {
        "id": "AsfIcNNVp6d0"
      },
      "source": [
        "Find out the names of the features."
      ]
    },
    {
      "cell_type": "code",
      "execution_count": null,
      "metadata": {
        "id": "29wzHzGDp6d0"
      },
      "outputs": [],
      "source": [
        "# Get the names of the features."
      ]
    },
    {
      "cell_type": "markdown",
      "metadata": {
        "id": "cm0eLIBLp6d1"
      },
      "source": [
        "Find names of class labels."
      ]
    },
    {
      "cell_type": "code",
      "execution_count": null,
      "metadata": {
        "id": "GcMD5c-up6d1"
      },
      "outputs": [],
      "source": [
        "# Find names of class labels."
      ]
    },
    {
      "cell_type": "markdown",
      "metadata": {
        "id": "g8NXrBSkmA4z"
      },
      "source": [
        "## Exercise\n",
        "\n",
        "Experiment with other dataset loaders e.g. `load_wine`, `load_breast_cancer` and `load_linnerud`."
      ]
    },
    {
      "cell_type": "markdown",
      "metadata": {
        "id": "bQd2JPjyoPYA"
      },
      "source": [
        "### `load_wine`"
      ]
    },
    {
      "cell_type": "markdown",
      "metadata": {
        "id": "AjFhPOhJmWoV"
      },
      "source": [
        "**Step 1.** Import the loader."
      ]
    },
    {
      "cell_type": "code",
      "execution_count": null,
      "metadata": {
        "id": "rYCMIz3jmUdK"
      },
      "outputs": [],
      "source": [
        "# Write your code here.\n",
        "from sklearn.datasets import load_wine"
      ]
    },
    {
      "cell_type": "markdown",
      "metadata": {
        "id": "45bhGhH9mebV"
      },
      "source": [
        "**Step 1a.** In case, you want to know more about the loader, access its documentation by using `?<loader_name>' command."
      ]
    },
    {
      "cell_type": "code",
      "execution_count": null,
      "metadata": {
        "id": "F1Ja3JOtmpoK"
      },
      "outputs": [],
      "source": [
        "# Access the documentation.\n",
        "?load_wine"
      ]
    },
    {
      "cell_type": "markdown",
      "metadata": {
        "id": "Ge6p4Q31muLZ"
      },
      "source": [
        "**Step 2.** Load the dataset and obtain a `Bunch` object."
      ]
    },
    {
      "cell_type": "code",
      "execution_count": null,
      "metadata": {
        "id": "ypg3oLUrm9Ke"
      },
      "outputs": [],
      "source": [
        "# Call the loader and obtain the `Bunch` object.\n",
        "data = load_wine()"
      ]
    },
    {
      "cell_type": "markdown",
      "metadata": {
        "id": "z_rUczEBnGEM"
      },
      "source": [
        "**Step 3.** Examine the bunch object."
      ]
    },
    {
      "cell_type": "markdown",
      "metadata": {
        "id": "NibIvMaPoVt8"
      },
      "source": [
        "Look at the description of the dataset."
      ]
    },
    {
      "cell_type": "code",
      "execution_count": null,
      "metadata": {
        "colab": {
          "base_uri": "https://localhost:8080/",
          "height": 160
        },
        "id": "x9hqTqleoYAD",
        "outputId": "315f300a-49d2-4995-8bc8-d73c8349c77b"
      },
      "outputs": [
        {
          "data": {
            "application/vnd.google.colaboratory.intrinsic+json": {
              "type": "string"
            },
            "text/plain": [
              "'.. _wine_dataset:\\n\\nWine recognition dataset\\n------------------------\\n\\n**Data Set Characteristics:**\\n\\n    :Number of Instances: 178 (50 in each of three classes)\\n    :Number of Attributes: 13 numeric, predictive attributes and the class\\n    :Attribute Information:\\n \\t\\t- Alcohol\\n \\t\\t- Malic acid\\n \\t\\t- Ash\\n\\t\\t- Alcalinity of ash  \\n \\t\\t- Magnesium\\n\\t\\t- Total phenols\\n \\t\\t- Flavanoids\\n \\t\\t- Nonflavanoid phenols\\n \\t\\t- Proanthocyanins\\n\\t\\t- Color intensity\\n \\t\\t- Hue\\n \\t\\t- OD280/OD315 of diluted wines\\n \\t\\t- Proline\\n\\n    - class:\\n            - class_0\\n            - class_1\\n            - class_2\\n\\t\\t\\n    :Summary Statistics:\\n    \\n    ============================= ==== ===== ======= =====\\n                                   Min   Max   Mean     SD\\n    ============================= ==== ===== ======= =====\\n    Alcohol:                      11.0  14.8    13.0   0.8\\n    Malic Acid:                   0.74  5.80    2.34  1.12\\n    Ash:                          1.36  3.23    2.36  0.27\\n    Alcalinity of Ash:            10.6  30.0    19.5   3.3\\n    Magnesium:                    70.0 162.0    99.7  14.3\\n    Total Phenols:                0.98  3.88    2.29  0.63\\n    Flavanoids:                   0.34  5.08    2.03  1.00\\n    Nonflavanoid Phenols:         0.13  0.66    0.36  0.12\\n    Proanthocyanins:              0.41  3.58    1.59  0.57\\n    Colour Intensity:              1.3  13.0     5.1   2.3\\n    Hue:                          0.48  1.71    0.96  0.23\\n    OD280/OD315 of diluted wines: 1.27  4.00    2.61  0.71\\n    Proline:                       278  1680     746   315\\n    ============================= ==== ===== ======= =====\\n\\n    :Missing Attribute Values: None\\n    :Class Distribution: class_0 (59), class_1 (71), class_2 (48)\\n    :Creator: R.A. Fisher\\n    :Donor: Michael Marshall (MARSHALL%PLU@io.arc.nasa.gov)\\n    :Date: July, 1988\\n\\nThis is a copy of UCI ML Wine recognition datasets.\\nhttps://archive.ics.uci.edu/ml/machine-learning-databases/wine/wine.data\\n\\nThe data is the results of a chemical analysis of wines grown in the same\\nregion in Italy by three different cultivators. There are thirteen different\\nmeasurements taken for different constituents found in the three types of\\nwine.\\n\\nOriginal Owners: \\n\\nForina, M. et al, PARVUS - \\nAn Extendible Package for Data Exploration, Classification and Correlation. \\nInstitute of Pharmaceutical and Food Analysis and Technologies,\\nVia Brigata Salerno, 16147 Genoa, Italy.\\n\\nCitation:\\n\\nLichman, M. (2013). UCI Machine Learning Repository\\n[https://archive.ics.uci.edu/ml]. Irvine, CA: University of California,\\nSchool of Information and Computer Science. \\n\\n.. topic:: References\\n\\n  (1) S. Aeberhard, D. Coomans and O. de Vel, \\n  Comparison of Classifiers in High Dimensional Settings, \\n  Tech. Rep. no. 92-02, (1992), Dept. of Computer Science and Dept. of  \\n  Mathematics and Statistics, James Cook University of North Queensland. \\n  (Also submitted to Technometrics). \\n\\n  The data was used with many others for comparing various \\n  classifiers. The classes are separable, though only RDA \\n  has achieved 100% correct classification. \\n  (RDA : 100%, QDA 99.4%, LDA 98.9%, 1NN 96.1% (z-transformed data)) \\n  (All results using the leave-one-out technique) \\n\\n  (2) S. Aeberhard, D. Coomans and O. de Vel, \\n  \"THE CLASSIFICATION PERFORMANCE OF RDA\" \\n  Tech. Rep. no. 92-01, (1992), Dept. of Computer Science and Dept. of \\n  Mathematics and Statistics, James Cook University of North Queensland. \\n  (Also submitted to Journal of Chemometrics).\\n'"
            ]
          },
          "execution_count": 148,
          "metadata": {},
          "output_type": "execute_result"
        }
      ],
      "source": [
        "data.DESCR"
      ]
    },
    {
      "cell_type": "markdown",
      "metadata": {
        "id": "-5uTOcgGnNSb"
      },
      "source": [
        "Find out the shape of the feature matrix."
      ]
    },
    {
      "cell_type": "code",
      "execution_count": null,
      "metadata": {
        "colab": {
          "base_uri": "https://localhost:8080/"
        },
        "id": "KG7GsbgqnRQ7",
        "outputId": "34cbe5c5-d469-4842-e2a4-e0880784c9a4"
      },
      "outputs": [
        {
          "data": {
            "text/plain": [
              "(178, 13)"
            ]
          },
          "execution_count": 149,
          "metadata": {},
          "output_type": "execute_result"
        }
      ],
      "source": [
        "# Write code for finding the shape of the feature matrix.\n",
        "data.data.shape"
      ]
    },
    {
      "cell_type": "markdown",
      "metadata": {
        "id": "lHjlBH9pnu1g"
      },
      "source": [
        "Look at the first five examples from the feature matrix."
      ]
    },
    {
      "cell_type": "code",
      "execution_count": null,
      "metadata": {
        "colab": {
          "base_uri": "https://localhost:8080/"
        },
        "id": "yaAmf8tgnySL",
        "outputId": "74c7b8ae-f3fb-4d1c-f392-0ea3abf17e88"
      },
      "outputs": [
        {
          "data": {
            "text/plain": [
              "array([[1.423e+01, 1.710e+00, 2.430e+00, 1.560e+01, 1.270e+02, 2.800e+00,\n",
              "        3.060e+00, 2.800e-01, 2.290e+00, 5.640e+00, 1.040e+00, 3.920e+00,\n",
              "        1.065e+03],\n",
              "       [1.320e+01, 1.780e+00, 2.140e+00, 1.120e+01, 1.000e+02, 2.650e+00,\n",
              "        2.760e+00, 2.600e-01, 1.280e+00, 4.380e+00, 1.050e+00, 3.400e+00,\n",
              "        1.050e+03],\n",
              "       [1.316e+01, 2.360e+00, 2.670e+00, 1.860e+01, 1.010e+02, 2.800e+00,\n",
              "        3.240e+00, 3.000e-01, 2.810e+00, 5.680e+00, 1.030e+00, 3.170e+00,\n",
              "        1.185e+03],\n",
              "       [1.437e+01, 1.950e+00, 2.500e+00, 1.680e+01, 1.130e+02, 3.850e+00,\n",
              "        3.490e+00, 2.400e-01, 2.180e+00, 7.800e+00, 8.600e-01, 3.450e+00,\n",
              "        1.480e+03],\n",
              "       [1.324e+01, 2.590e+00, 2.870e+00, 2.100e+01, 1.180e+02, 2.800e+00,\n",
              "        2.690e+00, 3.900e-01, 1.820e+00, 4.320e+00, 1.040e+00, 2.930e+00,\n",
              "        7.350e+02]])"
            ]
          },
          "execution_count": 150,
          "metadata": {},
          "output_type": "execute_result"
        }
      ],
      "source": [
        "# Look at the first five examples from the feature matrix.\n",
        "data.data[:5]"
      ]
    },
    {
      "cell_type": "markdown",
      "metadata": {
        "id": "4jRiqTDTnXX2"
      },
      "source": [
        "Find out the shape of the label matrix."
      ]
    },
    {
      "cell_type": "code",
      "execution_count": null,
      "metadata": {
        "colab": {
          "base_uri": "https://localhost:8080/"
        },
        "id": "qdnJezyuncGL",
        "outputId": "cbd9933b-ab0f-4fc9-d963-b31603ee4c1f"
      },
      "outputs": [
        {
          "data": {
            "text/plain": [
              "(178,)"
            ]
          },
          "execution_count": 151,
          "metadata": {},
          "output_type": "execute_result"
        }
      ],
      "source": [
        "# Write code to find shape of label matrix.\n",
        "data.target.shape"
      ]
    },
    {
      "cell_type": "markdown",
      "metadata": {
        "id": "o8qxk_kkn2P7"
      },
      "source": [
        "Look at the labels of the first five examples."
      ]
    },
    {
      "cell_type": "code",
      "execution_count": null,
      "metadata": {
        "colab": {
          "base_uri": "https://localhost:8080/"
        },
        "id": "oDw0-5PTn6Zc",
        "outputId": "9025c951-7f02-4ef1-994a-ead95cc2b608"
      },
      "outputs": [
        {
          "data": {
            "text/plain": [
              "array([0, 0, 0, 0, 0])"
            ]
          },
          "execution_count": 152,
          "metadata": {},
          "output_type": "execute_result"
        }
      ],
      "source": [
        "# Look at the labels of the first five examples.\n",
        "data.target[:5]"
      ]
    },
    {
      "cell_type": "markdown",
      "metadata": {
        "id": "l8HAxlPgnfYT"
      },
      "source": [
        "Find out the names of the features."
      ]
    },
    {
      "cell_type": "code",
      "execution_count": null,
      "metadata": {
        "colab": {
          "base_uri": "https://localhost:8080/"
        },
        "id": "3v8gX10Knh87",
        "outputId": "13efc7ae-ebcb-4562-e0a9-2f6f9be8ee35"
      },
      "outputs": [
        {
          "data": {
            "text/plain": [
              "['alcohol',\n",
              " 'malic_acid',\n",
              " 'ash',\n",
              " 'alcalinity_of_ash',\n",
              " 'magnesium',\n",
              " 'total_phenols',\n",
              " 'flavanoids',\n",
              " 'nonflavanoid_phenols',\n",
              " 'proanthocyanins',\n",
              " 'color_intensity',\n",
              " 'hue',\n",
              " 'od280/od315_of_diluted_wines',\n",
              " 'proline']"
            ]
          },
          "execution_count": 153,
          "metadata": {},
          "output_type": "execute_result"
        }
      ],
      "source": [
        "# Get the names of the features.\n",
        "data.feature_names"
      ]
    },
    {
      "cell_type": "markdown",
      "metadata": {
        "id": "2hwCofIunluj"
      },
      "source": [
        "Find names of class labels."
      ]
    },
    {
      "cell_type": "code",
      "execution_count": null,
      "metadata": {
        "colab": {
          "base_uri": "https://localhost:8080/"
        },
        "id": "ytZaqKnynqhT",
        "outputId": "59d31c4a-2110-480f-92ca-7ee1cd7ad02e"
      },
      "outputs": [
        {
          "data": {
            "text/plain": [
              "array(['class_0', 'class_1', 'class_2'], dtype='<U7')"
            ]
          },
          "execution_count": 154,
          "metadata": {},
          "output_type": "execute_result"
        }
      ],
      "source": [
        "# Find names of class labels.\n",
        "data.target_names"
      ]
    },
    {
      "cell_type": "markdown",
      "source": [],
      "metadata": {
        "id": "GU4yC5p58zVM"
      }
    },
    {
      "cell_type": "code",
      "source": [
        "X, y = load_wine(return_X_y= True,\n",
        "                 as_frame=True)"
      ],
      "metadata": {
        "id": "MRXdiFah80L9"
      },
      "execution_count": null,
      "outputs": []
    },
    {
      "cell_type": "code",
      "source": [
        "X.info()"
      ],
      "metadata": {
        "colab": {
          "base_uri": "https://localhost:8080/"
        },
        "id": "7IT-4FzU88nC",
        "outputId": "e62a9c11-cd38-44ae-84c8-97de7aab9768"
      },
      "execution_count": null,
      "outputs": [
        {
          "output_type": "stream",
          "name": "stdout",
          "text": [
            "<class 'pandas.core.frame.DataFrame'>\n",
            "RangeIndex: 178 entries, 0 to 177\n",
            "Data columns (total 13 columns):\n",
            " #   Column                        Non-Null Count  Dtype  \n",
            "---  ------                        --------------  -----  \n",
            " 0   alcohol                       178 non-null    float64\n",
            " 1   malic_acid                    178 non-null    float64\n",
            " 2   ash                           178 non-null    float64\n",
            " 3   alcalinity_of_ash             178 non-null    float64\n",
            " 4   magnesium                     178 non-null    float64\n",
            " 5   total_phenols                 178 non-null    float64\n",
            " 6   flavanoids                    178 non-null    float64\n",
            " 7   nonflavanoid_phenols          178 non-null    float64\n",
            " 8   proanthocyanins               178 non-null    float64\n",
            " 9   color_intensity               178 non-null    float64\n",
            " 10  hue                           178 non-null    float64\n",
            " 11  od280/od315_of_diluted_wines  178 non-null    float64\n",
            " 12  proline                       178 non-null    float64\n",
            "dtypes: float64(13)\n",
            "memory usage: 18.2 KB\n"
          ]
        }
      ]
    },
    {
      "cell_type": "markdown",
      "metadata": {
        "id": "Z__t2RLEocmc"
      },
      "source": [
        "### `load_breast_cancer`"
      ]
    },
    {
      "cell_type": "markdown",
      "metadata": {
        "id": "0Ir2IoYfocmc"
      },
      "source": [
        "**Step 1.** Import the loader."
      ]
    },
    {
      "cell_type": "code",
      "execution_count": null,
      "metadata": {
        "id": "1jSARrg1ocmc"
      },
      "outputs": [],
      "source": [
        "# Write your code here.\n",
        "from sklearn.datasets import load_breast_cancer"
      ]
    },
    {
      "cell_type": "markdown",
      "metadata": {
        "id": "7ZYVIIqdocmd"
      },
      "source": [
        "**Step 1a.** In case, you want to know more about the loader, access its documentation by using `?<loader_name>' command."
      ]
    },
    {
      "cell_type": "code",
      "execution_count": null,
      "metadata": {
        "id": "WHyyxvKUocmd"
      },
      "outputs": [],
      "source": [
        "# Access the documentation.\n",
        "?load_breast_cancer"
      ]
    },
    {
      "cell_type": "markdown",
      "metadata": {
        "id": "qvaXZUvfocmd"
      },
      "source": [
        "**Step 2.** Load the dataset and obtain a `Bunch` object."
      ]
    },
    {
      "cell_type": "code",
      "execution_count": null,
      "metadata": {
        "id": "wvbHbgdCocmd"
      },
      "outputs": [],
      "source": [
        "# Call the loader and obtain the `Bunch` object.\n",
        "bc_data = load_breast_cancer()"
      ]
    },
    {
      "cell_type": "markdown",
      "metadata": {
        "id": "Ra51vhfmocmd"
      },
      "source": [
        "**Step 3.** Examine the bunch object."
      ]
    },
    {
      "cell_type": "markdown",
      "metadata": {
        "id": "1Fg_Qlziocme"
      },
      "source": [
        "Look at the description of the dataset."
      ]
    },
    {
      "cell_type": "code",
      "execution_count": null,
      "metadata": {
        "id": "eaK4WHrEocme",
        "colab": {
          "base_uri": "https://localhost:8080/",
          "height": 192
        },
        "outputId": "b34feaa9-00d0-45f7-8178-272b3d0eb38a"
      },
      "outputs": [
        {
          "output_type": "execute_result",
          "data": {
            "text/plain": [
              "'.. _breast_cancer_dataset:\\n\\nBreast cancer wisconsin (diagnostic) dataset\\n--------------------------------------------\\n\\n**Data Set Characteristics:**\\n\\n    :Number of Instances: 569\\n\\n    :Number of Attributes: 30 numeric, predictive attributes and the class\\n\\n    :Attribute Information:\\n        - radius (mean of distances from center to points on the perimeter)\\n        - texture (standard deviation of gray-scale values)\\n        - perimeter\\n        - area\\n        - smoothness (local variation in radius lengths)\\n        - compactness (perimeter^2 / area - 1.0)\\n        - concavity (severity of concave portions of the contour)\\n        - concave points (number of concave portions of the contour)\\n        - symmetry\\n        - fractal dimension (\"coastline approximation\" - 1)\\n\\n        The mean, standard error, and \"worst\" or largest (mean of the three\\n        worst/largest values) of these features were computed for each image,\\n        resulting in 30 features.  For instance, field 0 is Mean Radius, field\\n        10 is Radius SE, field 20 is Worst Radius.\\n\\n        - class:\\n                - WDBC-Malignant\\n                - WDBC-Benign\\n\\n    :Summary Statistics:\\n\\n    ===================================== ====== ======\\n                                           Min    Max\\n    ===================================== ====== ======\\n    radius (mean):                        6.981  28.11\\n    texture (mean):                       9.71   39.28\\n    perimeter (mean):                     43.79  188.5\\n    area (mean):                          143.5  2501.0\\n    smoothness (mean):                    0.053  0.163\\n    compactness (mean):                   0.019  0.345\\n    concavity (mean):                     0.0    0.427\\n    concave points (mean):                0.0    0.201\\n    symmetry (mean):                      0.106  0.304\\n    fractal dimension (mean):             0.05   0.097\\n    radius (standard error):              0.112  2.873\\n    texture (standard error):             0.36   4.885\\n    perimeter (standard error):           0.757  21.98\\n    area (standard error):                6.802  542.2\\n    smoothness (standard error):          0.002  0.031\\n    compactness (standard error):         0.002  0.135\\n    concavity (standard error):           0.0    0.396\\n    concave points (standard error):      0.0    0.053\\n    symmetry (standard error):            0.008  0.079\\n    fractal dimension (standard error):   0.001  0.03\\n    radius (worst):                       7.93   36.04\\n    texture (worst):                      12.02  49.54\\n    perimeter (worst):                    50.41  251.2\\n    area (worst):                         185.2  4254.0\\n    smoothness (worst):                   0.071  0.223\\n    compactness (worst):                  0.027  1.058\\n    concavity (worst):                    0.0    1.252\\n    concave points (worst):               0.0    0.291\\n    symmetry (worst):                     0.156  0.664\\n    fractal dimension (worst):            0.055  0.208\\n    ===================================== ====== ======\\n\\n    :Missing Attribute Values: None\\n\\n    :Class Distribution: 212 - Malignant, 357 - Benign\\n\\n    :Creator:  Dr. William H. Wolberg, W. Nick Street, Olvi L. Mangasarian\\n\\n    :Donor: Nick Street\\n\\n    :Date: November, 1995\\n\\nThis is a copy of UCI ML Breast Cancer Wisconsin (Diagnostic) datasets.\\nhttps://goo.gl/U2Uwz2\\n\\nFeatures are computed from a digitized image of a fine needle\\naspirate (FNA) of a breast mass.  They describe\\ncharacteristics of the cell nuclei present in the image.\\n\\nSeparating plane described above was obtained using\\nMultisurface Method-Tree (MSM-T) [K. P. Bennett, \"Decision Tree\\nConstruction Via Linear Programming.\" Proceedings of the 4th\\nMidwest Artificial Intelligence and Cognitive Science Society,\\npp. 97-101, 1992], a classification method which uses linear\\nprogramming to construct a decision tree.  Relevant features\\nwere selected using an exhaustive search in the space of 1-4\\nfeatures and 1-3 separating planes.\\n\\nThe actual linear program used to obtain the separating plane\\nin the 3-dimensional space is that described in:\\n[K. P. Bennett and O. L. Mangasarian: \"Robust Linear\\nProgramming Discrimination of Two Linearly Inseparable Sets\",\\nOptimization Methods and Software 1, 1992, 23-34].\\n\\nThis database is also available through the UW CS ftp server:\\n\\nftp ftp.cs.wisc.edu\\ncd math-prog/cpo-dataset/machine-learn/WDBC/\\n\\n.. topic:: References\\n\\n   - W.N. Street, W.H. Wolberg and O.L. Mangasarian. Nuclear feature extraction \\n     for breast tumor diagnosis. IS&T/SPIE 1993 International Symposium on \\n     Electronic Imaging: Science and Technology, volume 1905, pages 861-870,\\n     San Jose, CA, 1993.\\n   - O.L. Mangasarian, W.N. Street and W.H. Wolberg. Breast cancer diagnosis and \\n     prognosis via linear programming. Operations Research, 43(4), pages 570-577, \\n     July-August 1995.\\n   - W.H. Wolberg, W.N. Street, and O.L. Mangasarian. Machine learning techniques\\n     to diagnose breast cancer from fine-needle aspirates. Cancer Letters 77 (1994) \\n     163-171.'"
            ],
            "application/vnd.google.colaboratory.intrinsic+json": {
              "type": "string"
            }
          },
          "metadata": {},
          "execution_count": 4
        }
      ],
      "source": [
        "bc_data.DESCR"
      ]
    },
    {
      "cell_type": "markdown",
      "metadata": {
        "id": "P1MxEwayocme"
      },
      "source": [
        "Find out the shape of the feature matrix."
      ]
    },
    {
      "cell_type": "code",
      "execution_count": null,
      "metadata": {
        "id": "XUMfUltMocme",
        "colab": {
          "base_uri": "https://localhost:8080/"
        },
        "outputId": "9cb11e06-c843-4388-8acc-1b6f411a83a1"
      },
      "outputs": [
        {
          "output_type": "execute_result",
          "data": {
            "text/plain": [
              "(569, 30)"
            ]
          },
          "metadata": {},
          "execution_count": 6
        }
      ],
      "source": [
        "# Write code for finding the shape of the feature matrix.\n",
        "bc_data.data.shape\n"
      ]
    },
    {
      "cell_type": "markdown",
      "metadata": {
        "id": "0DbZTtdXocme"
      },
      "source": [
        "Look at the first five examples from the feature matrix."
      ]
    },
    {
      "cell_type": "code",
      "execution_count": null,
      "metadata": {
        "id": "jXOWajy3ocmf",
        "colab": {
          "base_uri": "https://localhost:8080/"
        },
        "outputId": "eeb1c320-e418-48b6-cf7e-6a1923dbdeb9"
      },
      "outputs": [
        {
          "output_type": "execute_result",
          "data": {
            "text/plain": [
              "array([[1.799e+01, 1.038e+01, 1.228e+02, 1.001e+03, 1.184e-01, 2.776e-01,\n",
              "        3.001e-01, 1.471e-01, 2.419e-01, 7.871e-02, 1.095e+00, 9.053e-01,\n",
              "        8.589e+00, 1.534e+02, 6.399e-03, 4.904e-02, 5.373e-02, 1.587e-02,\n",
              "        3.003e-02, 6.193e-03, 2.538e+01, 1.733e+01, 1.846e+02, 2.019e+03,\n",
              "        1.622e-01, 6.656e-01, 7.119e-01, 2.654e-01, 4.601e-01, 1.189e-01],\n",
              "       [2.057e+01, 1.777e+01, 1.329e+02, 1.326e+03, 8.474e-02, 7.864e-02,\n",
              "        8.690e-02, 7.017e-02, 1.812e-01, 5.667e-02, 5.435e-01, 7.339e-01,\n",
              "        3.398e+00, 7.408e+01, 5.225e-03, 1.308e-02, 1.860e-02, 1.340e-02,\n",
              "        1.389e-02, 3.532e-03, 2.499e+01, 2.341e+01, 1.588e+02, 1.956e+03,\n",
              "        1.238e-01, 1.866e-01, 2.416e-01, 1.860e-01, 2.750e-01, 8.902e-02],\n",
              "       [1.969e+01, 2.125e+01, 1.300e+02, 1.203e+03, 1.096e-01, 1.599e-01,\n",
              "        1.974e-01, 1.279e-01, 2.069e-01, 5.999e-02, 7.456e-01, 7.869e-01,\n",
              "        4.585e+00, 9.403e+01, 6.150e-03, 4.006e-02, 3.832e-02, 2.058e-02,\n",
              "        2.250e-02, 4.571e-03, 2.357e+01, 2.553e+01, 1.525e+02, 1.709e+03,\n",
              "        1.444e-01, 4.245e-01, 4.504e-01, 2.430e-01, 3.613e-01, 8.758e-02],\n",
              "       [1.142e+01, 2.038e+01, 7.758e+01, 3.861e+02, 1.425e-01, 2.839e-01,\n",
              "        2.414e-01, 1.052e-01, 2.597e-01, 9.744e-02, 4.956e-01, 1.156e+00,\n",
              "        3.445e+00, 2.723e+01, 9.110e-03, 7.458e-02, 5.661e-02, 1.867e-02,\n",
              "        5.963e-02, 9.208e-03, 1.491e+01, 2.650e+01, 9.887e+01, 5.677e+02,\n",
              "        2.098e-01, 8.663e-01, 6.869e-01, 2.575e-01, 6.638e-01, 1.730e-01],\n",
              "       [2.029e+01, 1.434e+01, 1.351e+02, 1.297e+03, 1.003e-01, 1.328e-01,\n",
              "        1.980e-01, 1.043e-01, 1.809e-01, 5.883e-02, 7.572e-01, 7.813e-01,\n",
              "        5.438e+00, 9.444e+01, 1.149e-02, 2.461e-02, 5.688e-02, 1.885e-02,\n",
              "        1.756e-02, 5.115e-03, 2.254e+01, 1.667e+01, 1.522e+02, 1.575e+03,\n",
              "        1.374e-01, 2.050e-01, 4.000e-01, 1.625e-01, 2.364e-01, 7.678e-02]])"
            ]
          },
          "metadata": {},
          "execution_count": 8
        }
      ],
      "source": [
        "# Look at the first five examples from the feature matrix.\n",
        "bc_data.data[:5]"
      ]
    },
    {
      "cell_type": "markdown",
      "metadata": {
        "id": "3EtynaMfocmf"
      },
      "source": [
        "Find out the shape of the label matrix."
      ]
    },
    {
      "cell_type": "code",
      "execution_count": null,
      "metadata": {
        "id": "eFjyDtFaocmf",
        "colab": {
          "base_uri": "https://localhost:8080/"
        },
        "outputId": "241f1480-5fde-4957-9784-7bdf56d4be75"
      },
      "outputs": [
        {
          "output_type": "execute_result",
          "data": {
            "text/plain": [
              "(569,)"
            ]
          },
          "metadata": {},
          "execution_count": 12
        }
      ],
      "source": [
        "# Write code to find shape of label matrix.\n",
        "bc_data.target.shape"
      ]
    },
    {
      "cell_type": "markdown",
      "metadata": {
        "id": "t63ZIHVJocmf"
      },
      "source": [
        "Look at the labels of the first five examples."
      ]
    },
    {
      "cell_type": "code",
      "execution_count": null,
      "metadata": {
        "id": "dcuFTVw0ocmf"
      },
      "outputs": [],
      "source": [
        "# Look at the labels of the first five examples."
      ]
    },
    {
      "cell_type": "markdown",
      "metadata": {
        "id": "NRNqY7yyocmg"
      },
      "source": [
        "Find out the names of the features."
      ]
    },
    {
      "cell_type": "code",
      "execution_count": null,
      "metadata": {
        "id": "rbu5_2GWocmg",
        "colab": {
          "base_uri": "https://localhost:8080/"
        },
        "outputId": "93493937-3dd1-467e-9bba-1ffcbebd60cc"
      },
      "outputs": [
        {
          "output_type": "execute_result",
          "data": {
            "text/plain": [
              "array(['mean radius', 'mean texture', 'mean perimeter', 'mean area',\n",
              "       'mean smoothness', 'mean compactness', 'mean concavity',\n",
              "       'mean concave points', 'mean symmetry', 'mean fractal dimension',\n",
              "       'radius error', 'texture error', 'perimeter error', 'area error',\n",
              "       'smoothness error', 'compactness error', 'concavity error',\n",
              "       'concave points error', 'symmetry error',\n",
              "       'fractal dimension error', 'worst radius', 'worst texture',\n",
              "       'worst perimeter', 'worst area', 'worst smoothness',\n",
              "       'worst compactness', 'worst concavity', 'worst concave points',\n",
              "       'worst symmetry', 'worst fractal dimension'], dtype='<U23')"
            ]
          },
          "metadata": {},
          "execution_count": 13
        }
      ],
      "source": [
        "# Get the names of the features.\n",
        "bc_data.feature_names"
      ]
    },
    {
      "cell_type": "markdown",
      "metadata": {
        "id": "jejtPi7iocmg"
      },
      "source": [
        "Find names of class labels."
      ]
    },
    {
      "cell_type": "code",
      "execution_count": null,
      "metadata": {
        "id": "fBJaGZDBocmg"
      },
      "outputs": [],
      "source": [
        "# Find names of class labels."
      ]
    },
    {
      "cell_type": "markdown",
      "metadata": {
        "id": "Y7qGuJjcoeND"
      },
      "source": [
        "### `load_linnerud`"
      ]
    },
    {
      "cell_type": "markdown",
      "metadata": {
        "id": "Bd_9RoVBoeND"
      },
      "source": [
        "**Step 1.** Import the loader."
      ]
    },
    {
      "cell_type": "code",
      "execution_count": null,
      "metadata": {
        "id": "GcjGs78KoeNE"
      },
      "outputs": [],
      "source": [
        "# Write your code here."
      ]
    },
    {
      "cell_type": "markdown",
      "metadata": {
        "id": "EGysTcyuoeNE"
      },
      "source": [
        "**Step 1a.** In case, you want to know more about the loader, access its documentation by using `?<loader_name>' command."
      ]
    },
    {
      "cell_type": "code",
      "execution_count": null,
      "metadata": {
        "id": "02AfJocVoeNE"
      },
      "outputs": [],
      "source": [
        "# Access the documentation."
      ]
    },
    {
      "cell_type": "markdown",
      "metadata": {
        "id": "GxTe7dQ5oeNE"
      },
      "source": [
        "**Step 2.** Load the dataset and obtain a `Bunch` object."
      ]
    },
    {
      "cell_type": "code",
      "execution_count": null,
      "metadata": {
        "id": "M9Shy3P2oeNE"
      },
      "outputs": [],
      "source": [
        "# Call the loader and obtain the `Bunch` object."
      ]
    },
    {
      "cell_type": "markdown",
      "metadata": {
        "id": "xQyOxG42oeNF"
      },
      "source": [
        "**Step 3.** Examine the bunch object."
      ]
    },
    {
      "cell_type": "markdown",
      "metadata": {
        "id": "7tHewxI9oeNF"
      },
      "source": [
        "Look at the description of the dataset."
      ]
    },
    {
      "cell_type": "code",
      "execution_count": null,
      "metadata": {
        "id": "AGPE58VboeNF"
      },
      "outputs": [],
      "source": []
    },
    {
      "cell_type": "markdown",
      "metadata": {
        "id": "ZkpOlILMoeNF"
      },
      "source": [
        "Find out the shape of the feature matrix."
      ]
    },
    {
      "cell_type": "code",
      "execution_count": null,
      "metadata": {
        "id": "dBPOWxkAoeNF"
      },
      "outputs": [],
      "source": [
        "# Write code for finding the shape of the feature matrix."
      ]
    },
    {
      "cell_type": "markdown",
      "metadata": {
        "id": "0dNHA-XMoeNF"
      },
      "source": [
        "Look at the first five examples from the feature matrix."
      ]
    },
    {
      "cell_type": "code",
      "execution_count": null,
      "metadata": {
        "id": "S3MWmsjRoeNG"
      },
      "outputs": [],
      "source": [
        "# Look at the first five examples from the feature matrix."
      ]
    },
    {
      "cell_type": "markdown",
      "metadata": {
        "id": "gFu0EfyMoeNG"
      },
      "source": [
        "Find out the shape of the label matrix."
      ]
    },
    {
      "cell_type": "code",
      "execution_count": null,
      "metadata": {
        "id": "QwhkG2RSoeNG"
      },
      "outputs": [],
      "source": [
        "# Write code to find shape of label matrix."
      ]
    },
    {
      "cell_type": "markdown",
      "metadata": {
        "id": "PZ7IyaV5oeNG"
      },
      "source": [
        "Look at the labels of the first five examples."
      ]
    },
    {
      "cell_type": "code",
      "execution_count": null,
      "metadata": {
        "id": "6HIqZKH4oeNG"
      },
      "outputs": [],
      "source": [
        "# Look at the labels of the first five examples."
      ]
    },
    {
      "cell_type": "markdown",
      "metadata": {
        "id": "6iaKV8f9oeNG"
      },
      "source": [
        "Find out the names of the features."
      ]
    },
    {
      "cell_type": "code",
      "execution_count": null,
      "metadata": {
        "id": "b_6hLoL4oeNH"
      },
      "outputs": [],
      "source": [
        "# Get the names of the features."
      ]
    },
    {
      "cell_type": "markdown",
      "metadata": {
        "id": "hFVTPks-oeNH"
      },
      "source": [
        "Find names of class labels."
      ]
    },
    {
      "cell_type": "code",
      "execution_count": null,
      "metadata": {
        "id": "WnF7HZN1oeNH"
      },
      "outputs": [],
      "source": [
        "# Find names of class labels."
      ]
    },
    {
      "cell_type": "markdown",
      "metadata": {
        "id": "I81oLrXrqbTZ"
      },
      "source": [
        "# Fetchers"
      ]
    },
    {
      "cell_type": "markdown",
      "metadata": {
        "id": "CND7NmTZrf27"
      },
      "source": [
        "## `fetch_california_housing`"
      ]
    },
    {
      "cell_type": "markdown",
      "metadata": {
        "id": "JOGB_KvuseXj"
      },
      "source": [
        "**Step 1**: Import the library and access the documentation."
      ]
    },
    {
      "cell_type": "code",
      "execution_count": null,
      "metadata": {
        "id": "iOxB9gydrjHS"
      },
      "outputs": [],
      "source": [
        "from sklearn.datasets import fetch_california_housing\n",
        "# ?fetch_california_housing"
      ]
    },
    {
      "cell_type": "markdown",
      "metadata": {
        "id": "5PXp5NYmryOq"
      },
      "source": [
        "Note that the `fetch_`* also returns a `Bunch` object just like loaders."
      ]
    },
    {
      "cell_type": "markdown",
      "metadata": {
        "id": "CewHRJkHsKni"
      },
      "source": [
        "We can examine various attributes of this dataset on the lines of datasets in loaders."
      ]
    },
    {
      "cell_type": "markdown",
      "metadata": {
        "id": "pENdcsQxsYgo"
      },
      "source": [
        "**Step 2.** Load the dataset and obtain a `Bunch` object."
      ]
    },
    {
      "cell_type": "code",
      "execution_count": null,
      "metadata": {
        "id": "u937HqyDsYgo"
      },
      "outputs": [],
      "source": [
        "# Call the loader and obtain the `Bunch` object.\n",
        "housing_data = fetch_california_housing()"
      ]
    },
    {
      "cell_type": "markdown",
      "metadata": {
        "id": "-MSRe343sYgp"
      },
      "source": [
        "**Step 3.** Examine the bunch object."
      ]
    },
    {
      "cell_type": "markdown",
      "metadata": {
        "id": "JqNnOu6LsYgp"
      },
      "source": [
        "Look at the description of the dataset."
      ]
    },
    {
      "cell_type": "code",
      "execution_count": null,
      "metadata": {
        "colab": {
          "base_uri": "https://localhost:8080/",
          "height": 175
        },
        "id": "Xm32qSqYsYgp",
        "outputId": "7046c612-ad8f-4cee-a88d-c31d8416081d"
      },
      "outputs": [
        {
          "output_type": "execute_result",
          "data": {
            "text/plain": [
              "'.. _california_housing_dataset:\\n\\nCalifornia Housing dataset\\n--------------------------\\n\\n**Data Set Characteristics:**\\n\\n    :Number of Instances: 20640\\n\\n    :Number of Attributes: 8 numeric, predictive attributes and the target\\n\\n    :Attribute Information:\\n        - MedInc        median income in block group\\n        - HouseAge      median house age in block group\\n        - AveRooms      average number of rooms per household\\n        - AveBedrms     average number of bedrooms per household\\n        - Population    block group population\\n        - AveOccup      average number of household members\\n        - Latitude      block group latitude\\n        - Longitude     block group longitude\\n\\n    :Missing Attribute Values: None\\n\\nThis dataset was obtained from the StatLib repository.\\nhttps://www.dcc.fc.up.pt/~ltorgo/Regression/cal_housing.html\\n\\nThe target variable is the median house value for California districts,\\nexpressed in hundreds of thousands of dollars ($100,000).\\n\\nThis dataset was derived from the 1990 U.S. census, using one row per census\\nblock group. A block group is the smallest geographical unit for which the U.S.\\nCensus Bureau publishes sample data (a block group typically has a population\\nof 600 to 3,000 people).\\n\\nA household is a group of people residing within a home. Since the average\\nnumber of rooms and bedrooms in this dataset are provided per household, these\\ncolumns may take surprisingly large values for block groups with few households\\nand many empty houses, such as vacation resorts.\\n\\nIt can be downloaded/loaded using the\\n:func:`sklearn.datasets.fetch_california_housing` function.\\n\\n.. topic:: References\\n\\n    - Pace, R. Kelley and Ronald Barry, Sparse Spatial Autoregressions,\\n      Statistics and Probability Letters, 33 (1997) 291-297\\n'"
            ],
            "application/vnd.google.colaboratory.intrinsic+json": {
              "type": "string"
            }
          },
          "metadata": {},
          "execution_count": 20
        }
      ],
      "source": [
        "housing_data.DESCR"
      ]
    },
    {
      "cell_type": "markdown",
      "metadata": {
        "id": "mChKsmLmsYgp"
      },
      "source": [
        "Find out the shape of the feature matrix."
      ]
    },
    {
      "cell_type": "code",
      "execution_count": null,
      "metadata": {
        "colab": {
          "base_uri": "https://localhost:8080/"
        },
        "id": "Pwu9eU0msYgp",
        "outputId": "83110f25-53bd-4928-8e37-2972fff9551d"
      },
      "outputs": [
        {
          "output_type": "execute_result",
          "data": {
            "text/plain": [
              "(20640, 8)"
            ]
          },
          "metadata": {},
          "execution_count": 21
        }
      ],
      "source": [
        "# Write code for finding the shape of the feature matrix.\n",
        "housing_data.data.shape"
      ]
    },
    {
      "cell_type": "markdown",
      "metadata": {
        "id": "gnYHOjAQsYgp"
      },
      "source": [
        "Look at the first five examples from the feature matrix."
      ]
    },
    {
      "cell_type": "code",
      "execution_count": null,
      "metadata": {
        "colab": {
          "base_uri": "https://localhost:8080/"
        },
        "id": "RggbI7ewsYgp",
        "outputId": "ff3910a6-9bb0-41fd-e68e-95c7e68ed007"
      },
      "outputs": [
        {
          "output_type": "execute_result",
          "data": {
            "text/plain": [
              "array([[ 8.32520000e+00,  4.10000000e+01,  6.98412698e+00,\n",
              "         1.02380952e+00,  3.22000000e+02,  2.55555556e+00,\n",
              "         3.78800000e+01, -1.22230000e+02],\n",
              "       [ 8.30140000e+00,  2.10000000e+01,  6.23813708e+00,\n",
              "         9.71880492e-01,  2.40100000e+03,  2.10984183e+00,\n",
              "         3.78600000e+01, -1.22220000e+02],\n",
              "       [ 7.25740000e+00,  5.20000000e+01,  8.28813559e+00,\n",
              "         1.07344633e+00,  4.96000000e+02,  2.80225989e+00,\n",
              "         3.78500000e+01, -1.22240000e+02],\n",
              "       [ 5.64310000e+00,  5.20000000e+01,  5.81735160e+00,\n",
              "         1.07305936e+00,  5.58000000e+02,  2.54794521e+00,\n",
              "         3.78500000e+01, -1.22250000e+02],\n",
              "       [ 3.84620000e+00,  5.20000000e+01,  6.28185328e+00,\n",
              "         1.08108108e+00,  5.65000000e+02,  2.18146718e+00,\n",
              "         3.78500000e+01, -1.22250000e+02]])"
            ]
          },
          "metadata": {},
          "execution_count": 22
        }
      ],
      "source": [
        "# Look at the first five examples from the feature matrix.\n",
        "housing_data.data[:5]"
      ]
    },
    {
      "cell_type": "markdown",
      "metadata": {
        "id": "tLuU15qGsYgq"
      },
      "source": [
        "Find out the shape of the label matrix."
      ]
    },
    {
      "cell_type": "code",
      "execution_count": null,
      "metadata": {
        "colab": {
          "base_uri": "https://localhost:8080/"
        },
        "id": "lMNeni_esYgq",
        "outputId": "973923ae-6352-46f5-a42b-6e1fc849d8c3"
      },
      "outputs": [
        {
          "data": {
            "text/plain": [
              "(20640,)"
            ]
          },
          "execution_count": 178,
          "metadata": {},
          "output_type": "execute_result"
        }
      ],
      "source": [
        "# Write code to find shape of label matrix.\n",
        "housing_data.target.shape"
      ]
    },
    {
      "cell_type": "markdown",
      "metadata": {
        "id": "wlPw8I4osYgq"
      },
      "source": [
        "Look at the labels of the first five examples."
      ]
    },
    {
      "cell_type": "code",
      "execution_count": null,
      "metadata": {
        "colab": {
          "base_uri": "https://localhost:8080/"
        },
        "id": "pll2lhaMsYgq",
        "outputId": "5f0cb3e0-524d-4737-89ad-0a9c786df3c2"
      },
      "outputs": [
        {
          "output_type": "execute_result",
          "data": {
            "text/plain": [
              "array([4.526, 3.585, 3.521, 3.413, 3.422])"
            ]
          },
          "metadata": {},
          "execution_count": 23
        }
      ],
      "source": [
        "# Look at the labels of the first five examples.\n",
        "housing_data.target[:5]"
      ]
    },
    {
      "cell_type": "markdown",
      "metadata": {
        "id": "djPG4LEks4ot"
      },
      "source": [
        "Note that the labels seem to be real numbers."
      ]
    },
    {
      "cell_type": "markdown",
      "metadata": {
        "id": "LrzrRwypsYgq"
      },
      "source": [
        "Find out the names of the features."
      ]
    },
    {
      "cell_type": "code",
      "execution_count": null,
      "metadata": {
        "colab": {
          "base_uri": "https://localhost:8080/"
        },
        "id": "iI13vbRjsYgr",
        "outputId": "99c1e531-2016-4132-f9d7-55bcc7f711c0"
      },
      "outputs": [
        {
          "data": {
            "text/plain": [
              "['MedInc',\n",
              " 'HouseAge',\n",
              " 'AveRooms',\n",
              " 'AveBedrms',\n",
              " 'Population',\n",
              " 'AveOccup',\n",
              " 'Latitude',\n",
              " 'Longitude']"
            ]
          },
          "execution_count": 180,
          "metadata": {},
          "output_type": "execute_result"
        }
      ],
      "source": [
        "# Get the names of the features.\n",
        "housing_data.feature_names"
      ]
    },
    {
      "cell_type": "markdown",
      "metadata": {
        "id": "de5H95zpsYgr"
      },
      "source": [
        "Find names of class labels."
      ]
    },
    {
      "cell_type": "code",
      "execution_count": null,
      "metadata": {
        "colab": {
          "base_uri": "https://localhost:8080/"
        },
        "id": "rfVZsB3rsYgr",
        "outputId": "d2b36162-e55e-4613-82f5-c16f25374687"
      },
      "outputs": [
        {
          "output_type": "execute_result",
          "data": {
            "text/plain": [
              "['MedHouseVal']"
            ]
          },
          "metadata": {},
          "execution_count": 24
        }
      ],
      "source": [
        "# Find names of class labels.\n",
        "housing_data.target_names"
      ]
    },
    {
      "cell_type": "markdown",
      "metadata": {
        "id": "gMLE0dKkqPvx"
      },
      "source": [
        "## `fetch_openml`"
      ]
    },
    {
      "cell_type": "markdown",
      "metadata": {
        "id": "9QMH68xbrhE0"
      },
      "source": [
        "[openml.org](openml.org) is a public repository for machine learning data and experiments, that allows everybody to upload open datasets."
      ]
    },
    {
      "cell_type": "markdown",
      "metadata": {
        "id": "BX25tu_OqZ8E"
      },
      "source": [
        "Import the library and access the documentation."
      ]
    },
    {
      "cell_type": "code",
      "execution_count": null,
      "metadata": {
        "id": "1naI0htXqacE"
      },
      "outputs": [],
      "source": [
        "from sklearn.datasets import fetch_openml\n",
        "# ?fetch_openml"
      ]
    },
    {
      "cell_type": "markdown",
      "metadata": {
        "id": "PCPZocv4qvUs"
      },
      "source": [
        "Note that this is an experimental API and is likely to change in the future releases.\n",
        "\n",
        "> We use this API for loading MNIST dataset."
      ]
    },
    {
      "cell_type": "code",
      "execution_count": null,
      "metadata": {
        "colab": {
          "base_uri": "https://localhost:8080/"
        },
        "id": "6rNj-gIAsUhi",
        "outputId": "2b99eaee-6eb0-4e13-ab5e-fd0d80ca236e"
      },
      "outputs": [
        {
          "name": "stdout",
          "output_type": "stream",
          "text": [
            "Feature matrix shape: (70000, 784)\n",
            "Label shape: (70000,)\n"
          ]
        }
      ],
      "source": [
        "X, y = fetch_openml('mnist_784', version=1, return_X_y=True)\n",
        "print (\"Feature matrix shape:\", X.shape)\n",
        "print (\"Label shape:\", y.shape)"
      ]
    },
    {
      "cell_type": "code",
      "source": [
        "X, y = fetch_openml('credit-g', version=1, return_X_y=True)\n",
        "print (\"Feature matrix shape:\", X.shape)\n",
        "print (\"Label shape:\", y.shape)"
      ],
      "metadata": {
        "colab": {
          "base_uri": "https://localhost:8080/"
        },
        "id": "tRFvmy_y-JRO",
        "outputId": "64566791-7d5a-41fa-ac4f-0f9bd44df345"
      },
      "execution_count": null,
      "outputs": [
        {
          "output_type": "stream",
          "name": "stderr",
          "text": [
            "/usr/local/lib/python3.10/dist-packages/sklearn/datasets/_openml.py:968: FutureWarning: The default value of `parser` will change from `'liac-arff'` to `'auto'` in 1.4. You can set `parser='auto'` to silence this warning. Therefore, an `ImportError` will be raised from 1.4 if the dataset is dense and pandas is not installed. Note that the pandas parser may return different data types. See the Notes Section in fetch_openml's API doc for details.\n",
            "  warn(\n"
          ]
        },
        {
          "output_type": "stream",
          "name": "stdout",
          "text": [
            "Feature matrix shape: (1000, 20)\n",
            "Label shape: (1000,)\n"
          ]
        }
      ]
    },
    {
      "cell_type": "markdown",
      "metadata": {
        "id": "v_t4hYhdtLlz"
      },
      "source": [
        "## Exercise"
      ]
    },
    {
      "cell_type": "markdown",
      "metadata": {
        "id": "rvQLljdbtPC-"
      },
      "source": [
        "### `fetch_20newsgroups`"
      ]
    },
    {
      "cell_type": "markdown",
      "metadata": {
        "id": "AZ9IeH29tPC-"
      },
      "source": [
        "**Step 1.** Import the loader."
      ]
    },
    {
      "cell_type": "code",
      "execution_count": null,
      "metadata": {
        "id": "iwvFVMvMtPC-"
      },
      "outputs": [],
      "source": [
        "# Write your code here."
      ]
    },
    {
      "cell_type": "markdown",
      "metadata": {
        "id": "4zenN776tPC_"
      },
      "source": [
        "**Step 1a.** In case, you want to know more about the loader, access its documentation by using `?<loader_name>' command."
      ]
    },
    {
      "cell_type": "code",
      "execution_count": null,
      "metadata": {
        "id": "foPlHugPtPC_"
      },
      "outputs": [],
      "source": [
        "# Access the documentation."
      ]
    },
    {
      "cell_type": "markdown",
      "metadata": {
        "id": "yEG2jTNJtPC_"
      },
      "source": [
        "**Step 2.** Load the dataset and obtain a `Bunch` object."
      ]
    },
    {
      "cell_type": "code",
      "execution_count": null,
      "metadata": {
        "id": "M83ReTRDtPC_"
      },
      "outputs": [],
      "source": [
        "# Call the loader and obtain the `Bunch` object."
      ]
    },
    {
      "cell_type": "markdown",
      "metadata": {
        "id": "lKDSex6OtPC_"
      },
      "source": [
        "**Step 3.** Examine the bunch object."
      ]
    },
    {
      "cell_type": "markdown",
      "metadata": {
        "id": "7VehssILtPDA"
      },
      "source": [
        "Look at the description of the dataset."
      ]
    },
    {
      "cell_type": "code",
      "execution_count": null,
      "metadata": {
        "id": "OP2myCHXtPDA"
      },
      "outputs": [],
      "source": []
    },
    {
      "cell_type": "markdown",
      "metadata": {
        "id": "5Ha7Ok0EtPDA"
      },
      "source": [
        "Find out the shape of the feature matrix."
      ]
    },
    {
      "cell_type": "code",
      "execution_count": null,
      "metadata": {
        "id": "lQuMoSuMtPDA"
      },
      "outputs": [],
      "source": [
        "# Write code for finding the shape of the feature matrix."
      ]
    },
    {
      "cell_type": "markdown",
      "metadata": {
        "id": "hzFHPamHtPDB"
      },
      "source": [
        "Look at the first five examples from the feature matrix."
      ]
    },
    {
      "cell_type": "code",
      "execution_count": null,
      "metadata": {
        "id": "4Wn-MvuztPDB"
      },
      "outputs": [],
      "source": [
        "# Look at the first five examples from the feature matrix."
      ]
    },
    {
      "cell_type": "markdown",
      "metadata": {
        "id": "bSMFqIQytPDB"
      },
      "source": [
        "Find out the shape of the label matrix."
      ]
    },
    {
      "cell_type": "code",
      "execution_count": null,
      "metadata": {
        "id": "7gRXR1C6tPDC"
      },
      "outputs": [],
      "source": [
        "# Write code to find shape of label matrix."
      ]
    },
    {
      "cell_type": "markdown",
      "metadata": {
        "id": "puPhB-WitPDC"
      },
      "source": [
        "Look at the labels of the first five examples."
      ]
    },
    {
      "cell_type": "code",
      "execution_count": null,
      "metadata": {
        "id": "9ApeueqVtPDC"
      },
      "outputs": [],
      "source": [
        "# Look at the labels of the first five examples."
      ]
    },
    {
      "cell_type": "markdown",
      "metadata": {
        "id": "IZ3TNWfDtPDC"
      },
      "source": [
        "Find out the names of the features."
      ]
    },
    {
      "cell_type": "code",
      "execution_count": null,
      "metadata": {
        "id": "aQdguR1RtPDC"
      },
      "outputs": [],
      "source": [
        "# Get the names of the features."
      ]
    },
    {
      "cell_type": "markdown",
      "metadata": {
        "id": "pxM21e8ntPDD"
      },
      "source": [
        "Find names of class labels."
      ]
    },
    {
      "cell_type": "code",
      "execution_count": null,
      "metadata": {
        "id": "ss8Sli1itPDD"
      },
      "outputs": [],
      "source": [
        "# Find names of class labels."
      ]
    },
    {
      "cell_type": "markdown",
      "metadata": {
        "id": "i494pktStXXp"
      },
      "source": [
        "### `fetch_kddcup99`"
      ]
    },
    {
      "cell_type": "markdown",
      "metadata": {
        "id": "kvVBCIWdtXXq"
      },
      "source": [
        "**Step 1.** Import the loader."
      ]
    },
    {
      "cell_type": "code",
      "execution_count": null,
      "metadata": {
        "id": "TfILwGcttXXq"
      },
      "outputs": [],
      "source": [
        "# Write your code here."
      ]
    },
    {
      "cell_type": "markdown",
      "metadata": {
        "id": "aRWlTKm8tXXq"
      },
      "source": [
        "**Step 1a.** In case, you want to know more about the loader, access its documentation by using `?<loader_name>' command."
      ]
    },
    {
      "cell_type": "code",
      "execution_count": null,
      "metadata": {
        "id": "_NiMMVmltXXr"
      },
      "outputs": [],
      "source": [
        "# Access the documentation."
      ]
    },
    {
      "cell_type": "markdown",
      "metadata": {
        "id": "ecWMTHNwtXXr"
      },
      "source": [
        "**Step 2.** Load the dataset and obtain a `Bunch` object."
      ]
    },
    {
      "cell_type": "code",
      "execution_count": null,
      "metadata": {
        "id": "ryGcJjd6tXXr"
      },
      "outputs": [],
      "source": [
        "# Call the loader and obtain the `Bunch` object."
      ]
    },
    {
      "cell_type": "markdown",
      "metadata": {
        "id": "5I9of7cktXXr"
      },
      "source": [
        "**Step 3.** Examine the bunch object."
      ]
    },
    {
      "cell_type": "markdown",
      "metadata": {
        "id": "PZRkHo1FtXXr"
      },
      "source": [
        "Look at the description of the dataset."
      ]
    },
    {
      "cell_type": "code",
      "execution_count": null,
      "metadata": {
        "id": "NDgnyjTytXXr"
      },
      "outputs": [],
      "source": []
    },
    {
      "cell_type": "markdown",
      "metadata": {
        "id": "DAqPd3fwtXXs"
      },
      "source": [
        "Find out the shape of the feature matrix."
      ]
    },
    {
      "cell_type": "code",
      "execution_count": null,
      "metadata": {
        "id": "hY0BNEr8tXXs"
      },
      "outputs": [],
      "source": [
        "# Write code for finding the shape of the feature matrix."
      ]
    },
    {
      "cell_type": "markdown",
      "metadata": {
        "id": "WGUKjT9RtXXs"
      },
      "source": [
        "Look at the first five examples from the feature matrix."
      ]
    },
    {
      "cell_type": "code",
      "execution_count": null,
      "metadata": {
        "id": "6TSC8NEgtXXs"
      },
      "outputs": [],
      "source": [
        "# Look at the first five examples from the feature matrix."
      ]
    },
    {
      "cell_type": "markdown",
      "metadata": {
        "id": "LNZs4Qw0tXXs"
      },
      "source": [
        "Find out the shape of the label matrix."
      ]
    },
    {
      "cell_type": "code",
      "execution_count": null,
      "metadata": {
        "id": "Ju5s5PSMtXXt"
      },
      "outputs": [],
      "source": [
        "# Write code to find shape of label matrix."
      ]
    },
    {
      "cell_type": "markdown",
      "metadata": {
        "id": "sG4dd09btXXt"
      },
      "source": [
        "Look at the labels of the first five examples."
      ]
    },
    {
      "cell_type": "code",
      "execution_count": null,
      "metadata": {
        "id": "WyFOs2AAtXXt"
      },
      "outputs": [],
      "source": [
        "# Look at the labels of the first five examples."
      ]
    },
    {
      "cell_type": "markdown",
      "metadata": {
        "id": "W-ejbCIQtXXt"
      },
      "source": [
        "Find out the names of the features."
      ]
    },
    {
      "cell_type": "code",
      "execution_count": null,
      "metadata": {
        "id": "yGyosWP4tXXt"
      },
      "outputs": [],
      "source": [
        "# Get the names of the features."
      ]
    },
    {
      "cell_type": "markdown",
      "metadata": {
        "id": "_ioeru7ltXXt"
      },
      "source": [
        "Find names of class labels."
      ]
    },
    {
      "cell_type": "code",
      "execution_count": null,
      "metadata": {
        "id": "v8qikeYmtXXu"
      },
      "outputs": [],
      "source": [
        "# Find names of class labels."
      ]
    },
    {
      "cell_type": "markdown",
      "metadata": {
        "id": "11SPfnsVtlm4"
      },
      "source": [
        "# Generators"
      ]
    },
    {
      "cell_type": "markdown",
      "metadata": {
        "id": "9sKta_WnxmeR"
      },
      "source": [
        "### `make_regression`"
      ]
    },
    {
      "cell_type": "code",
      "execution_count": null,
      "metadata": {
        "id": "3YtThLhlt8af"
      },
      "outputs": [],
      "source": [
        "from sklearn.datasets import make_regression\n",
        "?make_regression"
      ]
    },
    {
      "cell_type": "markdown",
      "metadata": {
        "id": "E1uM_6KatoYT"
      },
      "source": [
        "#### Example 1\n",
        "\n",
        "Let's generate 100 samples with 5 features for a single label regression problem."
      ]
    },
    {
      "cell_type": "code",
      "execution_count": null,
      "metadata": {
        "id": "0txarhkHvIo4"
      },
      "outputs": [],
      "source": [
        "X, y = make_regression(n_samples=100, n_features=5, n_targets=1, shuffle=True, random_state=42)"
      ]
    },
    {
      "cell_type": "markdown",
      "metadata": {
        "id": "g71Fu_Npv9c0"
      },
      "source": [
        "It's a good practice to set seed so that we get to see repeatability in the experimentation."
      ]
    },
    {
      "cell_type": "markdown",
      "metadata": {
        "id": "0AkobIpIwPTl"
      },
      "source": [
        "Let's look at the shapes of feature matrix and label vector."
      ]
    },
    {
      "cell_type": "code",
      "execution_count": null,
      "metadata": {
        "colab": {
          "base_uri": "https://localhost:8080/"
        },
        "id": "y5QaszYEwH3T",
        "outputId": "9a675017-875a-4b32-d32d-19ef1bc11713"
      },
      "outputs": [
        {
          "output_type": "execute_result",
          "data": {
            "text/plain": [
              "(100, 5)"
            ]
          },
          "metadata": {},
          "execution_count": 40
        }
      ],
      "source": [
        "X.shape"
      ]
    },
    {
      "cell_type": "code",
      "execution_count": null,
      "metadata": {
        "colab": {
          "base_uri": "https://localhost:8080/"
        },
        "id": "onBo4zWswToE",
        "outputId": "4fd0b9c8-c7e8-418b-c604-a5c745125d9e"
      },
      "outputs": [
        {
          "output_type": "execute_result",
          "data": {
            "text/plain": [
              "(100,)"
            ]
          },
          "metadata": {},
          "execution_count": 41
        }
      ],
      "source": [
        "y.shape"
      ]
    },
    {
      "cell_type": "markdown",
      "metadata": {
        "id": "DT5436PfwVnc"
      },
      "source": [
        "#### Example 2\n",
        "\n",
        "Let's generate 100 samples with 5 features for multiple regression problem with 5 outputs."
      ]
    },
    {
      "cell_type": "code",
      "execution_count": null,
      "metadata": {
        "id": "0i5jmxJIwf7d"
      },
      "outputs": [],
      "source": [
        "X, y = make_regression(n_samples=100, n_features=5, n_targets=5, shuffle=True, random_state=42)"
      ]
    },
    {
      "cell_type": "markdown",
      "metadata": {
        "id": "AnjnSDRowwPN"
      },
      "source": [
        "Let's look at the shapes of feature matrix and label vector."
      ]
    },
    {
      "cell_type": "code",
      "execution_count": null,
      "metadata": {
        "colab": {
          "base_uri": "https://localhost:8080/"
        },
        "id": "_CVzkI4DwxGx",
        "outputId": "c61769bd-4548-4298-a966-52081b334b02"
      },
      "outputs": [
        {
          "output_type": "execute_result",
          "data": {
            "text/plain": [
              "(100, 5)"
            ]
          },
          "metadata": {},
          "execution_count": 43
        }
      ],
      "source": [
        "X.shape"
      ]
    },
    {
      "cell_type": "code",
      "execution_count": null,
      "metadata": {
        "colab": {
          "base_uri": "https://localhost:8080/"
        },
        "id": "iBlknnn8wzKg",
        "outputId": "7671de41-4968-4dd8-e891-8d9a88fd3301"
      },
      "outputs": [
        {
          "output_type": "execute_result",
          "data": {
            "text/plain": [
              "array([[ 4.65824885e+01,  2.69517607e+01,  1.58496876e+02,\n",
              "        -2.11559654e+02, -2.30334313e+01],\n",
              "       [ 1.96636891e+02,  1.68667371e+02,  2.09939266e+02,\n",
              "         1.22354308e+02,  6.57662915e+01],\n",
              "       [-7.89589416e+01, -1.02121907e+02, -7.68217091e+01,\n",
              "        -2.12753804e+02, -7.61055362e+01],\n",
              "       [ 3.90579017e+01,  6.91487819e+01, -5.11760771e+01,\n",
              "         1.80896189e+02, -1.18306497e+00],\n",
              "       [ 4.30403126e+01,  3.20677888e+01,  8.74686678e+01,\n",
              "        -6.67831311e+01,  1.46450238e+01],\n",
              "       [ 1.38523749e+02,  1.13294553e+02,  6.35192539e+01,\n",
              "         7.21840459e+01,  1.56793637e+01],\n",
              "       [ 8.39515501e+01,  5.03399279e+01,  9.67464146e+01,\n",
              "        -5.51205864e+01,  1.62404632e+01],\n",
              "       [-3.66778631e+01, -2.09264646e+01,  6.15677243e+00,\n",
              "         1.39307358e+02,  8.49635147e+01],\n",
              "       [-1.58276114e+02, -1.33982982e+02, -9.80064496e+01,\n",
              "        -1.82645525e+02, -1.11997092e+02],\n",
              "       [ 3.61753596e+02,  3.20954976e+02,  3.48777947e+02,\n",
              "         7.13579399e+01,  4.19167346e+01],\n",
              "       [-1.13528852e+00, -1.83276592e+00,  1.69839243e+01,\n",
              "         8.21275281e+01,  9.00539764e+01],\n",
              "       [-5.30818526e+01, -4.68015485e+01, -1.07326177e+02,\n",
              "        -1.32771394e+01, -5.81732315e+01],\n",
              "       [-1.33850338e+02, -1.23993311e+02, -7.68748600e+01,\n",
              "        -1.42961121e+02, -6.46410039e+01],\n",
              "       [-1.99971532e+02, -2.09820507e+02, -2.11382897e+02,\n",
              "        -4.01563756e+02, -1.28185390e+02],\n",
              "       [ 8.12584608e+00, -3.40102013e-01, -5.20886864e+01,\n",
              "         2.14954770e+01, -4.56693405e+01],\n",
              "       [-1.38301374e+02, -1.28985829e+02, -1.27970047e+02,\n",
              "         6.17709338e+00,  1.84740886e+01],\n",
              "       [ 5.34539815e+01,  6.35034831e+01,  1.15265437e+02,\n",
              "        -1.44260744e+02, -5.23857982e+01],\n",
              "       [-2.29049099e+01, -8.47356402e+00,  3.31266367e+01,\n",
              "        -2.22455374e+01, -2.92969392e+01],\n",
              "       [ 2.90890742e+01,  1.19077654e+01, -3.00462293e+01,\n",
              "        -5.64825712e+00, -3.48208545e+01],\n",
              "       [-1.15446081e+02, -1.00362428e+02, -3.42430375e+01,\n",
              "        -5.69760551e+01, -3.18678301e+01],\n",
              "       [ 3.30686590e+02,  3.13356863e+02,  2.51113017e+02,\n",
              "         2.79459337e+02,  9.79346372e+01],\n",
              "       [ 1.74130838e+01,  1.27329924e+01, -8.27983106e+00,\n",
              "         9.79912496e+00, -2.53543810e+01],\n",
              "       [ 3.83550173e+01,  4.89364613e+01,  3.14185665e-01,\n",
              "         1.08283129e+00, -2.48285487e+01],\n",
              "       [ 4.67464314e+01,  5.46250223e+01,  8.93377934e+01,\n",
              "         1.87260779e+02,  5.76096574e+01],\n",
              "       [-2.39028935e+02, -1.92944870e+02, -2.34654440e+02,\n",
              "        -9.87983859e+01, -1.08075712e+02],\n",
              "       [ 8.52137807e+01,  7.07875015e+01,  9.24587686e+01,\n",
              "         1.68968147e+02,  8.10122533e+01],\n",
              "       [-1.82647610e+02, -1.78237159e+02, -1.01186989e+02,\n",
              "        -2.64958810e+02, -9.82265462e+01],\n",
              "       [ 2.83631092e+02,  2.24122178e+02,  2.44075086e+02,\n",
              "         2.51673448e+02,  2.00725613e+02],\n",
              "       [ 1.55854711e+02,  1.18361645e+02,  1.35890499e+02,\n",
              "         1.01479732e+02,  8.29923700e+01],\n",
              "       [ 4.43121750e+01,  6.75052490e+01, -5.12421102e-01,\n",
              "         4.40176232e+01, -4.40557570e+00],\n",
              "       [-1.65510523e+02, -1.41722946e+02, -1.54764810e+02,\n",
              "        -1.93856262e+02, -1.29923532e+02],\n",
              "       [-9.01823057e+01, -8.31568737e+01, -6.42085317e+01,\n",
              "        -5.17818292e+01, -2.99268230e+01],\n",
              "       [ 6.08500351e+01,  4.90042383e+01,  3.12272576e+01,\n",
              "         1.41588614e+02,  4.27333408e+01],\n",
              "       [ 8.01214254e+01,  6.15470447e+01,  6.33263152e+00,\n",
              "         2.18720622e+01,  4.15063186e+01],\n",
              "       [-2.47495081e+01, -4.71667512e+01,  1.46893714e+00,\n",
              "        -7.91156407e+01,  1.46338951e+01],\n",
              "       [-6.92197972e+01, -5.63742238e+01, -8.45111709e+01,\n",
              "         4.04433972e+01, -2.83858031e+01],\n",
              "       [ 5.05897459e+01,  1.05291274e+01,  3.95834634e+01,\n",
              "        -8.07930147e+01,  3.36716951e+01],\n",
              "       [ 8.03922707e+01,  5.13639811e+01,  6.54653442e+01,\n",
              "         1.02873553e+02,  6.51591790e+01],\n",
              "       [ 8.59940881e+01,  6.62219628e+01,  1.25703735e+02,\n",
              "         6.67284831e+00,  1.80455049e+01],\n",
              "       [-2.16682754e+01, -1.89837661e+01,  3.10477874e+01,\n",
              "         1.22489688e+02,  5.77577912e+01],\n",
              "       [-2.18236535e+02, -2.02257878e+02, -2.00082948e+02,\n",
              "        -2.10784196e+02, -1.00553649e+02],\n",
              "       [ 6.84307692e+01,  7.00871900e+01,  5.72423898e+01,\n",
              "         3.70333481e+01,  3.30107951e+01],\n",
              "       [-4.39177536e+00,  1.06973703e+01, -2.55417643e+01,\n",
              "         2.08850139e+02,  3.07895662e+01],\n",
              "       [-1.03215933e+01, -1.91944616e+01, -1.55337033e+01,\n",
              "        -1.24974265e+01,  2.25684025e+01],\n",
              "       [-1.38849965e+01,  1.62811175e+01, -2.96500637e+01,\n",
              "         1.85977437e+02,  5.72039384e+01],\n",
              "       [ 2.73428993e+02,  2.23783792e+02,  3.99281370e+02,\n",
              "         8.08945128e+01,  1.38302639e+02],\n",
              "       [-1.23555457e+02, -1.19938607e+02, -8.88244244e+01,\n",
              "        -1.97408988e+02, -4.08219819e+01],\n",
              "       [-1.15012969e+02, -9.90398571e+01, -1.09595182e+02,\n",
              "        -7.09798121e+01, -7.21454611e+01],\n",
              "       [ 5.23059067e+01,  3.33338972e+01,  4.91881527e+01,\n",
              "        -1.75890358e+01,  2.95334986e+01],\n",
              "       [ 5.26883519e+01,  4.15137344e+01,  6.15795149e+01,\n",
              "        -5.82026291e+01,  4.27316859e+01],\n",
              "       [-3.35287754e+01, -2.33246504e+01,  1.06392095e+01,\n",
              "        -1.03773491e+02, -4.93104872e+01],\n",
              "       [-2.09255288e+02, -2.01861801e+02, -1.89562887e+02,\n",
              "        -3.13514738e+02, -1.11430262e+02],\n",
              "       [ 1.29690371e+02,  9.55213424e+01,  1.63652427e+02,\n",
              "        -4.37120365e+01,  6.66499313e+01],\n",
              "       [-1.12748083e+02, -1.27267516e+02, -2.45864639e+01,\n",
              "         2.02347992e+01,  6.38004047e+01],\n",
              "       [ 1.30526599e+02,  1.16142972e+02,  1.97433641e+02,\n",
              "        -1.61890403e+02,  1.66858444e+01],\n",
              "       [-1.64343941e+02, -1.38556473e+02, -8.49085128e+01,\n",
              "        -1.56462852e+02, -1.15432921e+02],\n",
              "       [-8.37096172e+01, -5.80149123e+01, -9.37143838e+01,\n",
              "         9.29869998e+01, -3.01471614e+01],\n",
              "       [-1.09525038e+02, -9.97271096e+01, -1.23474648e+02,\n",
              "         2.51898185e+01,  9.31444080e+00],\n",
              "       [ 1.10455668e+01, -9.78282200e+00,  1.38265651e+02,\n",
              "        -3.41150594e+01,  4.23133276e+01],\n",
              "       [ 6.83086752e+01,  9.68152171e+01,  7.04649181e+01,\n",
              "         6.36301730e+01, -2.84900228e+01],\n",
              "       [ 8.98958623e+01,  6.66311601e+01,  1.34220390e+02,\n",
              "        -7.21481800e+01,  6.92400829e+01],\n",
              "       [ 1.73362411e+01, -1.29337131e+01,  1.21718509e+02,\n",
              "        -5.16706503e+01,  7.49291561e+01],\n",
              "       [-1.00965626e+02, -7.91564374e+01, -8.47949663e+01,\n",
              "         1.23316333e+00, -6.84306916e+00],\n",
              "       [-3.99660046e+01, -3.95482359e+01, -9.02056973e+01,\n",
              "        -1.43496888e+02, -7.45935951e+01],\n",
              "       [ 6.46327764e+01,  5.22806609e+01,  2.73183686e+01,\n",
              "         9.32977223e+01,  7.94237377e+00],\n",
              "       [-9.52235846e+01, -9.76053552e+01, -1.23870990e+02,\n",
              "        -4.22789090e+01,  3.71492767e-01],\n",
              "       [-7.70566427e+01, -9.32543725e+01, -1.68269243e+02,\n",
              "        -9.69132067e+01, -4.91350428e+01],\n",
              "       [-1.28909965e+01, -2.36303326e+01,  1.58578490e+02,\n",
              "        -1.61903748e+02, -2.14628512e+01],\n",
              "       [-1.45678718e+02, -1.53913151e+02, -1.38006833e+02,\n",
              "        -1.82957698e+02, -1.96849435e+01],\n",
              "       [-1.90599509e+02, -1.54127993e+02, -1.24643754e+02,\n",
              "        -2.91638716e+01, -5.89833908e+01],\n",
              "       [ 8.67999093e+01,  6.49523211e+01,  1.76025918e+02,\n",
              "        -7.30444623e+01,  4.40235860e+01],\n",
              "       [-7.29137139e+01, -4.45692306e+01, -8.99694022e+01,\n",
              "         2.07205113e+00, -3.76419765e+01],\n",
              "       [ 2.76817039e+01,  3.51097753e+01, -4.49710273e+00,\n",
              "         4.27548748e+01, -5.32893348e+01],\n",
              "       [-3.04046499e+02, -2.52106243e+02, -3.48321049e+02,\n",
              "        -1.01395806e+02, -1.39212363e+02],\n",
              "       [ 1.31204300e+02,  1.09616572e+02,  1.38248012e+02,\n",
              "        -4.76111989e+00,  4.99678228e+01],\n",
              "       [ 3.74170773e+00, -3.08360296e+00,  1.97494628e+01,\n",
              "        -5.57509516e+01,  3.09129891e+01],\n",
              "       [-1.35289015e+02, -1.22369241e+02, -1.75564608e+02,\n",
              "         2.69901155e+01, -9.30495542e+00],\n",
              "       [ 1.61317814e+01,  1.33409450e+00,  2.70047918e+01,\n",
              "        -8.70293054e+00,  2.04138440e+01],\n",
              "       [ 6.10419920e+01,  6.42943929e+01,  4.74085499e+01,\n",
              "         2.09431272e+02,  9.24158535e+01],\n",
              "       [ 9.80715295e+01,  8.76478859e+01,  1.57290719e+02,\n",
              "         1.14708338e+02,  8.96578957e+01],\n",
              "       [ 1.32481418e+02,  1.20633075e+02,  8.92546050e+01,\n",
              "        -1.46486252e+01, -2.96869865e+01],\n",
              "       [ 1.46426977e+02,  1.33827262e+02,  1.27225126e+02,\n",
              "         7.23729273e+01,  7.02993719e+01],\n",
              "       [-1.05110079e+02, -9.31715419e+01, -6.17279344e+01,\n",
              "        -1.19676918e+02, -8.56087660e+01],\n",
              "       [ 5.90107496e+01,  3.06056036e+01,  1.20431288e+02,\n",
              "        -1.03602184e+01,  2.85836000e+01],\n",
              "       [-3.90487139e+01, -5.19995010e+01, -5.81351139e+01,\n",
              "        -4.33399445e+01, -3.92466431e+00],\n",
              "       [-6.80703985e+01, -5.78025718e+01, -2.89219819e+01,\n",
              "        -7.35441244e+01, -1.79558109e+01],\n",
              "       [ 1.15020577e+02,  9.16119279e+01,  7.02137793e+01,\n",
              "         1.31441936e+02,  1.20564325e+02],\n",
              "       [-1.03998855e+02, -8.95788917e+01, -1.26292370e+02,\n",
              "        -1.52495391e+02, -5.27348787e+01],\n",
              "       [-3.69333448e+01, -2.23046848e+01, -1.34533371e+02,\n",
              "         1.15088533e+02,  1.97120819e+01],\n",
              "       [ 8.75097647e+00,  1.58698254e+01, -2.98838734e+01,\n",
              "         3.13017610e+01,  1.37471651e+01],\n",
              "       [-1.23265766e+01,  2.56437620e+01, -1.31210675e+02,\n",
              "         2.13719260e+02,  4.34913028e+01],\n",
              "       [-1.73333741e+02, -1.40841393e+02, -1.98968384e+02,\n",
              "        -3.48896145e+01, -4.40152522e+01],\n",
              "       [ 6.38382334e+01,  5.93131403e+01,  2.16939948e+01,\n",
              "         1.29076862e+02,  1.07593505e+02],\n",
              "       [-1.61042331e+02, -1.60896344e+02, -1.88649853e+02,\n",
              "        -3.00841111e+02, -1.35801264e+02],\n",
              "       [ 2.99530083e+02,  2.73566787e+02,  3.03811396e+02,\n",
              "         2.11078910e+02,  9.60900807e+01],\n",
              "       [ 1.39413621e+02,  9.33319733e+01,  2.28925175e+02,\n",
              "        -1.43987237e+02,  3.59085809e+01],\n",
              "       [ 5.74688066e+01,  4.50516388e+01,  1.00843818e+02,\n",
              "         2.89442525e+00, -1.30233967e+01],\n",
              "       [ 1.94496085e+02,  1.92251230e+02,  9.43447837e+01,\n",
              "         2.10855964e+02,  1.74447186e+01],\n",
              "       [ 3.59451420e+01,  7.78855201e+00,  5.06770594e+01,\n",
              "        -9.13538263e+00,  4.12020478e+01],\n",
              "       [-1.13220534e+02, -9.12551534e+01, -1.67930181e+01,\n",
              "         6.08776759e+01, -2.94929274e+01]])"
            ]
          },
          "metadata": {},
          "execution_count": 45
        }
      ],
      "source": [
        "y"
      ]
    },
    {
      "cell_type": "markdown",
      "metadata": {
        "id": "bR9Rllmtw0pd"
      },
      "source": [
        "Since we generated multi-output target with 5 outputs, the output has shape `(100, 5)`."
      ]
    },
    {
      "cell_type": "markdown",
      "metadata": {
        "id": "AzmTfT6exhur"
      },
      "source": [
        "## `make_classification`\n",
        "\n",
        "Generate a random $n$-class classification problem set up."
      ]
    },
    {
      "cell_type": "code",
      "execution_count": null,
      "metadata": {
        "id": "VYeWjwchydoC"
      },
      "outputs": [],
      "source": [
        "from sklearn.datasets import make_classification\n",
        "# ?make_classification"
      ]
    },
    {
      "cell_type": "markdown",
      "metadata": {
        "id": "XRlXwE4wyo1w"
      },
      "source": [
        "Let's generate a binary classification problem with 10 features and 100 samples."
      ]
    },
    {
      "cell_type": "code",
      "execution_count": null,
      "metadata": {
        "id": "A5QwoA2YywMz"
      },
      "outputs": [],
      "source": [
        "X, y = make_classification(n_samples=100, n_features=10, n_classes=2, n_clusters_per_class=1, random_state=42)"
      ]
    },
    {
      "cell_type": "markdown",
      "metadata": {
        "id": "NB_irsHDzJXt"
      },
      "source": [
        "Let's examine the shapes of feature matrix and label vector."
      ]
    },
    {
      "cell_type": "code",
      "execution_count": null,
      "metadata": {
        "colab": {
          "base_uri": "https://localhost:8080/"
        },
        "id": "_w_CSWa1zI7V",
        "outputId": "0c7913eb-7ded-4cbb-c643-e87e9317d23c"
      },
      "outputs": [
        {
          "data": {
            "text/plain": [
              "(100, 10)"
            ]
          },
          "execution_count": 211,
          "metadata": {},
          "output_type": "execute_result"
        }
      ],
      "source": [
        "X.shape"
      ]
    },
    {
      "cell_type": "code",
      "execution_count": null,
      "metadata": {
        "colab": {
          "base_uri": "https://localhost:8080/"
        },
        "id": "CjB4AfDlzSvQ",
        "outputId": "53b042bc-749c-4d15-c48c-b1c91621f0a1"
      },
      "outputs": [
        {
          "data": {
            "text/plain": [
              "(100,)"
            ]
          },
          "execution_count": 212,
          "metadata": {},
          "output_type": "execute_result"
        }
      ],
      "source": [
        "y.shape"
      ]
    },
    {
      "cell_type": "markdown",
      "metadata": {
        "id": "8iuFSsT3zWT3"
      },
      "source": [
        "Look at a few examples and their labels."
      ]
    },
    {
      "cell_type": "code",
      "execution_count": null,
      "metadata": {
        "colab": {
          "base_uri": "https://localhost:8080/"
        },
        "id": "H1WOqJ88zc13",
        "outputId": "beaffdc6-3750-4286-bb28-8bbbe5494d92"
      },
      "outputs": [
        {
          "data": {
            "text/plain": [
              "array([[ 0.11422765, -1.71016839, -0.06822216, -0.14928517,  0.30780177,\n",
              "         0.15030176, -0.05694562, -0.22595246, -0.36361221, -0.13818757],\n",
              "       [ 0.70775194, -1.57022472, -0.23503183, -0.63604713,  0.62180996,\n",
              "        -0.56246678,  0.97255445, -0.77719676,  0.63240774, -0.47809669],\n",
              "       [ 0.63859246,  0.04739867,  0.33273433,  1.1046981 , -0.65183611,\n",
              "        -1.66152006, -1.2110162 ,  1.09821151, -0.0660798 ,  0.68024225],\n",
              "       [-0.23894805, -0.97755524,  0.0379061 ,  0.19896733,  0.50091719,\n",
              "        -0.90756366,  0.75539123,  0.12437227, -0.57677133,  0.07871283],\n",
              "       [-0.59239392, -0.05023811,  0.17573204, -1.43949185,  0.27045683,\n",
              "        -0.86399077, -0.83095012,  0.60046915,  0.04852163,  0.32557953]])"
            ]
          },
          "execution_count": 213,
          "metadata": {},
          "output_type": "execute_result"
        }
      ],
      "source": [
        "X[:5]"
      ]
    },
    {
      "cell_type": "code",
      "execution_count": null,
      "metadata": {
        "colab": {
          "base_uri": "https://localhost:8080/"
        },
        "id": "TELLpHNEzgMX",
        "outputId": "c01263dc-ef1e-4063-eac5-c05153f80abf"
      },
      "outputs": [
        {
          "data": {
            "text/plain": [
              "array([1, 1, 1, 1, 0])"
            ]
          },
          "execution_count": 214,
          "metadata": {},
          "output_type": "execute_result"
        }
      ],
      "source": [
        "y[:5]"
      ]
    },
    {
      "cell_type": "markdown",
      "metadata": {
        "id": "V3PWpe-Rzt5Y"
      },
      "source": [
        "Let's generate a three class classification problem with 100 samples and 10 features."
      ]
    },
    {
      "cell_type": "code",
      "execution_count": null,
      "metadata": {
        "id": "ROmS3Lz8znzw"
      },
      "outputs": [],
      "source": [
        "X, y = make_classification(n_samples=100, n_features=10, n_classes=3, n_clusters_per_class=1, random_state=42)"
      ]
    },
    {
      "cell_type": "code",
      "source": [
        "X, y = make_classification(n_samples=100,\n",
        "                           n_features=2,\n",
        "                           n_redundant=0,\n",
        "                           n_informative=2,\n",
        "                           n_classes=2,\n",
        "                           n_clusters_per_class=1,\n",
        "                           random_state=42)"
      ],
      "metadata": {
        "id": "TvriXjvhA3hS"
      },
      "execution_count": null,
      "outputs": []
    },
    {
      "cell_type": "code",
      "source": [
        "import matplotlib.pyplot as plt"
      ],
      "metadata": {
        "id": "bhQh8NV4BFjH"
      },
      "execution_count": null,
      "outputs": []
    },
    {
      "cell_type": "code",
      "source": [
        "y.shape, set(y)"
      ],
      "metadata": {
        "colab": {
          "base_uri": "https://localhost:8080/"
        },
        "id": "SnP3lOIWCUYT",
        "outputId": "2ccd0828-a87e-428d-89aa-5c1e180ebbe5"
      },
      "execution_count": null,
      "outputs": [
        {
          "output_type": "execute_result",
          "data": {
            "text/plain": [
              "((100,), {0, 1})"
            ]
          },
          "metadata": {},
          "execution_count": 68
        }
      ]
    },
    {
      "cell_type": "code",
      "source": [
        "y_colour  = ['r' if i==0 else 'b' for i in y]"
      ],
      "metadata": {
        "id": "6-DSffxGBrn6"
      },
      "execution_count": null,
      "outputs": []
    },
    {
      "cell_type": "code",
      "source": [
        "plt.scatter(X[:,0], X[:,1],\n",
        "            color = y_colour)"
      ],
      "metadata": {
        "colab": {
          "base_uri": "https://localhost:8080/",
          "height": 448
        },
        "id": "2jorWE_zBbkW",
        "outputId": "c714f779-ad02-40fe-d989-9891a1f3e2dc"
      },
      "execution_count": null,
      "outputs": [
        {
          "output_type": "execute_result",
          "data": {
            "text/plain": [
              "<matplotlib.collections.PathCollection at 0x7f2cd714fa00>"
            ]
          },
          "metadata": {},
          "execution_count": 65
        },
        {
          "output_type": "display_data",
          "data": {
            "text/plain": [
              "<Figure size 640x480 with 1 Axes>"
            ],
            "image/png": "[encoded data removed]"
          },
          "metadata": {}
        }
      ]
    },
    {
      "cell_type": "markdown",
      "metadata": {
        "id": "b5CDRJ45z48k"
      },
      "source": [
        "Let's examine shapes of feature matrix and labels."
      ]
    },
    {
      "cell_type": "code",
      "execution_count": null,
      "metadata": {
        "colab": {
          "base_uri": "https://localhost:8080/"
        },
        "id": "0TqZGtrHzyqa",
        "outputId": "9067f5c5-9adf-4c69-bb0e-19f2c7ff7ca4"
      },
      "outputs": [
        {
          "data": {
            "text/plain": [
              "(100, 10)"
            ]
          },
          "execution_count": 216,
          "metadata": {},
          "output_type": "execute_result"
        }
      ],
      "source": [
        "X.shape"
      ]
    },
    {
      "cell_type": "code",
      "execution_count": null,
      "metadata": {
        "colab": {
          "base_uri": "https://localhost:8080/"
        },
        "id": "o8ZLsfRNz0Bw",
        "outputId": "7f85816e-f65e-4ba8-fe08-72df282dbefe"
      },
      "outputs": [
        {
          "data": {
            "text/plain": [
              "(100,)"
            ]
          },
          "execution_count": 217,
          "metadata": {},
          "output_type": "execute_result"
        }
      ],
      "source": [
        "y.shape"
      ]
    },
    {
      "cell_type": "markdown",
      "metadata": {
        "id": "CqXb7ahT0AFh"
      },
      "source": [
        "Let's look at a few examples - features and labels."
      ]
    },
    {
      "cell_type": "code",
      "execution_count": null,
      "metadata": {
        "colab": {
          "base_uri": "https://localhost:8080/"
        },
        "id": "lr8GyM2r0GmL",
        "outputId": "1f69493e-e90d-4d9b-cdd3-f71694b1b332"
      },
      "outputs": [
        {
          "data": {
            "text/plain": [
              "array([[-0.58351628, -1.73833907, -1.37298251, -1.77311485,  0.45918008,\n",
              "         0.83392215, -1.66096093,  0.20768769, -0.07016571,  0.42961822],\n",
              "       [-1.0044394 , -1.43862044,  0.47335819, -0.21188291,  0.0125924 ,\n",
              "         0.22409248, -0.77300978,  0.49799829,  0.0976761 ,  0.02451017],\n",
              "       [ 0.07740833,  0.19896733,  0.12437227,  0.17738132, -0.97755524,\n",
              "         0.50091719,  0.75138712,  0.54336019,  0.09933231, -1.66940528],\n",
              "       [-0.91759569, -0.9609536 ,  1.07746664,  0.4522739 , -0.32138584,\n",
              "        -0.8254972 , -0.56372455,  0.24368721,  0.41293145, -0.8222204 ],\n",
              "       [-0.96222828, -0.96090774,  1.21530116,  0.55980482, -1.24778318,\n",
              "        -0.25256815, -1.43014138,  0.13074058,  1.6324113 , -0.44004449]])"
            ]
          },
          "execution_count": 218,
          "metadata": {},
          "output_type": "execute_result"
        }
      ],
      "source": [
        "X[:5]"
      ]
    },
    {
      "cell_type": "code",
      "execution_count": null,
      "metadata": {
        "colab": {
          "base_uri": "https://localhost:8080/"
        },
        "id": "mEghbrdpz1Z4",
        "outputId": "384e4c78-ef4b-41ea-d318-4c659e512955"
      },
      "outputs": [
        {
          "data": {
            "text/plain": [
              "array([2, 0, 1, 0, 0])"
            ]
          },
          "execution_count": 219,
          "metadata": {},
          "output_type": "execute_result"
        }
      ],
      "source": [
        "y[:5]"
      ]
    },
    {
      "cell_type": "markdown",
      "metadata": {
        "id": "ODMcFEhd0QEi"
      },
      "source": [
        "## `make_multilabel_classification`\n",
        "\n",
        "This function helps us generating a random multi-label classification problem."
      ]
    },
    {
      "cell_type": "code",
      "execution_count": null,
      "metadata": {
        "id": "MiVoOEiq5Zmq"
      },
      "outputs": [],
      "source": [
        "from sklearn.datasets import make_multilabel_classification\n",
        "# ?make_multilabel_classification"
      ]
    },
    {
      "cell_type": "markdown",
      "metadata": {
        "id": "EFIxZDWQ5m7b"
      },
      "source": [
        "Let's generate a multilabel classification problem with 100 samples, 10 features, 5 labels and on an average 2 labels per example."
      ]
    },
    {
      "cell_type": "code",
      "execution_count": null,
      "metadata": {
        "id": "XaPxYC8Y5vHE"
      },
      "outputs": [],
      "source": [
        "X, y = make_multilabel_classification(n_samples=100, n_features=20, n_classes=5, n_labels=2)"
      ]
    },
    {
      "cell_type": "markdown",
      "metadata": {
        "id": "lU2rKz7h6D71"
      },
      "source": [
        "First of all, let's examine shapes of feature matrix and label vector."
      ]
    },
    {
      "cell_type": "code",
      "execution_count": null,
      "metadata": {
        "colab": {
          "base_uri": "https://localhost:8080/"
        },
        "id": "_j71ETA56AnV",
        "outputId": "a7bcfe60-3ac1-4608-bf1e-478d9000c3a5"
      },
      "outputs": [
        {
          "output_type": "execute_result",
          "data": {
            "text/plain": [
              "(100, 20)"
            ]
          },
          "metadata": {},
          "execution_count": 71
        }
      ],
      "source": [
        "X.shape"
      ]
    },
    {
      "cell_type": "code",
      "execution_count": null,
      "metadata": {
        "colab": {
          "base_uri": "https://localhost:8080/"
        },
        "id": "JkToULp76CHW",
        "outputId": "3808bc96-792f-4ad1-b9f0-0fff65154ad7"
      },
      "outputs": [
        {
          "output_type": "execute_result",
          "data": {
            "text/plain": [
              "(100, 5)"
            ]
          },
          "metadata": {},
          "execution_count": 72
        }
      ],
      "source": [
        "y.shape"
      ]
    },
    {
      "cell_type": "code",
      "source": [
        "y[:5,:]"
      ],
      "metadata": {
        "colab": {
          "base_uri": "https://localhost:8080/"
        },
        "id": "uWKxDU8YCtOw",
        "outputId": "f2cca760-3a88-4daa-b8e3-9a17c2119c18"
      },
      "execution_count": null,
      "outputs": [
        {
          "output_type": "execute_result",
          "data": {
            "text/plain": [
              "array([[1, 1, 0, 0, 0],\n",
              "       [0, 0, 0, 0, 0],\n",
              "       [1, 1, 0, 1, 0],\n",
              "       [1, 1, 0, 0, 0],\n",
              "       [1, 0, 0, 0, 0]])"
            ]
          },
          "metadata": {},
          "execution_count": 73
        }
      ]
    },
    {
      "cell_type": "markdown",
      "metadata": {
        "id": "ExHH-52u6KEe"
      },
      "source": [
        "Let's examine a few rows of feature matrix and label matrix."
      ]
    },
    {
      "cell_type": "code",
      "execution_count": null,
      "metadata": {
        "colab": {
          "base_uri": "https://localhost:8080/"
        },
        "id": "EpQeVgkD6ODW",
        "outputId": "9f1950f8-6c05-46d9-9c10-0e0b76886307"
      },
      "outputs": [
        {
          "data": {
            "text/plain": [
              "array([[ 1.,  4.,  2.,  0.,  0.,  2.,  2.,  3.,  4.,  3.,  5.,  0.,  2.,\n",
              "         5.,  3.,  1.,  1.,  0.,  2.,  7.],\n",
              "       [ 4.,  1.,  2.,  0.,  3.,  1.,  2.,  2.,  2.,  2.,  1.,  1.,  1.,\n",
              "         3.,  1.,  2.,  4.,  2.,  2.,  2.],\n",
              "       [ 0.,  1.,  4.,  0.,  2.,  1.,  4.,  0.,  6.,  2.,  4.,  2.,  1.,\n",
              "         0.,  5.,  0.,  5.,  5.,  1.,  7.],\n",
              "       [ 5.,  3.,  3.,  0.,  0.,  2.,  6.,  2., 10.,  0.,  2.,  2.,  2.,\n",
              "         0.,  4.,  0.,  5.,  5.,  5.,  3.],\n",
              "       [ 4.,  3.,  5.,  0.,  4.,  2.,  6.,  1.,  2.,  2.,  3.,  1.,  4.,\n",
              "         1.,  5.,  4.,  3.,  4.,  2.,  1.]])"
            ]
          },
          "execution_count": 224,
          "metadata": {},
          "output_type": "execute_result"
        }
      ],
      "source": [
        "X[:5]"
      ]
    },
    {
      "cell_type": "code",
      "execution_count": null,
      "metadata": {
        "colab": {
          "base_uri": "https://localhost:8080/"
        },
        "id": "XBmeY2eI6R8v",
        "outputId": "f34880d8-f60f-41ba-ccb2-4860284a3710"
      },
      "outputs": [
        {
          "data": {
            "text/plain": [
              "array([[1, 0, 1, 1, 0],\n",
              "       [1, 0, 1, 1, 0],\n",
              "       [1, 0, 0, 1, 0],\n",
              "       [0, 0, 0, 1, 0],\n",
              "       [0, 1, 0, 1, 1]])"
            ]
          },
          "execution_count": 225,
          "metadata": {},
          "output_type": "execute_result"
        }
      ],
      "source": [
        "y[:5]"
      ]
    },
    {
      "cell_type": "markdown",
      "metadata": {
        "id": "nm-n3v_V0lHN"
      },
      "source": [
        "## `make_blobs`\n",
        "\n",
        "`make_blobs` enables us to generate random data for clustering."
      ]
    },
    {
      "cell_type": "code",
      "execution_count": null,
      "metadata": {
        "id": "pGAFZA9B7X-M"
      },
      "outputs": [],
      "source": [
        "from sklearn.datasets import make_blobs\n",
        "# ?make_blobs"
      ]
    },
    {
      "cell_type": "markdown",
      "metadata": {
        "id": "XsYfdnT97uK3"
      },
      "source": [
        "Let's generate a random dataset of 10 samples with 2 features each for clustering."
      ]
    },
    {
      "cell_type": "code",
      "execution_count": null,
      "metadata": {
        "colab": {
          "base_uri": "https://localhost:8080/"
        },
        "id": "AU6fP-rX7uju",
        "outputId": "12c985b5-35ef-4afd-9b5c-80f3e36274ea"
      },
      "outputs": [
        {
          "output_type": "stream",
          "name": "stdout",
          "text": [
            "Feature matrix shape: (100, 2)\n",
            "Label shape: (100,)\n"
          ]
        }
      ],
      "source": [
        "X, y = make_blobs(n_samples=100, centers=3, n_features=2, random_state=42)\n",
        "print (\"Feature matrix shape:\", X.shape)\n",
        "print (\"Label shape:\", y.shape)"
      ]
    },
    {
      "cell_type": "markdown",
      "metadata": {
        "id": "tYY94Ppo8LQC"
      },
      "source": [
        "We can find the cluster membership of each point in `y`."
      ]
    },
    {
      "cell_type": "code",
      "execution_count": null,
      "metadata": {
        "colab": {
          "base_uri": "https://localhost:8080/"
        },
        "id": "Kb3d52Ke8Rya",
        "outputId": "8bd2f1ee-8f78-4e97-e192-00e75defaa60"
      },
      "outputs": [
        {
          "data": {
            "text/plain": [
              "array([2, 2, 1, 2, 0, 0, 0, 1, 1, 0])"
            ]
          },
          "execution_count": 228,
          "metadata": {},
          "output_type": "execute_result"
        }
      ],
      "source": [
        "y"
      ]
    },
    {
      "cell_type": "code",
      "source": [
        "plt.scatter(X[:,0], X[:,1])\n",
        "y_colour = np.zeros_like(y)\n",
        "y_colour[y_colour==0] = 'r'\n",
        "y_colour[y_colour==1] = 'g'\n",
        "y_colour[y_colour==2] = 'b'\n"
      ],
      "metadata": {
        "colab": {
          "base_uri": "https://localhost:8080/",
          "height": 665
        },
        "id": "8M7HKXMTDJx7",
        "outputId": "b0d6ed78-6208-47e2-ec24-378e69571493"
      },
      "execution_count": null,
      "outputs": [
        {
          "output_type": "error",
          "ename": "ValueError",
          "evalue": "invalid literal for int() with base 10: 'r'",
          "traceback": [
            "\u001b[0;31m---------------------------------------------------------------------------\u001b[0m",
            "\u001b[0;31mValueError\u001b[0m                                Traceback (most recent call last)",
            "\u001b[0;32m<ipython-input-85-6889b0c2736d>\u001b[0m in \u001b[0;36m<cell line: 3>\u001b[0;34m()\u001b[0m\n\u001b[1;32m      1\u001b[0m \u001b[0mplt\u001b[0m\u001b[0;34m.\u001b[0m\u001b[0mscatter\u001b[0m\u001b[0;34m(\u001b[0m\u001b[0mX\u001b[0m\u001b[0;34m[\u001b[0m\u001b[0;34m:\u001b[0m\u001b[0;34m,\u001b[0m\u001b[0;36m0\u001b[0m\u001b[0;34m]\u001b[0m\u001b[0;34m,\u001b[0m \u001b[0mX\u001b[0m\u001b[0;34m[\u001b[0m\u001b[0;34m:\u001b[0m\u001b[0;34m,\u001b[0m\u001b[0;36m1\u001b[0m\u001b[0;34m]\u001b[0m\u001b[0;34m)\u001b[0m\u001b[0;34m\u001b[0m\u001b[0;34m\u001b[0m\u001b[0m\n\u001b[1;32m      2\u001b[0m \u001b[0my_colour\u001b[0m \u001b[0;34m=\u001b[0m \u001b[0mnp\u001b[0m\u001b[0;34m.\u001b[0m\u001b[0mzeros_like\u001b[0m\u001b[0;34m(\u001b[0m\u001b[0my\u001b[0m\u001b[0;34m)\u001b[0m\u001b[0;34m\u001b[0m\u001b[0;34m\u001b[0m\u001b[0m\n\u001b[0;32m----> 3\u001b[0;31m \u001b[0my_colour\u001b[0m\u001b[0;34m[\u001b[0m\u001b[0my_colour\u001b[0m\u001b[0;34m==\u001b[0m\u001b[0;36m0\u001b[0m\u001b[0;34m]\u001b[0m \u001b[0;34m=\u001b[0m \u001b[0;34m'r'\u001b[0m\u001b[0;34m\u001b[0m\u001b[0;34m\u001b[0m\u001b[0m\n\u001b[0m\u001b[1;32m      4\u001b[0m \u001b[0my_colour\u001b[0m\u001b[0;34m[\u001b[0m\u001b[0my_colour\u001b[0m\u001b[0;34m==\u001b[0m\u001b[0;36m1\u001b[0m\u001b[0;34m]\u001b[0m \u001b[0;34m=\u001b[0m \u001b[0;34m'g'\u001b[0m\u001b[0;34m\u001b[0m\u001b[0;34m\u001b[0m\u001b[0m\n\u001b[1;32m      5\u001b[0m \u001b[0my_colour\u001b[0m\u001b[0;34m[\u001b[0m\u001b[0my_colour\u001b[0m\u001b[0;34m==\u001b[0m\u001b[0;36m2\u001b[0m\u001b[0;34m]\u001b[0m \u001b[0;34m=\u001b[0m \u001b[0;34m'b'\u001b[0m\u001b[0;34m\u001b[0m\u001b[0;34m\u001b[0m\u001b[0m\n",
            "\u001b[0;31mValueError\u001b[0m: invalid literal for int() with base 10: 'r'"
          ]
        },
        {
          "output_type": "display_data",
          "data": {
            "text/plain": [
              "<Figure size 640x480 with 1 Axes>"
            ],
            "image/png": "[encoded data removed]"
          },
          "metadata": {}
        }
      ]
    },
    {
      "cell_type": "code",
      "source": [
        "lambda"
      ],
      "metadata": {
        "id": "JoL9oxc3EjL_"
      },
      "execution_count": null,
      "outputs": []
    },
    {
      "cell_type": "code",
      "source": [
        "import numpy as np"
      ],
      "metadata": {
        "id": "fFEkiV1dDjYA"
      },
      "execution_count": null,
      "outputs": []
    },
    {
      "cell_type": "code",
      "source": [
        "np.zeros_like(y)"
      ],
      "metadata": {
        "colab": {
          "base_uri": "https://localhost:8080/"
        },
        "id": "DHkZxw-sDoBE",
        "outputId": "3b257b72-4379-4569-8be8-56626f795c01"
      },
      "execution_count": null,
      "outputs": [
        {
          "output_type": "execute_result",
          "data": {
            "text/plain": [
              "array([0, 0, 0, 0, 0, 0, 0, 0, 0, 0])"
            ]
          },
          "metadata": {},
          "execution_count": 81
        }
      ]
    }
  ],
  "metadata": {
    "colab": {
      "provenance": [],
      "include_colab_link": true
    },
    "kernelspec": {
      "display_name": "Python 3 (ipykernel)",
      "language": "python",
      "name": "python3"
    },
    "language_info": {
      "codemirror_mode": {
        "name": "ipython",
        "version": 3
      },
      "file_extension": ".py",
      "mimetype": "text/x-python",
      "name": "python",
      "nbconvert_exporter": "python",
      "pygments_lexer": "ipython3",
      "version": "3.9.16"
    }
  },
  "nbformat": 4,
  "nbformat_minor": 0
}